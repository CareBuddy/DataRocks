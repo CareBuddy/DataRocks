{
 "cells": [
  {
   "cell_type": "code",
   "execution_count": 1,
   "metadata": {},
   "outputs": [],
   "source": [
    "# modified from https://kyso.io/eoin/democracy-vs-gdp-per-capita\n",
    "\n",
    "gdp_link = 'http://api.worldbank.org/v2/en/indicator/NY.GDP.PCAP.CD?downloadformat=excel'\n",
    "eiu_link = 'http://www.gapm.io/dxlsdemocrix'"
   ]
  },
  {
   "cell_type": "code",
   "execution_count": 2,
   "metadata": {},
   "outputs": [],
   "source": [
    "import os\n",
    "import requests\n",
    "\n",
    "def download(url, filename):\n",
    "    r = requests.get(url)\n",
    "    f = open(filename, 'wb')\n",
    "    for chunk in r.iter_content(chunk_size=512 * 1024): \n",
    "        if chunk: # filter out keep-alive new chunks\n",
    "            f.write(chunk)\n",
    "    f.close()\n",
    "    return\n",
    "\n",
    "def download_if_not_exists(url, filename):\n",
    "    if os.path.exists(filename):\n",
    "        return\n",
    "    download(url, filename)"
   ]
  },
  {
   "cell_type": "code",
   "execution_count": 3,
   "metadata": {},
   "outputs": [],
   "source": [
    "download_if_not_exists(gdp_link, '/tmp/gdp.xls')\n",
    "download_if_not_exists(eiu_link, '/tmp/eiu.xls')"
   ]
  },
  {
   "cell_type": "code",
   "execution_count": 4,
   "metadata": {},
   "outputs": [],
   "source": [
    "%%capture\n",
    "!pip install xlrd"
   ]
  },
  {
   "cell_type": "code",
   "execution_count": 5,
   "metadata": {},
   "outputs": [],
   "source": [
    "import pandas as pd\n",
    "\n",
    "df_gdp = pd.read_excel('/tmp/gdp.xls', skiprows=3)\n",
    "df_gdp = df_gdp.set_index('Country Name')\n",
    "\n",
    "df_dem = pd.read_excel('/tmp/eiu.xls', sheet_name='data-for-countries-etc-by-year')"
   ]
  },
  {
   "cell_type": "code",
   "execution_count": 6,
   "metadata": {},
   "outputs": [],
   "source": [
    "df_dem['Country Code'] = list(map(lambda x: str(x).upper(), df_dem['geo']))"
   ]
  },
  {
   "cell_type": "code",
   "execution_count": 7,
   "metadata": {},
   "outputs": [],
   "source": [
    "year = 2018\n",
    "year_str = '{}'.format(year)"
   ]
  },
  {
   "cell_type": "code",
   "execution_count": 8,
   "metadata": {},
   "outputs": [],
   "source": [
    "df_dem = df_dem[df_dem['time'] == year][['Democracy index (EIU)', 'Country Code']]"
   ]
  },
  {
   "cell_type": "code",
   "execution_count": 9,
   "metadata": {},
   "outputs": [],
   "source": [
    "df = df_gdp[['Country Code', year_str]]\n",
    "df = pd.merge(df, df_dem, on=\"Country Code\", right_index=True)\n",
    "df = df.rename(columns={ year_str: 'GDP Per Capita' })"
   ]
  },
  {
   "cell_type": "code",
   "execution_count": 10,
   "metadata": {
    "scrolled": true
   },
   "outputs": [
    {
     "data": {
      "text/html": [
       "<div>\n",
       "<style scoped>\n",
       "    .dataframe tbody tr th:only-of-type {\n",
       "        vertical-align: middle;\n",
       "    }\n",
       "\n",
       "    .dataframe tbody tr th {\n",
       "        vertical-align: top;\n",
       "    }\n",
       "\n",
       "    .dataframe thead th {\n",
       "        text-align: right;\n",
       "    }\n",
       "</style>\n",
       "<table border=\"1\" class=\"dataframe\">\n",
       "  <thead>\n",
       "    <tr style=\"text-align: right;\">\n",
       "      <th></th>\n",
       "      <th>Country Code</th>\n",
       "      <th>GDP Per Capita</th>\n",
       "      <th>Democracy index (EIU)</th>\n",
       "    </tr>\n",
       "    <tr>\n",
       "      <th>Country Name</th>\n",
       "      <th></th>\n",
       "      <th></th>\n",
       "      <th></th>\n",
       "    </tr>\n",
       "  </thead>\n",
       "  <tbody>\n",
       "    <tr>\n",
       "      <th>Afghanistan</th>\n",
       "      <td>AFG</td>\n",
       "      <td>520.896603</td>\n",
       "      <td>29.7</td>\n",
       "    </tr>\n",
       "    <tr>\n",
       "      <th>Angola</th>\n",
       "      <td>AGO</td>\n",
       "      <td>3432.385736</td>\n",
       "      <td>36.2</td>\n",
       "    </tr>\n",
       "    <tr>\n",
       "      <th>Albania</th>\n",
       "      <td>ALB</td>\n",
       "      <td>5253.630064</td>\n",
       "      <td>59.8</td>\n",
       "    </tr>\n",
       "    <tr>\n",
       "      <th>United Arab Emirates</th>\n",
       "      <td>ARE</td>\n",
       "      <td>43004.948646</td>\n",
       "      <td>27.6</td>\n",
       "    </tr>\n",
       "    <tr>\n",
       "      <th>Argentina</th>\n",
       "      <td>ARG</td>\n",
       "      <td>11652.566290</td>\n",
       "      <td>70.2</td>\n",
       "    </tr>\n",
       "  </tbody>\n",
       "</table>\n",
       "</div>"
      ],
      "text/plain": [
       "                     Country Code  GDP Per Capita  Democracy index (EIU)\n",
       "Country Name                                                            \n",
       "Afghanistan                   AFG      520.896603                   29.7\n",
       "Angola                        AGO     3432.385736                   36.2\n",
       "Albania                       ALB     5253.630064                   59.8\n",
       "United Arab Emirates          ARE    43004.948646                   27.6\n",
       "Argentina                     ARG    11652.566290                   70.2"
      ]
     },
     "execution_count": 10,
     "metadata": {},
     "output_type": "execute_result"
    }
   ],
   "source": [
    "df.head()"
   ]
  },
  {
   "cell_type": "code",
   "execution_count": 11,
   "metadata": {},
   "outputs": [
    {
     "data": {
      "text/html": [
       "<div>\n",
       "<style scoped>\n",
       "    .dataframe tbody tr th:only-of-type {\n",
       "        vertical-align: middle;\n",
       "    }\n",
       "\n",
       "    .dataframe tbody tr th {\n",
       "        vertical-align: top;\n",
       "    }\n",
       "\n",
       "    .dataframe thead th {\n",
       "        text-align: right;\n",
       "    }\n",
       "</style>\n",
       "<table border=\"1\" class=\"dataframe\">\n",
       "  <thead>\n",
       "    <tr style=\"text-align: right;\">\n",
       "      <th></th>\n",
       "      <th>Country Code</th>\n",
       "      <th>Indicator Name</th>\n",
       "      <th>Indicator Code</th>\n",
       "      <th>1960</th>\n",
       "      <th>1961</th>\n",
       "      <th>1962</th>\n",
       "      <th>1963</th>\n",
       "      <th>1964</th>\n",
       "      <th>1965</th>\n",
       "      <th>1966</th>\n",
       "      <th>...</th>\n",
       "      <th>2009</th>\n",
       "      <th>2010</th>\n",
       "      <th>2011</th>\n",
       "      <th>2012</th>\n",
       "      <th>2013</th>\n",
       "      <th>2014</th>\n",
       "      <th>2015</th>\n",
       "      <th>2016</th>\n",
       "      <th>2017</th>\n",
       "      <th>2018</th>\n",
       "    </tr>\n",
       "    <tr>\n",
       "      <th>Country Name</th>\n",
       "      <th></th>\n",
       "      <th></th>\n",
       "      <th></th>\n",
       "      <th></th>\n",
       "      <th></th>\n",
       "      <th></th>\n",
       "      <th></th>\n",
       "      <th></th>\n",
       "      <th></th>\n",
       "      <th></th>\n",
       "      <th></th>\n",
       "      <th></th>\n",
       "      <th></th>\n",
       "      <th></th>\n",
       "      <th></th>\n",
       "      <th></th>\n",
       "      <th></th>\n",
       "      <th></th>\n",
       "      <th></th>\n",
       "      <th></th>\n",
       "      <th></th>\n",
       "    </tr>\n",
       "  </thead>\n",
       "  <tbody>\n",
       "    <tr>\n",
       "      <th>China</th>\n",
       "      <td>CHN</td>\n",
       "      <td>GDP per capita (current US$)</td>\n",
       "      <td>NY.GDP.PCAP.CD</td>\n",
       "      <td>89.520542</td>\n",
       "      <td>75.805838</td>\n",
       "      <td>70.909412</td>\n",
       "      <td>74.313643</td>\n",
       "      <td>85.498555</td>\n",
       "      <td>98.486778</td>\n",
       "      <td>104.324566</td>\n",
       "      <td>...</td>\n",
       "      <td>3832.235952</td>\n",
       "      <td>4550.453596</td>\n",
       "      <td>5618.132491</td>\n",
       "      <td>6316.918863</td>\n",
       "      <td>7050.64592</td>\n",
       "      <td>7651.366044</td>\n",
       "      <td>8033.388043</td>\n",
       "      <td>8078.790474</td>\n",
       "      <td>8759.041578</td>\n",
       "      <td>9770.847088</td>\n",
       "    </tr>\n",
       "  </tbody>\n",
       "</table>\n",
       "<p>1 rows × 62 columns</p>\n",
       "</div>"
      ],
      "text/plain": [
       "             Country Code                Indicator Name  Indicator Code  \\\n",
       "Country Name                                                              \n",
       "China                 CHN  GDP per capita (current US$)  NY.GDP.PCAP.CD   \n",
       "\n",
       "                   1960       1961       1962       1963       1964  \\\n",
       "Country Name                                                          \n",
       "China         89.520542  75.805838  70.909412  74.313643  85.498555   \n",
       "\n",
       "                   1965        1966     ...              2009         2010  \\\n",
       "Country Name                            ...                                  \n",
       "China         98.486778  104.324566     ...       3832.235952  4550.453596   \n",
       "\n",
       "                     2011         2012        2013         2014         2015  \\\n",
       "Country Name                                                                   \n",
       "China         5618.132491  6316.918863  7050.64592  7651.366044  8033.388043   \n",
       "\n",
       "                     2016         2017         2018  \n",
       "Country Name                                         \n",
       "China         8078.790474  8759.041578  9770.847088  \n",
       "\n",
       "[1 rows x 62 columns]"
      ]
     },
     "execution_count": 11,
     "metadata": {},
     "output_type": "execute_result"
    }
   ],
   "source": [
    "df_gdp[df_gdp['Country Code'] == 'CHN']"
   ]
  },
  {
   "cell_type": "code",
   "execution_count": 12,
   "metadata": {},
   "outputs": [
    {
     "data": {
      "text/html": [
       "<div>\n",
       "<style scoped>\n",
       "    .dataframe tbody tr th:only-of-type {\n",
       "        vertical-align: middle;\n",
       "    }\n",
       "\n",
       "    .dataframe tbody tr th {\n",
       "        vertical-align: top;\n",
       "    }\n",
       "\n",
       "    .dataframe thead th {\n",
       "        text-align: right;\n",
       "    }\n",
       "</style>\n",
       "<table border=\"1\" class=\"dataframe\">\n",
       "  <thead>\n",
       "    <tr style=\"text-align: right;\">\n",
       "      <th></th>\n",
       "      <th>Democracy index (EIU)</th>\n",
       "      <th>Country Code</th>\n",
       "    </tr>\n",
       "  </thead>\n",
       "  <tbody>\n",
       "    <tr>\n",
       "      <th>1884</th>\n",
       "      <td>77.3</td>\n",
       "      <td>TWN</td>\n",
       "    </tr>\n",
       "  </tbody>\n",
       "</table>\n",
       "</div>"
      ],
      "text/plain": [
       "      Democracy index (EIU) Country Code\n",
       "1884                   77.3          TWN"
      ]
     },
     "execution_count": 12,
     "metadata": {},
     "output_type": "execute_result"
    }
   ],
   "source": [
    "df_dem[df_dem['Country Code'] == 'TWN']"
   ]
  },
  {
   "cell_type": "code",
   "execution_count": 13,
   "metadata": {},
   "outputs": [],
   "source": [
    "%%capture\n",
    "!pip install country_converter --upgrade\n",
    "!pip install cufflinks --upgrade"
   ]
  },
  {
   "cell_type": "code",
   "execution_count": 14,
   "metadata": {},
   "outputs": [
    {
     "data": {
      "text/html": [
       "        <script type=\"text/javascript\">\n",
       "        window.PlotlyConfig = {MathJaxConfig: 'local'};\n",
       "        if (window.MathJax) {MathJax.Hub.Config({SVG: {font: \"STIX-Web\"}});}\n",
       "        if (typeof require !== 'undefined') {\n",
       "        require.undef(\"plotly\");\n",
       "        requirejs.config({\n",
       "            paths: {\n",
       "                'plotly': ['https://cdn.plot.ly/plotly-latest.min']\n",
       "            }\n",
       "        });\n",
       "        require(['plotly'], function(Plotly) {\n",
       "            window._Plotly = Plotly;\n",
       "        });\n",
       "        }\n",
       "        </script>\n",
       "        "
      ]
     },
     "metadata": {},
     "output_type": "display_data"
    }
   ],
   "source": [
    "import country_converter as coco\n",
    "import numpy as np\n",
    "import cufflinks as cf\n",
    "from plotly.offline import init_notebook_mode, iplot"
   ]
  },
  {
   "cell_type": "code",
   "execution_count": 15,
   "metadata": {},
   "outputs": [
    {
     "data": {
      "text/html": [
       "        <script type=\"text/javascript\">\n",
       "        window.PlotlyConfig = {MathJaxConfig: 'local'};\n",
       "        if (window.MathJax) {MathJax.Hub.Config({SVG: {font: \"STIX-Web\"}});}\n",
       "        if (typeof require !== 'undefined') {\n",
       "        require.undef(\"plotly\");\n",
       "        requirejs.config({\n",
       "            paths: {\n",
       "                'plotly': ['https://cdn.plot.ly/plotly-latest.min']\n",
       "            }\n",
       "        });\n",
       "        require(['plotly'], function(Plotly) {\n",
       "            window._Plotly = Plotly;\n",
       "        });\n",
       "        }\n",
       "        </script>\n",
       "        "
      ]
     },
     "metadata": {},
     "output_type": "display_data"
    }
   ],
   "source": [
    "#init_notebook_mode(connected=True)\n",
    "cf.set_config_file(offline=True)"
   ]
  },
  {
   "cell_type": "code",
   "execution_count": 16,
   "metadata": {},
   "outputs": [],
   "source": [
    "_Asia = [\"Israel\", \"United Arab Emirates\", \"Singapore\", \"Thailand\", \"Taiwan Province of China\",\n",
    "                                   \"Qatar\", \"Saudi Arabia\", \"Kuwait\", \"Bahrain\", \"Malaysia\", \"Uzbekistan\", \"Japan\",\n",
    "                                   \"South Korea\", \"Turkmenistan\", \"Kazakhstan\", \"Turkey\", \"Hong Kong S.A.R., China\", \"Philippines\",\n",
    "                                   \"Jordan\", \"China\", \"Pakistan\", \"Indonesia\", \"Azerbaijan\", \"Lebanon\", \"Vietnam\",\n",
    "                                   \"Tajikistan\", \"Bhutan\", \"Kyrgyzstan\", \"Nepal\", \"Mongolia\", \"Palestinian Territories\",\n",
    "                                   \"Iran\", \"Bangladesh\", \"Myanmar\", \"Iraq\", \"Sri Lanka\", \"Armenia\", \"India\", \"Georgia\",\n",
    "                                   \"Cambodia\", \"Afghanistan\", \"Yemen\", \"Syria\"]\n",
    "\n",
    "_Europe = [\"Norway\", \"Denmark\", \"Iceland\", \"Switzerland\", \"Finland\",\n",
    "                                   \"Netherlands\", \"Sweden\", \"Austria\", \"Ireland\", \"Germany\",\n",
    "                                   \"Belgium\", \"Luxembourg\", \"United Kingdom\", \"Czech Republic\",\n",
    "                                   \"Malta\", \"France\", \"Spain\", \"Slovakia\", \"Poland\", \"Italy\",\n",
    "                                   \"Russia\", \"Lithuania\", \"Latvia\", \"Moldova\", \"Romania\",\n",
    "                                   \"Slovenia\", \"North Cyprus\", \"Cyprus\", \"Estonia\", \"Belarus\",\n",
    "                                   \"Serbia\", \"Hungary\", \"Croatia\", \"Kosovo\", \"Montenegro\",\n",
    "                                   \"Greece\", \"Portugal\", \"Bosnia and Herzegovina\", \"Macedonia\",\n",
    "                                   \"Bulgaria\", \"Albania\", \"Ukraine\"]\n",
    "_Oceania = [\"New Zealand\", \"Australia\"]\n",
    "\n",
    "_North_America = [\"Canada\", \"Costa Rica\", \"United States\", \"Mexico\",  \n",
    "                                   \"Panama\",\"Trinidad and Tobago\", \"El Salvador\", \"Belize\", \"Guatemala\",\n",
    "                                   \"Jamaica\", \"Nicaragua\", \"Dominican Republic\", \"Honduras\",\n",
    "                                   \"Haiti\"]\n",
    "_South_America = [\"Chile\", \"Brazil\", \"Argentina\", \"Uruguay\",\n",
    "                                   \"Colombia\", \"Ecuador\", \"Bolivia\", \"Peru\",\n",
    "                                   \"Paraguay\", \"Venezuela\"]\n",
    "\n",
    "Asia = coco.convert(names=_Asia, to='iso3', not_found=None)\n",
    "Europe = coco.convert(names=_Europe, to='iso3', not_found=None)\n",
    "Oceania = coco.convert(names=_Oceania, to='iso3', not_found=None)\n",
    "North_America = coco.convert(names=_North_America, to='iso3', not_found=None)\n",
    "South_America = coco.convert(names=_South_America, to='iso3', not_found=None)"
   ]
  },
  {
   "cell_type": "code",
   "execution_count": 17,
   "metadata": {},
   "outputs": [],
   "source": [
    "def GetConti(country):\n",
    "    if country in Asia:\n",
    "        return \"Asia\"\n",
    "    elif country in Europe:\n",
    "        return \"Europe\"\n",
    "    elif country in North_America:\n",
    "        return \"North America\"\n",
    "    elif country in South_America:\n",
    "        return \"South America\"\n",
    "    elif country in Oceania:\n",
    "        return \"Oceania\"\n",
    "    else:\n",
    "        return \"Africa\"\n",
    "    \n",
    "\n",
    "df['Continent'] = df['Country Code'].apply(lambda x: GetConti(x))\n",
    "df['Country Name'] = coco.convert(names=df['Country Code'].tolist(), to='name_short', not_found=None)\n",
    "df['Log GDP Per Capita'] = np.log10(df['GDP Per Capita'])"
   ]
  },
  {
   "cell_type": "code",
   "execution_count": 18,
   "metadata": {
    "scrolled": true
   },
   "outputs": [
    {
     "data": {
      "application/vnd.plotly.v1+json": {
       "config": {
        "linkText": "Export to plot.ly",
        "plotlyServerURL": "https://plot.ly",
        "showLink": true
       },
       "data": [
        {
         "marker": {
          "color": "rgba(255, 153, 51, 1.0)",
          "line": {
           "width": 1.3
          },
          "opacity": 0.8,
          "size": 12,
          "symbol": "circle"
         },
         "mode": "markers",
         "name": "Asia",
         "text": [
          "Afghanistan",
          "United Arab Emirates",
          "Armenia",
          "Azerbaijan",
          "Bangladesh",
          "Bahrain",
          "Bhutan",
          "China",
          "Hong Kong",
          "Indonesia",
          "India",
          "Iraq",
          "Israel",
          "Jordan",
          "Japan",
          "Kazakhstan",
          "Kyrgyz Republic",
          "Cambodia",
          "South Korea",
          "Kuwait",
          "Lebanon",
          "Sri Lanka",
          "Myanmar",
          "Mongolia",
          "Malaysia",
          "Nepal",
          "Pakistan",
          "Philippines",
          "Palestine",
          "Qatar",
          "Saudi Arabia",
          "Singapore",
          "Thailand",
          "Tajikistan",
          "Turkmenistan",
          "Turkey",
          "Uzbekistan",
          "Vietnam",
          "Yemen"
         ],
         "textfont": {
          "color": "#4D5663"
         },
         "type": "scatter",
         "uid": "3ce9d5a4-b264-49d7-bd60-34c23e1ef0ec",
         "x": [
          2.716751524978974,
          4.633518433395714,
          3.6244956772751853,
          3.6740503826862927,
          3.230004897199284,
          4.381128759513696,
          3.526373769715882,
          3.9899322166997515,
          4.687683132592653,
          3.590350895725299,
          3.3044022996190585,
          3.7692324312001477,
          4.619239442820451,
          3.628160863084989,
          4.594245966710806,
          3.9699303746190706,
          3.107672403326718,
          3.17958818470368,
          4.496414156598389,
          4.534583891164324,
          3.917494359306584,
          3.6130466154295386,
          3.1225281052621576,
          3.6131753389119066,
          4.050726024012451,
          3.011061998649777,
          3.168171237581717,
          3.4917416561876613,
          3.5049961354338297,
          4.839015656688577,
          4.365845952118283,
          4.810111113826926,
          3.8617472172100338,
          2.9173067129132377,
          3.843023082919473,
          3.9690134031802824,
          3.185364105556182,
          3.408887654839998,
          2.9751598869352427
         ],
         "y": [
          29.700000000000003,
          27.599999999999998,
          47.9,
          26.5,
          55.7,
          27.1,
          53,
          33.199999999999996,
          61.5,
          63.9,
          72.30000000000001,
          40.599999999999994,
          77.9,
          39.300000000000004,
          79.9,
          29.4,
          51.1,
          35.9,
          80,
          38.5,
          46.3,
          61.900000000000006,
          38.3,
          65,
          68.8,
          51.8,
          41.7,
          67.1,
          43.9,
          31.9,
          19.3,
          63.8,
          46.3,
          19.3,
          17.2,
          43.7,
          20.099999999999998,
          30.8,
          19.5
         ]
        },
        {
         "marker": {
          "color": "rgba(55, 128, 191, 1.0)",
          "line": {
           "width": 1.3
          },
          "opacity": 0.8,
          "size": 12,
          "symbol": "circle"
         },
         "mode": "markers",
         "name": "Africa",
         "text": [
          "Angola",
          "Burundi",
          "Benin",
          "Burkina Faso",
          "Botswana",
          "Central African Republic",
          "Cote d'Ivoire",
          "Cameroon",
          "DR Congo",
          "Congo Republic",
          "Comoros",
          "Cabo Verde",
          "Djibouti",
          "Algeria",
          "Egypt",
          "Ethiopia",
          "Fiji",
          "Gabon",
          "Ghana",
          "Guinea",
          "Gambia",
          "Guinea-Bissau",
          "Equatorial Guinea",
          "Guyana",
          "Kenya",
          "Laos",
          "Liberia",
          "Libya",
          "Lesotho",
          "Morocco",
          "Madagascar",
          "Mali",
          "Mozambique",
          "Mauritania",
          "Mauritius",
          "Malawi",
          "Namibia",
          "Niger",
          "Nigeria",
          "Oman",
          "Papua New Guinea",
          "Rwanda",
          "Sudan",
          "Senegal",
          "Sierra Leone",
          "Suriname",
          "Eswatini",
          "Chad",
          "Togo",
          "Timor-Leste",
          "Tunisia",
          "Tanzania",
          "Uganda",
          "South Africa",
          "Zambia",
          "Zimbabwe"
         ],
         "textfont": {
          "color": "#4D5663"
         },
         "type": "scatter",
         "uid": "de67e378-31fa-433b-903f-bf6b0fee7100",
         "x": [
          3.535596088502591,
          2.440010616576395,
          2.9551844140528543,
          2.864019383761676,
          3.9169086229158863,
          2.7075454587631627,
          3.2343986305480623,
          3.1838036872301108,
          2.7495640955578393,
          3.331987662889298,
          3.160003316433053,
          3.5627694159512546,
          3.3117972315666693,
          3.631327068101635,
          3.4063935955019717,
          2.8877929109658544,
          3.792543124489025,
          3.904705938965821,
          3.3428788776690266,
          2.9470665379556484,
          2.8527558524172223,
          2.890962806431111,
          4.007490154746341,
          3.6660198789101903,
          3.233125642133106,
          3.4095177623152737,
          2.828794857838321,
          3.859440223109028,
          3.121980727904291,
          3.510261200971325,
          2.6634679650450472,
          2.9549190476443266,
          2.690344585377585,
          3.085859894336372,
          4.050715707371276,
          2.5903937535996895,
          3.7731611582304625,
          2.614569202539839,
          3.3071069176721144,
          4.215344770058718,
          3.4349845866142124,
          2.8881614241851987,
          2.990016182804013,
          3.1824013991789104,
          2.7183838639923033,
          3.7745325816072888,
          3.616996349483493,
          2.8634683586435656,
          2.827266301749134,
          3.3086783412030103,
          3.5373917957019474,
          3.0214685035858437,
          2.808305298595335,
          3.8044131115480946,
          3.1874925634841342,
          3.3318313131697095
         ],
         "y": [
          36.2,
          23.3,
          57.400000000000006,
          47.5,
          78.1,
          15.2,
          41.5,
          32.8,
          14.9,
          33.1,
          37.1,
          78.8,
          28.700000000000003,
          35,
          33.6,
          33.5,
          58.5,
          36.1,
          66.3,
          31.400000000000002,
          43.099999999999994,
          19.8,
          19.2,
          66.7,
          51.1,
          23.700000000000003,
          53.5,
          21.9,
          66.39999999999999,
          49.900000000000006,
          52.199999999999996,
          54.1,
          38.5,
          38.199999999999996,
          82.2,
          54.900000000000006,
          62.5,
          37.599999999999994,
          44.400000000000006,
          30.4,
          60.300000000000004,
          33.5,
          21.5,
          61.5,
          46.6,
          69.80000000000001,
          30.299999999999997,
          16.1,
          31,
          71.9,
          64.1,
          54.1,
          52,
          72.4,
          56.1,
          31.6
         ]
        },
        {
         "marker": {
          "color": "rgba(50, 171, 96, 1.0)",
          "line": {
           "width": 1.3
          },
          "opacity": 0.8,
          "size": 12,
          "symbol": "circle"
         },
         "mode": "markers",
         "name": "Europe",
         "text": [
          "Albania",
          "Austria",
          "Belgium",
          "Bulgaria",
          "Bosnia and Herzegovina",
          "Belarus",
          "Switzerland",
          "Cyprus",
          "Czech Republic",
          "Germany",
          "Denmark",
          "Spain",
          "Estonia",
          "Finland",
          "France",
          "United Kingdom",
          "Greece",
          "Croatia",
          "Hungary",
          "Ireland",
          "Iceland",
          "Italy",
          "Lithuania",
          "Luxembourg",
          "Latvia",
          "Moldova",
          "Macedonia",
          "Malta",
          "Montenegro",
          "Netherlands",
          "Norway",
          "Poland",
          "Portugal",
          "Romania",
          "Russia",
          "Serbia",
          "Slovakia",
          "Slovenia",
          "Sweden",
          "Ukraine"
         ],
         "textfont": {
          "color": "#4D5663"
         },
         "type": "scatter",
         "uid": "5d9f5476-51e7-44c1-b611-1fac1a895df6",
         "x": [
          3.7204594885546385,
          4.7119160460219165,
          4.667976588320933,
          3.9672028981292122,
          3.7746135434572294,
          3.798646402808113,
          4.918234477723619,
          4.449621880881275,
          4.363208961066976,
          4.6830072102067595,
          4.783378011751073,
          4.484639442135527,
          4.360361331866811,
          4.695903063846263,
          4.617667467304578,
          4.6283006768913415,
          4.308014604503523,
          4.172284410100125,
          4.2024566237558005,
          4.8965616650338335,
          4.864521182143978,
          4.535526413358603,
          4.280799274142614,
          5.058200082231301,
          4.25741281216613,
          3.5037029728714995,
          3.784169142591271,
          4.478201898609777,
          3.942538426261921,
          4.724472971725058,
          4.91279151798606,
          4.188198312498017,
          4.364470975673171,
          4.089946999538206,
          4.05265056583888,
          3.8593782567352144,
          4.2910779334394435,
          4.4188648932467975,
          4.733293362577344,
          3.4906850097228617
         ],
         "y": [
          59.800000000000004,
          82.89999999999999,
          77.8,
          70.3,
          49.800000000000004,
          31.299999999999997,
          90.3,
          75.9,
          76.9,
          86.8,
          92.2,
          80.8,
          79.7,
          91.4,
          78,
          85.3,
          72.9,
          65.7,
          66.3,
          91.5,
          95.8,
          77.1,
          75,
          88.10000000000001,
          73.8,
          58.5,
          58.7,
          82.10000000000001,
          57.400000000000006,
          88.9,
          98.69999999999999,
          66.7,
          78.4,
          63.8,
          29.4,
          64.1,
          71,
          75,
          93.9,
          56.900000000000006
         ]
        },
        {
         "marker": {
          "color": "rgba(128, 0, 128, 1.0)",
          "line": {
           "width": 1.3
          },
          "opacity": 0.8,
          "size": 12,
          "symbol": "circle"
         },
         "mode": "markers",
         "name": "South America",
         "text": [
          "Argentina",
          "Bolivia",
          "Brazil",
          "Chile",
          "Colombia",
          "Ecuador",
          "Peru",
          "Paraguay",
          "Uruguay"
         ],
         "textfont": {
          "color": "#4D5663"
         },
         "type": "scatter",
         "uid": "e892e44d-f46b-4176-b69b-08129cf96fd0",
         "x": [
          4.066421582249565,
          3.5500558414706855,
          3.950401957929616,
          4.202034688288893,
          3.822905968136613,
          3.802422863689718,
          3.8418133417233897,
          3.7687466290799345,
          4.237492718376067
         ],
         "y": [
          70.19999999999999,
          57,
          69.7,
          79.7,
          69.6,
          62.699999999999996,
          66,
          62.400000000000006,
          83.80000000000001
         ]
        },
        {
         "marker": {
          "color": "rgba(219, 64, 82, 1.0)",
          "line": {
           "width": 1.3
          },
          "opacity": 0.8,
          "size": 12,
          "symbol": "circle"
         },
         "mode": "markers",
         "name": "Oceania",
         "text": [
          "Australia",
          "New Zealand"
         ],
         "textfont": {
          "color": "#4D5663"
         },
         "type": "scatter",
         "uid": "bd83f641-dddc-4e47-bfab-118d8a694466",
         "x": [
          4.75819478299866,
          4.622897671344021
         ],
         "y": [
          90.9,
          92.6
         ]
        },
        {
         "marker": {
          "color": "rgba(0, 128, 128, 1.0)",
          "line": {
           "width": 1.3
          },
          "opacity": 0.8,
          "size": 12,
          "symbol": "circle"
         },
         "mode": "markers",
         "name": "North America",
         "text": [
          "Canada",
          "Costa Rica",
          "Dominican Republic",
          "Guatemala",
          "Honduras",
          "Haiti",
          "Jamaica",
          "Mexico",
          "Nicaragua",
          "Panama",
          "El Salvador",
          "Trinidad and Tobago",
          "United States"
         ],
         "textfont": {
          "color": "#4D5663"
         },
         "type": "scatter",
         "uid": "0b78e383-d65c-456c-aac8-f27f7af4a86a",
         "x": [
          4.66474111520007,
          4.080140972124313,
          3.8836655653338292,
          3.6579168992754116,
          3.394929528134454,
          2.938662198233696,
          3.7288067250801307,
          3.9866859497915264,
          3.307259976558824,
          4.192430078268561,
          3.608338225008869,
          4.226437539235147,
          4.7968587831902605
         ],
         "y": [
          91.5,
          80.7,
          65.4,
          56,
          56.3,
          49.1,
          70.19999999999999,
          61.900000000000006,
          36.3,
          70.5,
          59.6,
          71.6,
          79.6
         ]
        }
       ],
       "layout": {
        "legend": {
         "bgcolor": "#FFFFFF",
         "font": {
          "color": "#4D5663"
         }
        },
        "paper_bgcolor": "#FFFFFF",
        "plot_bgcolor": "#FFFFFF",
        "title": {
         "font": {
          "color": "#4D5663"
         }
        },
        "xaxis": {
         "gridcolor": "#E1E5ED",
         "showgrid": true,
         "tickfont": {
          "color": "#4D5663"
         },
         "title": {
          "font": {
           "color": "#4D5663"
          },
          "text": "Log GDP Per Capita (Current USD)"
         },
         "zerolinecolor": "#E1E5ED"
        },
        "yaxis": {
         "gridcolor": "#E1E5ED",
         "showgrid": true,
         "tickfont": {
          "color": "#4D5663"
         },
         "title": {
          "font": {
           "color": "#4D5663"
          },
          "text": "EIU Democracy Index"
         },
         "zerolinecolor": "#E1E5ED"
        }
       }
      },
      "text/html": [
       "<div>\n",
       "        \n",
       "        \n",
       "            <div id=\"ccbc1961-9e0c-416e-9c46-9f26eaee7163\" class=\"plotly-graph-div\" style=\"height:525px; width:100%;\"></div>\n",
       "            <script type=\"text/javascript\">\n",
       "                require([\"plotly\"], function(Plotly) {\n",
       "                    window.PLOTLYENV=window.PLOTLYENV || {};\n",
       "                    window.PLOTLYENV.BASE_URL='https://plot.ly';\n",
       "                    \n",
       "                if (document.getElementById(\"ccbc1961-9e0c-416e-9c46-9f26eaee7163\")) {\n",
       "                    Plotly.newPlot(\n",
       "                        'ccbc1961-9e0c-416e-9c46-9f26eaee7163',\n",
       "                        [{\"marker\": {\"color\": \"rgba(255, 153, 51, 1.0)\", \"line\": {\"width\": 1.3}, \"opacity\": 0.8, \"size\": 12, \"symbol\": \"circle\"}, \"mode\": \"markers\", \"name\": \"Asia\", \"text\": [\"Afghanistan\", \"United Arab Emirates\", \"Armenia\", \"Azerbaijan\", \"Bangladesh\", \"Bahrain\", \"Bhutan\", \"China\", \"Hong Kong\", \"Indonesia\", \"India\", \"Iraq\", \"Israel\", \"Jordan\", \"Japan\", \"Kazakhstan\", \"Kyrgyz Republic\", \"Cambodia\", \"South Korea\", \"Kuwait\", \"Lebanon\", \"Sri Lanka\", \"Myanmar\", \"Mongolia\", \"Malaysia\", \"Nepal\", \"Pakistan\", \"Philippines\", \"Palestine\", \"Qatar\", \"Saudi Arabia\", \"Singapore\", \"Thailand\", \"Tajikistan\", \"Turkmenistan\", \"Turkey\", \"Uzbekistan\", \"Vietnam\", \"Yemen\"], \"textfont\": {\"color\": \"#4D5663\"}, \"type\": \"scatter\", \"uid\": \"3ce9d5a4-b264-49d7-bd60-34c23e1ef0ec\", \"x\": [2.716751524978974, 4.633518433395714, 3.6244956772751853, 3.6740503826862927, 3.230004897199284, 4.381128759513696, 3.526373769715882, 3.9899322166997515, 4.687683132592653, 3.590350895725299, 3.3044022996190585, 3.7692324312001477, 4.619239442820451, 3.628160863084989, 4.594245966710806, 3.9699303746190706, 3.107672403326718, 3.17958818470368, 4.496414156598389, 4.534583891164324, 3.917494359306584, 3.6130466154295386, 3.1225281052621576, 3.6131753389119066, 4.050726024012451, 3.011061998649777, 3.168171237581717, 3.4917416561876613, 3.5049961354338297, 4.839015656688577, 4.365845952118283, 4.810111113826926, 3.8617472172100338, 2.9173067129132377, 3.843023082919473, 3.9690134031802824, 3.185364105556182, 3.408887654839998, 2.9751598869352427], \"y\": [29.700000000000003, 27.599999999999998, 47.9, 26.5, 55.7, 27.1, 53.0, 33.199999999999996, 61.5, 63.9, 72.30000000000001, 40.599999999999994, 77.9, 39.300000000000004, 79.9, 29.4, 51.1, 35.9, 80.0, 38.5, 46.3, 61.900000000000006, 38.3, 65.0, 68.8, 51.8, 41.7, 67.1, 43.9, 31.9, 19.3, 63.8, 46.3, 19.3, 17.2, 43.7, 20.099999999999998, 30.8, 19.5]}, {\"marker\": {\"color\": \"rgba(55, 128, 191, 1.0)\", \"line\": {\"width\": 1.3}, \"opacity\": 0.8, \"size\": 12, \"symbol\": \"circle\"}, \"mode\": \"markers\", \"name\": \"Africa\", \"text\": [\"Angola\", \"Burundi\", \"Benin\", \"Burkina Faso\", \"Botswana\", \"Central African Republic\", \"Cote d'Ivoire\", \"Cameroon\", \"DR Congo\", \"Congo Republic\", \"Comoros\", \"Cabo Verde\", \"Djibouti\", \"Algeria\", \"Egypt\", \"Ethiopia\", \"Fiji\", \"Gabon\", \"Ghana\", \"Guinea\", \"Gambia\", \"Guinea-Bissau\", \"Equatorial Guinea\", \"Guyana\", \"Kenya\", \"Laos\", \"Liberia\", \"Libya\", \"Lesotho\", \"Morocco\", \"Madagascar\", \"Mali\", \"Mozambique\", \"Mauritania\", \"Mauritius\", \"Malawi\", \"Namibia\", \"Niger\", \"Nigeria\", \"Oman\", \"Papua New Guinea\", \"Rwanda\", \"Sudan\", \"Senegal\", \"Sierra Leone\", \"Suriname\", \"Eswatini\", \"Chad\", \"Togo\", \"Timor-Leste\", \"Tunisia\", \"Tanzania\", \"Uganda\", \"South Africa\", \"Zambia\", \"Zimbabwe\"], \"textfont\": {\"color\": \"#4D5663\"}, \"type\": \"scatter\", \"uid\": \"de67e378-31fa-433b-903f-bf6b0fee7100\", \"x\": [3.535596088502591, 2.440010616576395, 2.9551844140528543, 2.864019383761676, 3.9169086229158863, 2.7075454587631627, 3.2343986305480623, 3.1838036872301108, 2.7495640955578393, 3.331987662889298, 3.160003316433053, 3.5627694159512546, 3.3117972315666693, 3.631327068101635, 3.4063935955019717, 2.8877929109658544, 3.792543124489025, 3.904705938965821, 3.3428788776690266, 2.9470665379556484, 2.8527558524172223, 2.890962806431111, 4.007490154746341, 3.6660198789101903, 3.233125642133106, 3.4095177623152737, 2.828794857838321, 3.859440223109028, 3.121980727904291, 3.510261200971325, 2.6634679650450472, 2.9549190476443266, 2.690344585377585, 3.085859894336372, 4.050715707371276, 2.5903937535996895, 3.7731611582304625, 2.614569202539839, 3.3071069176721144, 4.215344770058718, 3.4349845866142124, 2.8881614241851987, 2.990016182804013, 3.1824013991789104, 2.7183838639923033, 3.7745325816072888, 3.616996349483493, 2.8634683586435656, 2.827266301749134, 3.3086783412030103, 3.5373917957019474, 3.0214685035858437, 2.808305298595335, 3.8044131115480946, 3.1874925634841342, 3.3318313131697095], \"y\": [36.2, 23.3, 57.400000000000006, 47.5, 78.1, 15.2, 41.5, 32.8, 14.9, 33.1, 37.1, 78.8, 28.700000000000003, 35.0, 33.6, 33.5, 58.5, 36.1, 66.3, 31.400000000000002, 43.099999999999994, 19.8, 19.2, 66.7, 51.1, 23.700000000000003, 53.5, 21.9, 66.39999999999999, 49.900000000000006, 52.199999999999996, 54.1, 38.5, 38.199999999999996, 82.2, 54.900000000000006, 62.5, 37.599999999999994, 44.400000000000006, 30.4, 60.300000000000004, 33.5, 21.5, 61.5, 46.6, 69.80000000000001, 30.299999999999997, 16.1, 31.0, 71.9, 64.1, 54.1, 52.0, 72.4, 56.1, 31.6]}, {\"marker\": {\"color\": \"rgba(50, 171, 96, 1.0)\", \"line\": {\"width\": 1.3}, \"opacity\": 0.8, \"size\": 12, \"symbol\": \"circle\"}, \"mode\": \"markers\", \"name\": \"Europe\", \"text\": [\"Albania\", \"Austria\", \"Belgium\", \"Bulgaria\", \"Bosnia and Herzegovina\", \"Belarus\", \"Switzerland\", \"Cyprus\", \"Czech Republic\", \"Germany\", \"Denmark\", \"Spain\", \"Estonia\", \"Finland\", \"France\", \"United Kingdom\", \"Greece\", \"Croatia\", \"Hungary\", \"Ireland\", \"Iceland\", \"Italy\", \"Lithuania\", \"Luxembourg\", \"Latvia\", \"Moldova\", \"Macedonia\", \"Malta\", \"Montenegro\", \"Netherlands\", \"Norway\", \"Poland\", \"Portugal\", \"Romania\", \"Russia\", \"Serbia\", \"Slovakia\", \"Slovenia\", \"Sweden\", \"Ukraine\"], \"textfont\": {\"color\": \"#4D5663\"}, \"type\": \"scatter\", \"uid\": \"5d9f5476-51e7-44c1-b611-1fac1a895df6\", \"x\": [3.7204594885546385, 4.7119160460219165, 4.667976588320933, 3.9672028981292122, 3.7746135434572294, 3.798646402808113, 4.918234477723619, 4.449621880881275, 4.363208961066976, 4.6830072102067595, 4.783378011751073, 4.484639442135527, 4.360361331866811, 4.695903063846263, 4.617667467304578, 4.6283006768913415, 4.308014604503523, 4.172284410100125, 4.2024566237558005, 4.8965616650338335, 4.864521182143978, 4.535526413358603, 4.280799274142614, 5.058200082231301, 4.25741281216613, 3.5037029728714995, 3.784169142591271, 4.478201898609777, 3.942538426261921, 4.724472971725058, 4.91279151798606, 4.188198312498017, 4.364470975673171, 4.089946999538206, 4.05265056583888, 3.8593782567352144, 4.2910779334394435, 4.4188648932467975, 4.733293362577344, 3.4906850097228617], \"y\": [59.800000000000004, 82.89999999999999, 77.8, 70.3, 49.800000000000004, 31.299999999999997, 90.3, 75.9, 76.9, 86.8, 92.2, 80.8, 79.7, 91.4, 78.0, 85.3, 72.9, 65.7, 66.3, 91.5, 95.8, 77.1, 75.0, 88.10000000000001, 73.8, 58.5, 58.7, 82.10000000000001, 57.400000000000006, 88.9, 98.69999999999999, 66.7, 78.4, 63.8, 29.4, 64.1, 71.0, 75.0, 93.9, 56.900000000000006]}, {\"marker\": {\"color\": \"rgba(128, 0, 128, 1.0)\", \"line\": {\"width\": 1.3}, \"opacity\": 0.8, \"size\": 12, \"symbol\": \"circle\"}, \"mode\": \"markers\", \"name\": \"South America\", \"text\": [\"Argentina\", \"Bolivia\", \"Brazil\", \"Chile\", \"Colombia\", \"Ecuador\", \"Peru\", \"Paraguay\", \"Uruguay\"], \"textfont\": {\"color\": \"#4D5663\"}, \"type\": \"scatter\", \"uid\": \"e892e44d-f46b-4176-b69b-08129cf96fd0\", \"x\": [4.066421582249565, 3.5500558414706855, 3.950401957929616, 4.202034688288893, 3.822905968136613, 3.802422863689718, 3.8418133417233897, 3.7687466290799345, 4.237492718376067], \"y\": [70.19999999999999, 57.0, 69.7, 79.7, 69.6, 62.699999999999996, 66.0, 62.400000000000006, 83.80000000000001]}, {\"marker\": {\"color\": \"rgba(219, 64, 82, 1.0)\", \"line\": {\"width\": 1.3}, \"opacity\": 0.8, \"size\": 12, \"symbol\": \"circle\"}, \"mode\": \"markers\", \"name\": \"Oceania\", \"text\": [\"Australia\", \"New Zealand\"], \"textfont\": {\"color\": \"#4D5663\"}, \"type\": \"scatter\", \"uid\": \"bd83f641-dddc-4e47-bfab-118d8a694466\", \"x\": [4.75819478299866, 4.622897671344021], \"y\": [90.9, 92.6]}, {\"marker\": {\"color\": \"rgba(0, 128, 128, 1.0)\", \"line\": {\"width\": 1.3}, \"opacity\": 0.8, \"size\": 12, \"symbol\": \"circle\"}, \"mode\": \"markers\", \"name\": \"North America\", \"text\": [\"Canada\", \"Costa Rica\", \"Dominican Republic\", \"Guatemala\", \"Honduras\", \"Haiti\", \"Jamaica\", \"Mexico\", \"Nicaragua\", \"Panama\", \"El Salvador\", \"Trinidad and Tobago\", \"United States\"], \"textfont\": {\"color\": \"#4D5663\"}, \"type\": \"scatter\", \"uid\": \"0b78e383-d65c-456c-aac8-f27f7af4a86a\", \"x\": [4.66474111520007, 4.080140972124313, 3.8836655653338292, 3.6579168992754116, 3.394929528134454, 2.938662198233696, 3.7288067250801307, 3.9866859497915264, 3.307259976558824, 4.192430078268561, 3.608338225008869, 4.226437539235147, 4.7968587831902605], \"y\": [91.5, 80.7, 65.4, 56.0, 56.3, 49.1, 70.19999999999999, 61.900000000000006, 36.3, 70.5, 59.6, 71.6, 79.6]}],\n",
       "                        {\"legend\": {\"bgcolor\": \"#FFFFFF\", \"font\": {\"color\": \"#4D5663\"}}, \"paper_bgcolor\": \"#FFFFFF\", \"plot_bgcolor\": \"#FFFFFF\", \"title\": {\"font\": {\"color\": \"#4D5663\"}}, \"xaxis\": {\"gridcolor\": \"#E1E5ED\", \"showgrid\": true, \"tickfont\": {\"color\": \"#4D5663\"}, \"title\": {\"font\": {\"color\": \"#4D5663\"}, \"text\": \"Log GDP Per Capita (Current USD)\"}, \"zerolinecolor\": \"#E1E5ED\"}, \"yaxis\": {\"gridcolor\": \"#E1E5ED\", \"showgrid\": true, \"tickfont\": {\"color\": \"#4D5663\"}, \"title\": {\"font\": {\"color\": \"#4D5663\"}, \"text\": \"EIU Democracy Index\"}, \"zerolinecolor\": \"#E1E5ED\"}},\n",
       "                        {\"showLink\": true, \"linkText\": \"Export to plot.ly\", \"plotlyServerURL\": \"https://plot.ly\", \"responsive\": true}\n",
       "                    ).then(function(){\n",
       "                            \n",
       "var gd = document.getElementById('ccbc1961-9e0c-416e-9c46-9f26eaee7163');\n",
       "var x = new MutationObserver(function (mutations, observer) {{\n",
       "        var display = window.getComputedStyle(gd).display;\n",
       "        if (!display || display === 'none') {{\n",
       "            console.log([gd, 'removed!']);\n",
       "            Plotly.purge(gd);\n",
       "            observer.disconnect();\n",
       "        }}\n",
       "}});\n",
       "\n",
       "// Listen for the removal of the full notebook cells\n",
       "var notebookContainer = gd.closest('#notebook-container');\n",
       "if (notebookContainer) {{\n",
       "    x.observe(notebookContainer, {childList: true});\n",
       "}}\n",
       "\n",
       "// Listen for the clearing of the current output cell\n",
       "var outputEl = gd.closest('.output');\n",
       "if (outputEl) {{\n",
       "    x.observe(outputEl, {childList: true});\n",
       "}}\n",
       "\n",
       "                        })\n",
       "                };\n",
       "                });\n",
       "            </script>\n",
       "        </div>"
      ]
     },
     "metadata": {},
     "output_type": "display_data"
    }
   ],
   "source": [
    "df[df['Log GDP Per Capita'] > 0].iplot(\n",
    "    mode='markers',\n",
    "    x='Log GDP Per Capita',\n",
    "    y='Democracy index (EIU)',\n",
    "    categories='Continent',\n",
    "    text='Country Name',\n",
    "    xTitle='Log GDP Per Capita (Current USD)',\n",
    "    yTitle='EIU Democracy Index',\n",
    "    theme='white',\n",
    ")"
   ]
  },
  {
   "cell_type": "code",
   "execution_count": 19,
   "metadata": {},
   "outputs": [],
   "source": [
    "countries_to_show_name = [\n",
    "    'China',\n",
    "    'Hong Kong',                                                                    \n",
    "    'Singapore',                                                                    \n",
    "    'Japan',                                                                        \n",
    "    'United Kingdom',                                                               \n",
    "    'United States',                                                                \n",
    "    'Germany',                                                                     \n",
    "    'Malaysia',                                                                     \n",
    "    'Qatar',                                                                        \n",
    "    'South Korea',                                                                  \n",
    "    'Russia' \n",
    "]\n",
    "\n",
    "filters = (df['Log GDP Per Capita'] > 4)\n",
    "for c in countries_to_show_name:\n",
    "    filters |= (df['Country Name'] == c)"
   ]
  },
  {
   "cell_type": "code",
   "execution_count": 20,
   "metadata": {},
   "outputs": [],
   "source": [
    "figure = df[filters].iplot(\n",
    "    mode='markers+text',\n",
    "    x='GDP Per Capita',\n",
    "    y='Democracy index (EIU)',\n",
    "    categories='Country Name',\n",
    "    text='Country Name',\n",
    "    xTitle=('GDP Per Capita, USD in Log Scale (World Bank)<br> '\n",
    "            'Optimistically assuming China grows at 8% per year, '\n",
    "            'China is about 21 years behind HK today.'\n",
    "           ),\n",
    "    logx=True,\n",
    "    yTitle='Democracy Index (The Economist, Intelligence Unit)',\n",
    "    theme='white',\n",
    "    title='Political and Economic power, per person, {}.'.format(year_str),\n",
    "    asFigure=True,\n",
    "    showlegend=False,\n",
    ")"
   ]
  },
  {
   "cell_type": "code",
   "execution_count": 21,
   "metadata": {},
   "outputs": [],
   "source": [
    "figure_json = figure.to_plotly_json()\n",
    "\n",
    "special_colors = {\n",
    "    'China': 'crimson',\n",
    "    'Hong Kong': 'navy',\n",
    "}\n",
    "for d in figure_json['data']:\n",
    "    textposition = 'bottom center'\n",
    "    if d['name'] == 'United Kingdom':\n",
    "        textposition = 'top left'\n",
    "    elif d['name'] == 'South Korea':\n",
    "        textposition = 'top center'\n",
    "    elif d['name'] == 'Malaysia':\n",
    "        textposition = 'bottom left'        \n",
    "    d['textposition'] = textposition\n",
    "    \n",
    "    \n",
    "    if d['name'] == 'China' or d['name'] == 'Hong Kong':\n",
    "        d['textfont']['color'] = special_colors[d['name']]\n",
    "        d['textfont']['size'] = 18\n",
    "    \n",
    "    if d['name'] not in countries_to_show_name:\n",
    "        d['text'] = ''\n",
    "figure = figure.update(figure_json)"
   ]
  },
  {
   "cell_type": "code",
   "execution_count": 22,
   "metadata": {},
   "outputs": [
    {
     "data": {
      "application/vnd.plotly.v1+json": {
       "config": {
        "linkText": "Export to plot.ly",
        "plotlyServerURL": "https://plot.ly",
        "showLink": true
       },
       "data": [
        {
         "marker": {
          "color": "rgba(255, 153, 51, 1.0)",
          "line": {
           "width": 1.3
          },
          "opacity": 0.8,
          "size": 12,
          "symbol": "circle"
         },
         "mode": "markers+text",
         "name": "United Arab Emirates",
         "text": "",
         "textfont": {
          "color": "#4D5663"
         },
         "textposition": "bottom center",
         "type": "scatter",
         "uid": "4534ac0a-c9dd-4652-b199-e8169c630155",
         "x": [
          43004.948646234065
         ],
         "y": [
          27.599999999999998
         ]
        },
        {
         "marker": {
          "color": "rgba(55, 128, 191, 1.0)",
          "line": {
           "width": 1.3
          },
          "opacity": 0.8,
          "size": 12,
          "symbol": "circle"
         },
         "mode": "markers+text",
         "name": "Argentina",
         "text": "",
         "textfont": {
          "color": "#4D5663"
         },
         "textposition": "bottom center",
         "type": "scatter",
         "uid": "29a8f460-1e1f-4d4d-9d7f-0ddc326c340f",
         "x": [
          11652.566289748715
         ],
         "y": [
          70.19999999999999
         ]
        },
        {
         "marker": {
          "color": "rgba(50, 171, 96, 1.0)",
          "line": {
           "width": 1.3
          },
          "opacity": 0.8,
          "size": 12,
          "symbol": "circle"
         },
         "mode": "markers+text",
         "name": "Australia",
         "text": "",
         "textfont": {
          "color": "#4D5663"
         },
         "textposition": "bottom center",
         "type": "scatter",
         "uid": "ec71594d-1169-4e78-a594-dad91994b739",
         "x": [
          57305.29901620453
         ],
         "y": [
          90.9
         ]
        },
        {
         "marker": {
          "color": "rgba(128, 0, 128, 1.0)",
          "line": {
           "width": 1.3
          },
          "opacity": 0.8,
          "size": 12,
          "symbol": "circle"
         },
         "mode": "markers+text",
         "name": "Austria",
         "text": "",
         "textfont": {
          "color": "#4D5663"
         },
         "textposition": "bottom center",
         "type": "scatter",
         "uid": "f335163e-305b-4867-bdf4-85491b81a32d",
         "x": [
          51512.90547515342
         ],
         "y": [
          82.89999999999999
         ]
        },
        {
         "marker": {
          "color": "rgba(219, 64, 82, 1.0)",
          "line": {
           "width": 1.3
          },
          "opacity": 0.8,
          "size": 12,
          "symbol": "circle"
         },
         "mode": "markers+text",
         "name": "Belgium",
         "text": "",
         "textfont": {
          "color": "#4D5663"
         },
         "textposition": "bottom center",
         "type": "scatter",
         "uid": "b64796f3-ffc1-4297-b1a4-7a5858205109",
         "x": [
          46556.099567147845
         ],
         "y": [
          77.8
         ]
        },
        {
         "marker": {
          "color": "rgba(0, 128, 128, 1.0)",
          "line": {
           "width": 1.3
          },
          "opacity": 0.8,
          "size": 12,
          "symbol": "circle"
         },
         "mode": "markers+text",
         "name": "Bahrain",
         "text": "",
         "textfont": {
          "color": "#4D5663"
         },
         "textposition": "bottom center",
         "type": "scatter",
         "uid": "c14da831-92ae-4a08-9043-543c9c19f271",
         "x": [
          24050.757505395646
         ],
         "y": [
          27.1
         ]
        },
        {
         "marker": {
          "color": "rgba(255, 255, 51, 1.0)",
          "line": {
           "width": 1.3
          },
          "opacity": 0.8,
          "size": 12,
          "symbol": "circle"
         },
         "mode": "markers+text",
         "name": "Canada",
         "text": "",
         "textfont": {
          "color": "#4D5663"
         },
         "textposition": "bottom center",
         "type": "scatter",
         "uid": "1ab986f0-ab75-4735-af1e-90546fa25341",
         "x": [
          46210.547622788254
         ],
         "y": [
          91.5
         ]
        },
        {
         "marker": {
          "color": "rgba(128, 128, 0, 1.0)",
          "line": {
           "width": 1.3
          },
          "opacity": 0.8,
          "size": 12,
          "symbol": "circle"
         },
         "mode": "markers+text",
         "name": "Switzerland",
         "text": "",
         "textfont": {
          "color": "#4D5663"
         },
         "textposition": "bottom center",
         "type": "scatter",
         "uid": "ebfdb41a-0f86-44f7-8463-5a65f475b757",
         "x": [
          82838.92944457612
         ],
         "y": [
          90.3
         ]
        },
        {
         "marker": {
          "color": "rgba(251, 128, 114, 1.0)",
          "line": {
           "width": 1.3
          },
          "opacity": 0.8,
          "size": 12,
          "symbol": "circle"
         },
         "mode": "markers+text",
         "name": "Chile",
         "text": "",
         "textfont": {
          "color": "#4D5663"
         },
         "textposition": "bottom center",
         "type": "scatter",
         "uid": "b8cbfaca-7edc-4930-84b0-f31945336794",
         "x": [
          15923.359061989322
         ],
         "y": [
          79.7
         ]
        },
        {
         "marker": {
          "color": "rgba(128, 177, 211, 1.0)",
          "line": {
           "width": 1.3
          },
          "opacity": 0.8,
          "size": 12,
          "symbol": "circle"
         },
         "mode": "markers+text",
         "name": "China",
         "text": [
          "China"
         ],
         "textfont": {
          "color": "crimson",
          "size": 18
         },
         "textposition": "bottom center",
         "type": "scatter",
         "uid": "b7c2dd1a-debd-48a5-8d16-4f6493b58d81",
         "x": [
          9770.847087833143
         ],
         "y": [
          33.199999999999996
         ]
        },
        {
         "marker": {
          "color": "rgba(128, 177, 211, 0.8999999999999999)",
          "line": {
           "width": 1.3
          },
          "opacity": 0.8,
          "size": 12,
          "symbol": "circle"
         },
         "mode": "markers+text",
         "name": "Costa Rica",
         "text": "",
         "textfont": {
          "color": "#4D5663"
         },
         "textposition": "bottom center",
         "type": "scatter",
         "uid": "ec597de9-5399-496a-a359-b898ebb45284",
         "x": [
          12026.547533733288
         ],
         "y": [
          80.7
         ]
        },
        {
         "marker": {
          "color": "rgba(255, 153, 51, 0.8999999999999999)",
          "line": {
           "width": 1.3
          },
          "opacity": 0.8,
          "size": 12,
          "symbol": "circle"
         },
         "mode": "markers+text",
         "name": "Cyprus",
         "text": "",
         "textfont": {
          "color": "#4D5663"
         },
         "textposition": "bottom center",
         "type": "scatter",
         "uid": "9111ee06-31df-4b79-a948-de62f1cb97e7",
         "x": [
          28159.3016999455
         ],
         "y": [
          75.9
         ]
        },
        {
         "marker": {
          "color": "rgba(55, 128, 191, 0.8999999999999999)",
          "line": {
           "width": 1.3
          },
          "opacity": 0.8,
          "size": 12,
          "symbol": "circle"
         },
         "mode": "markers+text",
         "name": "Czech Republic",
         "text": "",
         "textfont": {
          "color": "#4D5663"
         },
         "textposition": "bottom center",
         "type": "scatter",
         "uid": "7fdee449-a155-49ab-9d99-c80329fe772a",
         "x": [
          23078.57348656913
         ],
         "y": [
          76.9
         ]
        },
        {
         "marker": {
          "color": "rgba(50, 171, 96, 0.8999999999999999)",
          "line": {
           "width": 1.3
          },
          "opacity": 0.8,
          "size": 12,
          "symbol": "circle"
         },
         "mode": "markers+text",
         "name": "Germany",
         "text": [
          "Germany"
         ],
         "textfont": {
          "color": "#4D5663"
         },
         "textposition": "bottom center",
         "type": "scatter",
         "uid": "37389d50-5e81-4c78-b9c4-dcd8eb74c6df",
         "x": [
          48195.57990441158
         ],
         "y": [
          86.8
         ]
        },
        {
         "marker": {
          "color": "rgba(128, 0, 128, 0.8999999999999999)",
          "line": {
           "width": 1.3
          },
          "opacity": 0.8,
          "size": 12,
          "symbol": "circle"
         },
         "mode": "markers+text",
         "name": "Denmark",
         "text": "",
         "textfont": {
          "color": "#4D5663"
         },
         "textposition": "bottom center",
         "type": "scatter",
         "uid": "404bb09a-b7e4-469a-9bfb-9e6c7e0d1487",
         "x": [
          60726.46653515095
         ],
         "y": [
          92.2
         ]
        },
        {
         "marker": {
          "color": "rgba(219, 64, 82, 0.8999999999999999)",
          "line": {
           "width": 1.3
          },
          "opacity": 0.8,
          "size": 12,
          "symbol": "circle"
         },
         "mode": "markers+text",
         "name": "Spain",
         "text": "",
         "textfont": {
          "color": "#4D5663"
         },
         "textposition": "bottom center",
         "type": "scatter",
         "uid": "f3596b00-6fb3-4ba6-a6e0-eeec09e0d678",
         "x": [
          30523.85923904735
         ],
         "y": [
          80.8
         ]
        },
        {
         "marker": {
          "color": "rgba(0, 128, 128, 0.8999999999999999)",
          "line": {
           "width": 1.3
          },
          "opacity": 0.8,
          "size": 12,
          "symbol": "circle"
         },
         "mode": "markers+text",
         "name": "Estonia",
         "text": "",
         "textfont": {
          "color": "#4D5663"
         },
         "textposition": "bottom center",
         "type": "scatter",
         "uid": "a66a7c2d-487f-46c2-8da0-9859f8296d3a",
         "x": [
          22927.744417419308
         ],
         "y": [
          79.7
         ]
        },
        {
         "marker": {
          "color": "rgba(255, 255, 51, 0.8999999999999999)",
          "line": {
           "width": 1.3
          },
          "opacity": 0.8,
          "size": 12,
          "symbol": "circle"
         },
         "mode": "markers+text",
         "name": "Finland",
         "text": "",
         "textfont": {
          "color": "#4D5663"
         },
         "textposition": "bottom center",
         "type": "scatter",
         "uid": "6c07d2b3-5f08-45d9-96ce-c23336c288e9",
         "x": [
          49648.149255483084
         ],
         "y": [
          91.4
         ]
        },
        {
         "marker": {
          "color": "rgba(128, 128, 0, 0.8999999999999999)",
          "line": {
           "width": 1.3
          },
          "opacity": 0.8,
          "size": 12,
          "symbol": "circle"
         },
         "mode": "markers+text",
         "name": "France",
         "text": "",
         "textfont": {
          "color": "#4D5663"
         },
         "textposition": "bottom center",
         "type": "scatter",
         "uid": "641a83ae-39a3-46d1-b199-ed1108843c75",
         "x": [
          41463.64402270341
         ],
         "y": [
          78
         ]
        },
        {
         "marker": {
          "color": "rgba(251, 128, 114, 0.8999999999999999)",
          "line": {
           "width": 1.3
          },
          "opacity": 0.8,
          "size": 12,
          "symbol": "circle"
         },
         "mode": "markers+text",
         "name": "United Kingdom",
         "text": [
          "United Kingdom"
         ],
         "textfont": {
          "color": "#4D5663"
         },
         "textposition": "top left",
         "type": "scatter",
         "uid": "f9193ada-8da1-42c1-ac02-798e462336e8",
         "x": [
          42491.36443509728
         ],
         "y": [
          85.3
         ]
        },
        {
         "marker": {
          "color": "rgba(251, 128, 114, 0.7999999999999998)",
          "line": {
           "width": 1.3
          },
          "opacity": 0.8,
          "size": 12,
          "symbol": "circle"
         },
         "mode": "markers+text",
         "name": "Equatorial Guinea",
         "text": "",
         "textfont": {
          "color": "#4D5663"
         },
         "textposition": "bottom center",
         "type": "scatter",
         "uid": "46fab34f-a65d-4c5b-8ec7-c740b3d9266d",
         "x": [
          10173.963020188008
         ],
         "y": [
          19.2
         ]
        },
        {
         "marker": {
          "color": "rgba(128, 177, 211, 0.7999999999999998)",
          "line": {
           "width": 1.3
          },
          "opacity": 0.8,
          "size": 12,
          "symbol": "circle"
         },
         "mode": "markers+text",
         "name": "Greece",
         "text": "",
         "textfont": {
          "color": "#4D5663"
         },
         "textposition": "bottom center",
         "type": "scatter",
         "uid": "4ca04a38-d20a-460a-b121-b468e8bcb41e",
         "x": [
          20324.25356414775
         ],
         "y": [
          72.9
         ]
        },
        {
         "marker": {
          "color": "rgba(255, 153, 51, 0.7999999999999998)",
          "line": {
           "width": 1.3
          },
          "opacity": 0.8,
          "size": 12,
          "symbol": "circle"
         },
         "mode": "markers+text",
         "name": "Hong Kong",
         "text": [
          "Hong Kong"
         ],
         "textfont": {
          "color": "navy",
          "size": 18
         },
         "textposition": "bottom center",
         "type": "scatter",
         "uid": "233d1fa0-c723-4eea-9dda-181da07f72bd",
         "x": [
          48717.291214253804
         ],
         "y": [
          61.5
         ]
        },
        {
         "marker": {
          "color": "rgba(55, 128, 191, 0.7999999999999998)",
          "line": {
           "width": 1.3
          },
          "opacity": 0.8,
          "size": 12,
          "symbol": "circle"
         },
         "mode": "markers+text",
         "name": "Croatia",
         "text": "",
         "textfont": {
          "color": "#4D5663"
         },
         "textposition": "bottom center",
         "type": "scatter",
         "uid": "d41bc365-f22b-4de6-80ca-e75577236d64",
         "x": [
          14869.090682304484
         ],
         "y": [
          65.7
         ]
        },
        {
         "marker": {
          "color": "rgba(50, 171, 96, 0.7999999999999998)",
          "line": {
           "width": 1.3
          },
          "opacity": 0.8,
          "size": 12,
          "symbol": "circle"
         },
         "mode": "markers+text",
         "name": "Hungary",
         "text": "",
         "textfont": {
          "color": "#4D5663"
         },
         "textposition": "bottom center",
         "type": "scatter",
         "uid": "7c0ce002-83e2-4818-9b16-a50dacdd26f5",
         "x": [
          15938.836796555373
         ],
         "y": [
          66.3
         ]
        },
        {
         "marker": {
          "color": "rgba(128, 0, 128, 0.7999999999999998)",
          "line": {
           "width": 1.3
          },
          "opacity": 0.8,
          "size": 12,
          "symbol": "circle"
         },
         "mode": "markers+text",
         "name": "Ireland",
         "text": "",
         "textfont": {
          "color": "#4D5663"
         },
         "textposition": "bottom center",
         "type": "scatter",
         "uid": "dccfd0f7-a73b-4609-adf3-b93838f30a5f",
         "x": [
          78806.431996268
         ],
         "y": [
          91.5
         ]
        },
        {
         "marker": {
          "color": "rgba(219, 64, 82, 0.7999999999999998)",
          "line": {
           "width": 1.3
          },
          "opacity": 0.8,
          "size": 12,
          "symbol": "circle"
         },
         "mode": "markers+text",
         "name": "Iceland",
         "text": "",
         "textfont": {
          "color": "#4D5663"
         },
         "textposition": "bottom center",
         "type": "scatter",
         "uid": "c98ef2f1-efe4-4bd0-957c-d32966e20534",
         "x": [
          73201.70254998512
         ],
         "y": [
          95.8
         ]
        },
        {
         "marker": {
          "color": "rgba(0, 128, 128, 0.7999999999999998)",
          "line": {
           "width": 1.3
          },
          "opacity": 0.8,
          "size": 12,
          "symbol": "circle"
         },
         "mode": "markers+text",
         "name": "Israel",
         "text": "",
         "textfont": {
          "color": "#4D5663"
         },
         "textposition": "bottom center",
         "type": "scatter",
         "uid": "9bcf4a86-76f0-4a46-bbfe-b90c269cf766",
         "x": [
          41613.99808217575
         ],
         "y": [
          77.9
         ]
        },
        {
         "marker": {
          "color": "rgba(255, 255, 51, 0.7999999999999998)",
          "line": {
           "width": 1.3
          },
          "opacity": 0.8,
          "size": 12,
          "symbol": "circle"
         },
         "mode": "markers+text",
         "name": "Italy",
         "text": "",
         "textfont": {
          "color": "#4D5663"
         },
         "textposition": "bottom center",
         "type": "scatter",
         "uid": "b3043679-32aa-4dc4-a80b-44feee2648ef",
         "x": [
          34318.3511241724
         ],
         "y": [
          77.1
         ]
        },
        {
         "marker": {
          "color": "rgba(128, 128, 0, 0.7999999999999998)",
          "line": {
           "width": 1.3
          },
          "opacity": 0.8,
          "size": 12,
          "symbol": "circle"
         },
         "mode": "markers+text",
         "name": "Japan",
         "text": [
          "Japan"
         ],
         "textfont": {
          "color": "#4D5663"
         },
         "textposition": "bottom center",
         "type": "scatter",
         "uid": "d800b795-6682-42de-9ba3-03b45882e3fe",
         "x": [
          39286.73764880077
         ],
         "y": [
          79.9
         ]
        },
        {
         "marker": {
          "color": "rgba(128, 128, 0, 0.7)",
          "line": {
           "width": 1.3
          },
          "opacity": 0.8,
          "size": 12,
          "symbol": "circle"
         },
         "mode": "markers+text",
         "name": "South Korea",
         "text": [
          "South Korea"
         ],
         "textfont": {
          "color": "#4D5663"
         },
         "textposition": "top center",
         "type": "scatter",
         "uid": "e9555a28-3285-4239-96a1-03ba04b1d86b",
         "x": [
          31362.751472940006
         ],
         "y": [
          80
         ]
        },
        {
         "marker": {
          "color": "rgba(251, 128, 114, 0.7)",
          "line": {
           "width": 1.3
          },
          "opacity": 0.8,
          "size": 12,
          "symbol": "circle"
         },
         "mode": "markers+text",
         "name": "Kuwait",
         "text": "",
         "textfont": {
          "color": "#4D5663"
         },
         "textposition": "bottom center",
         "type": "scatter",
         "uid": "984fa88b-b9b8-4e7c-95ef-b08286ec29a3",
         "x": [
          34243.95290985914
         ],
         "y": [
          38.5
         ]
        },
        {
         "marker": {
          "color": "rgba(128, 177, 211, 0.7)",
          "line": {
           "width": 1.3
          },
          "opacity": 0.8,
          "size": 12,
          "symbol": "circle"
         },
         "mode": "markers+text",
         "name": "Lithuania",
         "text": "",
         "textfont": {
          "color": "#4D5663"
         },
         "textposition": "bottom center",
         "type": "scatter",
         "uid": "905dbf8f-f236-4289-99bb-0ffd42c93fa2",
         "x": [
          19089.70750565638
         ],
         "y": [
          75
         ]
        },
        {
         "marker": {
          "color": "rgba(255, 153, 51, 0.7)",
          "line": {
           "width": 1.3
          },
          "opacity": 0.8,
          "size": 12,
          "symbol": "circle"
         },
         "mode": "markers+text",
         "name": "Luxembourg",
         "text": "",
         "textfont": {
          "color": "#4D5663"
         },
         "textposition": "bottom center",
         "type": "scatter",
         "uid": "3bcbf42d-6753-46de-93fe-536134366366",
         "x": [
          114340.49874177281
         ],
         "y": [
          88.10000000000001
         ]
        },
        {
         "marker": {
          "color": "rgba(55, 128, 191, 0.7)",
          "line": {
           "width": 1.3
          },
          "opacity": 0.8,
          "size": 12,
          "symbol": "circle"
         },
         "mode": "markers+text",
         "name": "Latvia",
         "text": "",
         "textfont": {
          "color": "#4D5663"
         },
         "textposition": "bottom center",
         "type": "scatter",
         "uid": "365e5d09-82ae-4814-89a2-03b861417e95",
         "x": [
          18088.92725186742
         ],
         "y": [
          73.8
         ]
        },
        {
         "marker": {
          "color": "rgba(50, 171, 96, 0.7)",
          "line": {
           "width": 1.3
          },
          "opacity": 0.8,
          "size": 12,
          "symbol": "circle"
         },
         "mode": "markers+text",
         "name": "Malta",
         "text": "",
         "textfont": {
          "color": "#4D5663"
         },
         "textposition": "bottom center",
         "type": "scatter",
         "uid": "a7d7a33c-1467-45c1-ab81-6ad6f6cc0833",
         "x": [
          30074.741185095925
         ],
         "y": [
          82.10000000000001
         ]
        },
        {
         "marker": {
          "color": "rgba(128, 0, 128, 0.7)",
          "line": {
           "width": 1.3
          },
          "opacity": 0.8,
          "size": 12,
          "symbol": "circle"
         },
         "mode": "markers+text",
         "name": "Mauritius",
         "text": "",
         "textfont": {
          "color": "#4D5663"
         },
         "textposition": "bottom center",
         "type": "scatter",
         "uid": "b074b458-a7d6-404b-8da8-67166aed2a0f",
         "x": [
          11238.690394896143
         ],
         "y": [
          82.2
         ]
        },
        {
         "marker": {
          "color": "rgba(219, 64, 82, 0.7)",
          "line": {
           "width": 1.3
          },
          "opacity": 0.8,
          "size": 12,
          "symbol": "circle"
         },
         "mode": "markers+text",
         "name": "Malaysia",
         "text": [
          "Malaysia"
         ],
         "textfont": {
          "color": "#4D5663"
         },
         "textposition": "bottom left",
         "type": "scatter",
         "uid": "ec992a5f-1643-459b-8b0e-2b754d1e04bb",
         "x": [
          11238.957372530129
         ],
         "y": [
          68.8
         ]
        },
        {
         "marker": {
          "color": "rgba(0, 128, 128, 0.7)",
          "line": {
           "width": 1.3
          },
          "opacity": 0.8,
          "size": 12,
          "symbol": "circle"
         },
         "mode": "markers+text",
         "name": "Netherlands",
         "text": "",
         "textfont": {
          "color": "#4D5663"
         },
         "textposition": "bottom center",
         "type": "scatter",
         "uid": "d0764238-3c2a-48c9-b93e-56a278e677ce",
         "x": [
          53024.059213053115
         ],
         "y": [
          88.9
         ]
        },
        {
         "marker": {
          "color": "rgba(255, 255, 51, 0.7)",
          "line": {
           "width": 1.3
          },
          "opacity": 0.8,
          "size": 12,
          "symbol": "circle"
         },
         "mode": "markers+text",
         "name": "Norway",
         "text": "",
         "textfont": {
          "color": "#4D5663"
         },
         "textposition": "bottom center",
         "type": "scatter",
         "uid": "9b4a7938-0c99-4c5a-b99a-162b6f1e1bbd",
         "x": [
          81807.19803867598
         ],
         "y": [
          98.69999999999999
         ]
        },
        {
         "marker": {
          "color": "rgba(255, 255, 51, 0.5999999999999999)",
          "line": {
           "width": 1.3
          },
          "opacity": 0.8,
          "size": 12,
          "symbol": "circle"
         },
         "mode": "markers+text",
         "name": "New Zealand",
         "text": "",
         "textfont": {
          "color": "#4D5663"
         },
         "textposition": "bottom center",
         "type": "scatter",
         "uid": "f7b4600e-3fa0-4e91-8514-2559f07d295f",
         "x": [
          41966.00918463738
         ],
         "y": [
          92.6
         ]
        },
        {
         "marker": {
          "color": "rgba(128, 128, 0, 0.5999999999999999)",
          "line": {
           "width": 1.3
          },
          "opacity": 0.8,
          "size": 12,
          "symbol": "circle"
         },
         "mode": "markers+text",
         "name": "Oman",
         "text": "",
         "textfont": {
          "color": "#4D5663"
         },
         "textposition": "bottom center",
         "type": "scatter",
         "uid": "b0354f48-2dcf-44f2-bd99-17ab1c3eb5ff",
         "x": [
          16418.92692831584
         ],
         "y": [
          30.4
         ]
        },
        {
         "marker": {
          "color": "rgba(251, 128, 114, 0.5999999999999999)",
          "line": {
           "width": 1.3
          },
          "opacity": 0.8,
          "size": 12,
          "symbol": "circle"
         },
         "mode": "markers+text",
         "name": "Panama",
         "text": "",
         "textfont": {
          "color": "#4D5663"
         },
         "textposition": "bottom center",
         "type": "scatter",
         "uid": "48ccff5e-ee7c-4f05-93e0-2565b07aba39",
         "x": [
          15575.07254829151
         ],
         "y": [
          70.5
         ]
        },
        {
         "marker": {
          "color": "rgba(128, 177, 211, 0.5999999999999999)",
          "line": {
           "width": 1.3
          },
          "opacity": 0.8,
          "size": 12,
          "symbol": "circle"
         },
         "mode": "markers+text",
         "name": "Poland",
         "text": "",
         "textfont": {
          "color": "#4D5663"
         },
         "textposition": "bottom center",
         "type": "scatter",
         "uid": "dd6797ce-5b07-44a7-b76f-3218f69bf3b8",
         "x": [
          15424.046025445443
         ],
         "y": [
          66.7
         ]
        },
        {
         "marker": {
          "color": "rgba(255, 153, 51, 0.5999999999999999)",
          "line": {
           "width": 1.3
          },
          "opacity": 0.8,
          "size": 12,
          "symbol": "circle"
         },
         "mode": "markers+text",
         "name": "Portugal",
         "text": "",
         "textfont": {
          "color": "#4D5663"
         },
         "textposition": "bottom center",
         "type": "scatter",
         "uid": "71366219-f675-4be5-bfb2-4f9375dbe3f2",
         "x": [
          23145.73495625951
         ],
         "y": [
          78.4
         ]
        },
        {
         "marker": {
          "color": "rgba(55, 128, 191, 0.5999999999999999)",
          "line": {
           "width": 1.3
          },
          "opacity": 0.8,
          "size": 12,
          "symbol": "circle"
         },
         "mode": "markers+text",
         "name": "Qatar",
         "text": [
          "Qatar"
         ],
         "textfont": {
          "color": "#4D5663"
         },
         "textposition": "bottom center",
         "type": "scatter",
         "uid": "76681a4a-176f-4064-8d76-56eee08cd8d7",
         "x": [
          69026.4688025751
         ],
         "y": [
          31.9
         ]
        },
        {
         "marker": {
          "color": "rgba(50, 171, 96, 0.5999999999999999)",
          "line": {
           "width": 1.3
          },
          "opacity": 0.8,
          "size": 12,
          "symbol": "circle"
         },
         "mode": "markers+text",
         "name": "Romania",
         "text": "",
         "textfont": {
          "color": "#4D5663"
         },
         "textposition": "bottom center",
         "type": "scatter",
         "uid": "4b1c560d-3cb8-4a53-b81c-f5c3e3237bcb",
         "x": [
          12301.186403430165
         ],
         "y": [
          63.8
         ]
        },
        {
         "marker": {
          "color": "rgba(128, 0, 128, 0.5999999999999999)",
          "line": {
           "width": 1.3
          },
          "opacity": 0.8,
          "size": 12,
          "symbol": "circle"
         },
         "mode": "markers+text",
         "name": "Russia",
         "text": [
          "Russia"
         ],
         "textfont": {
          "color": "#4D5663"
         },
         "textposition": "bottom center",
         "type": "scatter",
         "uid": "9dded016-36d4-4ba6-a710-185ba6129219",
         "x": [
          11288.8724435206
         ],
         "y": [
          29.4
         ]
        },
        {
         "marker": {
          "color": "rgba(219, 64, 82, 0.5999999999999999)",
          "line": {
           "width": 1.3
          },
          "opacity": 0.8,
          "size": 12,
          "symbol": "circle"
         },
         "mode": "markers+text",
         "name": "Saudi Arabia",
         "text": "",
         "textfont": {
          "color": "#4D5663"
         },
         "textposition": "bottom center",
         "type": "scatter",
         "uid": "e353e71c-65b9-44a8-b02a-db625bd44e9c",
         "x": [
          23219.13048310333
         ],
         "y": [
          19.3
         ]
        },
        {
         "marker": {
          "color": "rgba(0, 128, 128, 0.5999999999999999)",
          "line": {
           "width": 1.3
          },
          "opacity": 0.8,
          "size": 12,
          "symbol": "circle"
         },
         "mode": "markers+text",
         "name": "Singapore",
         "text": [
          "Singapore"
         ],
         "textfont": {
          "color": "#4D5663"
         },
         "textposition": "bottom center",
         "type": "scatter",
         "uid": "55a34b01-df14-4d32-ac7a-f70a6517fb46",
         "x": [
          64581.94401839536
         ],
         "y": [
          63.8
         ]
        },
        {
         "marker": {
          "color": "rgba(0, 128, 128, 0.49999999999999983)",
          "line": {
           "width": 1.3
          },
          "opacity": 0.8,
          "size": 12,
          "symbol": "circle"
         },
         "mode": "markers+text",
         "name": "Slovakia",
         "text": "",
         "textfont": {
          "color": "#4D5663"
         },
         "textposition": "bottom center",
         "type": "scatter",
         "uid": "f43b8499-d155-418a-b6af-b2bb8567f306",
         "x": [
          19546.901902851343
         ],
         "y": [
          71
         ]
        },
        {
         "marker": {
          "color": "rgba(255, 255, 51, 0.49999999999999983)",
          "line": {
           "width": 1.3
          },
          "opacity": 0.8,
          "size": 12,
          "symbol": "circle"
         },
         "mode": "markers+text",
         "name": "Slovenia",
         "text": "",
         "textfont": {
          "color": "#4D5663"
         },
         "textposition": "bottom center",
         "type": "scatter",
         "uid": "c17a5840-216d-4a63-a2a6-8b573a511c0c",
         "x": [
          26234.022896250564
         ],
         "y": [
          75
         ]
        },
        {
         "marker": {
          "color": "rgba(128, 128, 0, 0.49999999999999983)",
          "line": {
           "width": 1.3
          },
          "opacity": 0.8,
          "size": 12,
          "symbol": "circle"
         },
         "mode": "markers+text",
         "name": "Sweden",
         "text": "",
         "textfont": {
          "color": "#4D5663"
         },
         "textposition": "bottom center",
         "type": "scatter",
         "uid": "e8420754-1b6f-468a-b475-1af7e2ad1863",
         "x": [
          54111.97217236705
         ],
         "y": [
          93.9
         ]
        },
        {
         "marker": {
          "color": "rgba(251, 128, 114, 0.49999999999999983)",
          "line": {
           "width": 1.3
          },
          "opacity": 0.8,
          "size": 12,
          "symbol": "circle"
         },
         "mode": "markers+text",
         "name": "Trinidad and Tobago",
         "text": "",
         "textfont": {
          "color": "#4D5663"
         },
         "textposition": "bottom center",
         "type": "scatter",
         "uid": "1e2b0c54-b4ed-4f0e-b543-a36225b2fa0f",
         "x": [
          16843.701611713033
         ],
         "y": [
          71.6
         ]
        },
        {
         "marker": {
          "color": "rgba(128, 177, 211, 0.49999999999999983)",
          "line": {
           "width": 1.3
          },
          "opacity": 0.8,
          "size": 12,
          "symbol": "circle"
         },
         "mode": "markers+text",
         "name": "Uruguay",
         "text": "",
         "textfont": {
          "color": "#4D5663"
         },
         "textposition": "bottom center",
         "type": "scatter",
         "uid": "26cdaaa7-357e-407b-9248-f1440b982c44",
         "x": [
          17277.97011054961
         ],
         "y": [
          83.80000000000001
         ]
        },
        {
         "marker": {
          "color": "rgba(255, 153, 51, 0.49999999999999983)",
          "line": {
           "width": 1.3
          },
          "opacity": 0.8,
          "size": 12,
          "symbol": "circle"
         },
         "mode": "markers+text",
         "name": "United States",
         "text": [
          "United States"
         ],
         "textfont": {
          "color": "#4D5663"
         },
         "textposition": "bottom center",
         "type": "scatter",
         "uid": "82f91794-906c-4697-8787-cb0a9eb2ba09",
         "x": [
          62641.01456992813
         ],
         "y": [
          79.6
         ]
        }
       ],
       "layout": {
        "legend": {
         "bgcolor": "#FFFFFF",
         "font": {
          "color": "#4D5663"
         }
        },
        "paper_bgcolor": "#FFFFFF",
        "plot_bgcolor": "#FFFFFF",
        "showlegend": false,
        "title": {
         "font": {
          "color": "#4D5663"
         },
         "text": "Political and Economic power, per person, 2018."
        },
        "xaxis": {
         "gridcolor": "#E1E5ED",
         "showgrid": true,
         "tickfont": {
          "color": "#4D5663"
         },
         "title": {
          "font": {
           "color": "#4D5663"
          },
          "text": "GDP Per Capita, USD in Log Scale (World Bank)<br> Optimistically assuming China grows at 8% per year, China is about 21 years behind HK today."
         },
         "type": "log",
         "zerolinecolor": "#E1E5ED"
        },
        "yaxis": {
         "gridcolor": "#E1E5ED",
         "showgrid": true,
         "tickfont": {
          "color": "#4D5663"
         },
         "title": {
          "font": {
           "color": "#4D5663"
          },
          "text": "Democracy Index (The Economist, Intelligence Unit)"
         },
         "zerolinecolor": "#E1E5ED"
        }
       }
      },
      "text/html": [
       "<div>\n",
       "        \n",
       "        \n",
       "            <div id=\"c8d34bd8-350e-476f-813f-7c95429b9a12\" class=\"plotly-graph-div\" style=\"height:525px; width:100%;\"></div>\n",
       "            <script type=\"text/javascript\">\n",
       "                require([\"plotly\"], function(Plotly) {\n",
       "                    window.PLOTLYENV=window.PLOTLYENV || {};\n",
       "                    window.PLOTLYENV.BASE_URL='https://plot.ly';\n",
       "                    \n",
       "                if (document.getElementById(\"c8d34bd8-350e-476f-813f-7c95429b9a12\")) {\n",
       "                    Plotly.newPlot(\n",
       "                        'c8d34bd8-350e-476f-813f-7c95429b9a12',\n",
       "                        [{\"marker\": {\"color\": \"rgba(255, 153, 51, 1.0)\", \"line\": {\"width\": 1.3}, \"opacity\": 0.8, \"size\": 12, \"symbol\": \"circle\"}, \"mode\": \"markers+text\", \"name\": \"United Arab Emirates\", \"text\": \"\", \"textfont\": {\"color\": \"#4D5663\"}, \"textposition\": \"bottom center\", \"type\": \"scatter\", \"uid\": \"4534ac0a-c9dd-4652-b199-e8169c630155\", \"x\": [43004.948646234065], \"y\": [27.599999999999998]}, {\"marker\": {\"color\": \"rgba(55, 128, 191, 1.0)\", \"line\": {\"width\": 1.3}, \"opacity\": 0.8, \"size\": 12, \"symbol\": \"circle\"}, \"mode\": \"markers+text\", \"name\": \"Argentina\", \"text\": \"\", \"textfont\": {\"color\": \"#4D5663\"}, \"textposition\": \"bottom center\", \"type\": \"scatter\", \"uid\": \"29a8f460-1e1f-4d4d-9d7f-0ddc326c340f\", \"x\": [11652.566289748715], \"y\": [70.19999999999999]}, {\"marker\": {\"color\": \"rgba(50, 171, 96, 1.0)\", \"line\": {\"width\": 1.3}, \"opacity\": 0.8, \"size\": 12, \"symbol\": \"circle\"}, \"mode\": \"markers+text\", \"name\": \"Australia\", \"text\": \"\", \"textfont\": {\"color\": \"#4D5663\"}, \"textposition\": \"bottom center\", \"type\": \"scatter\", \"uid\": \"ec71594d-1169-4e78-a594-dad91994b739\", \"x\": [57305.29901620453], \"y\": [90.9]}, {\"marker\": {\"color\": \"rgba(128, 0, 128, 1.0)\", \"line\": {\"width\": 1.3}, \"opacity\": 0.8, \"size\": 12, \"symbol\": \"circle\"}, \"mode\": \"markers+text\", \"name\": \"Austria\", \"text\": \"\", \"textfont\": {\"color\": \"#4D5663\"}, \"textposition\": \"bottom center\", \"type\": \"scatter\", \"uid\": \"f335163e-305b-4867-bdf4-85491b81a32d\", \"x\": [51512.90547515342], \"y\": [82.89999999999999]}, {\"marker\": {\"color\": \"rgba(219, 64, 82, 1.0)\", \"line\": {\"width\": 1.3}, \"opacity\": 0.8, \"size\": 12, \"symbol\": \"circle\"}, \"mode\": \"markers+text\", \"name\": \"Belgium\", \"text\": \"\", \"textfont\": {\"color\": \"#4D5663\"}, \"textposition\": \"bottom center\", \"type\": \"scatter\", \"uid\": \"b64796f3-ffc1-4297-b1a4-7a5858205109\", \"x\": [46556.099567147845], \"y\": [77.8]}, {\"marker\": {\"color\": \"rgba(0, 128, 128, 1.0)\", \"line\": {\"width\": 1.3}, \"opacity\": 0.8, \"size\": 12, \"symbol\": \"circle\"}, \"mode\": \"markers+text\", \"name\": \"Bahrain\", \"text\": \"\", \"textfont\": {\"color\": \"#4D5663\"}, \"textposition\": \"bottom center\", \"type\": \"scatter\", \"uid\": \"c14da831-92ae-4a08-9043-543c9c19f271\", \"x\": [24050.757505395646], \"y\": [27.1]}, {\"marker\": {\"color\": \"rgba(255, 255, 51, 1.0)\", \"line\": {\"width\": 1.3}, \"opacity\": 0.8, \"size\": 12, \"symbol\": \"circle\"}, \"mode\": \"markers+text\", \"name\": \"Canada\", \"text\": \"\", \"textfont\": {\"color\": \"#4D5663\"}, \"textposition\": \"bottom center\", \"type\": \"scatter\", \"uid\": \"1ab986f0-ab75-4735-af1e-90546fa25341\", \"x\": [46210.547622788254], \"y\": [91.5]}, {\"marker\": {\"color\": \"rgba(128, 128, 0, 1.0)\", \"line\": {\"width\": 1.3}, \"opacity\": 0.8, \"size\": 12, \"symbol\": \"circle\"}, \"mode\": \"markers+text\", \"name\": \"Switzerland\", \"text\": \"\", \"textfont\": {\"color\": \"#4D5663\"}, \"textposition\": \"bottom center\", \"type\": \"scatter\", \"uid\": \"ebfdb41a-0f86-44f7-8463-5a65f475b757\", \"x\": [82838.92944457612], \"y\": [90.3]}, {\"marker\": {\"color\": \"rgba(251, 128, 114, 1.0)\", \"line\": {\"width\": 1.3}, \"opacity\": 0.8, \"size\": 12, \"symbol\": \"circle\"}, \"mode\": \"markers+text\", \"name\": \"Chile\", \"text\": \"\", \"textfont\": {\"color\": \"#4D5663\"}, \"textposition\": \"bottom center\", \"type\": \"scatter\", \"uid\": \"b8cbfaca-7edc-4930-84b0-f31945336794\", \"x\": [15923.359061989322], \"y\": [79.7]}, {\"marker\": {\"color\": \"rgba(128, 177, 211, 1.0)\", \"line\": {\"width\": 1.3}, \"opacity\": 0.8, \"size\": 12, \"symbol\": \"circle\"}, \"mode\": \"markers+text\", \"name\": \"China\", \"text\": [\"China\"], \"textfont\": {\"color\": \"crimson\", \"size\": 18}, \"textposition\": \"bottom center\", \"type\": \"scatter\", \"uid\": \"b7c2dd1a-debd-48a5-8d16-4f6493b58d81\", \"x\": [9770.847087833143], \"y\": [33.199999999999996]}, {\"marker\": {\"color\": \"rgba(128, 177, 211, 0.8999999999999999)\", \"line\": {\"width\": 1.3}, \"opacity\": 0.8, \"size\": 12, \"symbol\": \"circle\"}, \"mode\": \"markers+text\", \"name\": \"Costa Rica\", \"text\": \"\", \"textfont\": {\"color\": \"#4D5663\"}, \"textposition\": \"bottom center\", \"type\": \"scatter\", \"uid\": \"ec597de9-5399-496a-a359-b898ebb45284\", \"x\": [12026.547533733288], \"y\": [80.7]}, {\"marker\": {\"color\": \"rgba(255, 153, 51, 0.8999999999999999)\", \"line\": {\"width\": 1.3}, \"opacity\": 0.8, \"size\": 12, \"symbol\": \"circle\"}, \"mode\": \"markers+text\", \"name\": \"Cyprus\", \"text\": \"\", \"textfont\": {\"color\": \"#4D5663\"}, \"textposition\": \"bottom center\", \"type\": \"scatter\", \"uid\": \"9111ee06-31df-4b79-a948-de62f1cb97e7\", \"x\": [28159.3016999455], \"y\": [75.9]}, {\"marker\": {\"color\": \"rgba(55, 128, 191, 0.8999999999999999)\", \"line\": {\"width\": 1.3}, \"opacity\": 0.8, \"size\": 12, \"symbol\": \"circle\"}, \"mode\": \"markers+text\", \"name\": \"Czech Republic\", \"text\": \"\", \"textfont\": {\"color\": \"#4D5663\"}, \"textposition\": \"bottom center\", \"type\": \"scatter\", \"uid\": \"7fdee449-a155-49ab-9d99-c80329fe772a\", \"x\": [23078.57348656913], \"y\": [76.9]}, {\"marker\": {\"color\": \"rgba(50, 171, 96, 0.8999999999999999)\", \"line\": {\"width\": 1.3}, \"opacity\": 0.8, \"size\": 12, \"symbol\": \"circle\"}, \"mode\": \"markers+text\", \"name\": \"Germany\", \"text\": [\"Germany\"], \"textfont\": {\"color\": \"#4D5663\"}, \"textposition\": \"bottom center\", \"type\": \"scatter\", \"uid\": \"37389d50-5e81-4c78-b9c4-dcd8eb74c6df\", \"x\": [48195.57990441158], \"y\": [86.8]}, {\"marker\": {\"color\": \"rgba(128, 0, 128, 0.8999999999999999)\", \"line\": {\"width\": 1.3}, \"opacity\": 0.8, \"size\": 12, \"symbol\": \"circle\"}, \"mode\": \"markers+text\", \"name\": \"Denmark\", \"text\": \"\", \"textfont\": {\"color\": \"#4D5663\"}, \"textposition\": \"bottom center\", \"type\": \"scatter\", \"uid\": \"404bb09a-b7e4-469a-9bfb-9e6c7e0d1487\", \"x\": [60726.46653515095], \"y\": [92.2]}, {\"marker\": {\"color\": \"rgba(219, 64, 82, 0.8999999999999999)\", \"line\": {\"width\": 1.3}, \"opacity\": 0.8, \"size\": 12, \"symbol\": \"circle\"}, \"mode\": \"markers+text\", \"name\": \"Spain\", \"text\": \"\", \"textfont\": {\"color\": \"#4D5663\"}, \"textposition\": \"bottom center\", \"type\": \"scatter\", \"uid\": \"f3596b00-6fb3-4ba6-a6e0-eeec09e0d678\", \"x\": [30523.85923904735], \"y\": [80.8]}, {\"marker\": {\"color\": \"rgba(0, 128, 128, 0.8999999999999999)\", \"line\": {\"width\": 1.3}, \"opacity\": 0.8, \"size\": 12, \"symbol\": \"circle\"}, \"mode\": \"markers+text\", \"name\": \"Estonia\", \"text\": \"\", \"textfont\": {\"color\": \"#4D5663\"}, \"textposition\": \"bottom center\", \"type\": \"scatter\", \"uid\": \"a66a7c2d-487f-46c2-8da0-9859f8296d3a\", \"x\": [22927.744417419308], \"y\": [79.7]}, {\"marker\": {\"color\": \"rgba(255, 255, 51, 0.8999999999999999)\", \"line\": {\"width\": 1.3}, \"opacity\": 0.8, \"size\": 12, \"symbol\": \"circle\"}, \"mode\": \"markers+text\", \"name\": \"Finland\", \"text\": \"\", \"textfont\": {\"color\": \"#4D5663\"}, \"textposition\": \"bottom center\", \"type\": \"scatter\", \"uid\": \"6c07d2b3-5f08-45d9-96ce-c23336c288e9\", \"x\": [49648.149255483084], \"y\": [91.4]}, {\"marker\": {\"color\": \"rgba(128, 128, 0, 0.8999999999999999)\", \"line\": {\"width\": 1.3}, \"opacity\": 0.8, \"size\": 12, \"symbol\": \"circle\"}, \"mode\": \"markers+text\", \"name\": \"France\", \"text\": \"\", \"textfont\": {\"color\": \"#4D5663\"}, \"textposition\": \"bottom center\", \"type\": \"scatter\", \"uid\": \"641a83ae-39a3-46d1-b199-ed1108843c75\", \"x\": [41463.64402270341], \"y\": [78.0]}, {\"marker\": {\"color\": \"rgba(251, 128, 114, 0.8999999999999999)\", \"line\": {\"width\": 1.3}, \"opacity\": 0.8, \"size\": 12, \"symbol\": \"circle\"}, \"mode\": \"markers+text\", \"name\": \"United Kingdom\", \"text\": [\"United Kingdom\"], \"textfont\": {\"color\": \"#4D5663\"}, \"textposition\": \"top left\", \"type\": \"scatter\", \"uid\": \"f9193ada-8da1-42c1-ac02-798e462336e8\", \"x\": [42491.36443509728], \"y\": [85.3]}, {\"marker\": {\"color\": \"rgba(251, 128, 114, 0.7999999999999998)\", \"line\": {\"width\": 1.3}, \"opacity\": 0.8, \"size\": 12, \"symbol\": \"circle\"}, \"mode\": \"markers+text\", \"name\": \"Equatorial Guinea\", \"text\": \"\", \"textfont\": {\"color\": \"#4D5663\"}, \"textposition\": \"bottom center\", \"type\": \"scatter\", \"uid\": \"46fab34f-a65d-4c5b-8ec7-c740b3d9266d\", \"x\": [10173.963020188008], \"y\": [19.2]}, {\"marker\": {\"color\": \"rgba(128, 177, 211, 0.7999999999999998)\", \"line\": {\"width\": 1.3}, \"opacity\": 0.8, \"size\": 12, \"symbol\": \"circle\"}, \"mode\": \"markers+text\", \"name\": \"Greece\", \"text\": \"\", \"textfont\": {\"color\": \"#4D5663\"}, \"textposition\": \"bottom center\", \"type\": \"scatter\", \"uid\": \"4ca04a38-d20a-460a-b121-b468e8bcb41e\", \"x\": [20324.25356414775], \"y\": [72.9]}, {\"marker\": {\"color\": \"rgba(255, 153, 51, 0.7999999999999998)\", \"line\": {\"width\": 1.3}, \"opacity\": 0.8, \"size\": 12, \"symbol\": \"circle\"}, \"mode\": \"markers+text\", \"name\": \"Hong Kong\", \"text\": [\"Hong Kong\"], \"textfont\": {\"color\": \"navy\", \"size\": 18}, \"textposition\": \"bottom center\", \"type\": \"scatter\", \"uid\": \"233d1fa0-c723-4eea-9dda-181da07f72bd\", \"x\": [48717.291214253804], \"y\": [61.5]}, {\"marker\": {\"color\": \"rgba(55, 128, 191, 0.7999999999999998)\", \"line\": {\"width\": 1.3}, \"opacity\": 0.8, \"size\": 12, \"symbol\": \"circle\"}, \"mode\": \"markers+text\", \"name\": \"Croatia\", \"text\": \"\", \"textfont\": {\"color\": \"#4D5663\"}, \"textposition\": \"bottom center\", \"type\": \"scatter\", \"uid\": \"d41bc365-f22b-4de6-80ca-e75577236d64\", \"x\": [14869.090682304484], \"y\": [65.7]}, {\"marker\": {\"color\": \"rgba(50, 171, 96, 0.7999999999999998)\", \"line\": {\"width\": 1.3}, \"opacity\": 0.8, \"size\": 12, \"symbol\": \"circle\"}, \"mode\": \"markers+text\", \"name\": \"Hungary\", \"text\": \"\", \"textfont\": {\"color\": \"#4D5663\"}, \"textposition\": \"bottom center\", \"type\": \"scatter\", \"uid\": \"7c0ce002-83e2-4818-9b16-a50dacdd26f5\", \"x\": [15938.836796555373], \"y\": [66.3]}, {\"marker\": {\"color\": \"rgba(128, 0, 128, 0.7999999999999998)\", \"line\": {\"width\": 1.3}, \"opacity\": 0.8, \"size\": 12, \"symbol\": \"circle\"}, \"mode\": \"markers+text\", \"name\": \"Ireland\", \"text\": \"\", \"textfont\": {\"color\": \"#4D5663\"}, \"textposition\": \"bottom center\", \"type\": \"scatter\", \"uid\": \"dccfd0f7-a73b-4609-adf3-b93838f30a5f\", \"x\": [78806.431996268], \"y\": [91.5]}, {\"marker\": {\"color\": \"rgba(219, 64, 82, 0.7999999999999998)\", \"line\": {\"width\": 1.3}, \"opacity\": 0.8, \"size\": 12, \"symbol\": \"circle\"}, \"mode\": \"markers+text\", \"name\": \"Iceland\", \"text\": \"\", \"textfont\": {\"color\": \"#4D5663\"}, \"textposition\": \"bottom center\", \"type\": \"scatter\", \"uid\": \"c98ef2f1-efe4-4bd0-957c-d32966e20534\", \"x\": [73201.70254998512], \"y\": [95.8]}, {\"marker\": {\"color\": \"rgba(0, 128, 128, 0.7999999999999998)\", \"line\": {\"width\": 1.3}, \"opacity\": 0.8, \"size\": 12, \"symbol\": \"circle\"}, \"mode\": \"markers+text\", \"name\": \"Israel\", \"text\": \"\", \"textfont\": {\"color\": \"#4D5663\"}, \"textposition\": \"bottom center\", \"type\": \"scatter\", \"uid\": \"9bcf4a86-76f0-4a46-bbfe-b90c269cf766\", \"x\": [41613.99808217575], \"y\": [77.9]}, {\"marker\": {\"color\": \"rgba(255, 255, 51, 0.7999999999999998)\", \"line\": {\"width\": 1.3}, \"opacity\": 0.8, \"size\": 12, \"symbol\": \"circle\"}, \"mode\": \"markers+text\", \"name\": \"Italy\", \"text\": \"\", \"textfont\": {\"color\": \"#4D5663\"}, \"textposition\": \"bottom center\", \"type\": \"scatter\", \"uid\": \"b3043679-32aa-4dc4-a80b-44feee2648ef\", \"x\": [34318.3511241724], \"y\": [77.1]}, {\"marker\": {\"color\": \"rgba(128, 128, 0, 0.7999999999999998)\", \"line\": {\"width\": 1.3}, \"opacity\": 0.8, \"size\": 12, \"symbol\": \"circle\"}, \"mode\": \"markers+text\", \"name\": \"Japan\", \"text\": [\"Japan\"], \"textfont\": {\"color\": \"#4D5663\"}, \"textposition\": \"bottom center\", \"type\": \"scatter\", \"uid\": \"d800b795-6682-42de-9ba3-03b45882e3fe\", \"x\": [39286.73764880077], \"y\": [79.9]}, {\"marker\": {\"color\": \"rgba(128, 128, 0, 0.7)\", \"line\": {\"width\": 1.3}, \"opacity\": 0.8, \"size\": 12, \"symbol\": \"circle\"}, \"mode\": \"markers+text\", \"name\": \"South Korea\", \"text\": [\"South Korea\"], \"textfont\": {\"color\": \"#4D5663\"}, \"textposition\": \"top center\", \"type\": \"scatter\", \"uid\": \"e9555a28-3285-4239-96a1-03ba04b1d86b\", \"x\": [31362.751472940006], \"y\": [80.0]}, {\"marker\": {\"color\": \"rgba(251, 128, 114, 0.7)\", \"line\": {\"width\": 1.3}, \"opacity\": 0.8, \"size\": 12, \"symbol\": \"circle\"}, \"mode\": \"markers+text\", \"name\": \"Kuwait\", \"text\": \"\", \"textfont\": {\"color\": \"#4D5663\"}, \"textposition\": \"bottom center\", \"type\": \"scatter\", \"uid\": \"984fa88b-b9b8-4e7c-95ef-b08286ec29a3\", \"x\": [34243.95290985914], \"y\": [38.5]}, {\"marker\": {\"color\": \"rgba(128, 177, 211, 0.7)\", \"line\": {\"width\": 1.3}, \"opacity\": 0.8, \"size\": 12, \"symbol\": \"circle\"}, \"mode\": \"markers+text\", \"name\": \"Lithuania\", \"text\": \"\", \"textfont\": {\"color\": \"#4D5663\"}, \"textposition\": \"bottom center\", \"type\": \"scatter\", \"uid\": \"905dbf8f-f236-4289-99bb-0ffd42c93fa2\", \"x\": [19089.70750565638], \"y\": [75.0]}, {\"marker\": {\"color\": \"rgba(255, 153, 51, 0.7)\", \"line\": {\"width\": 1.3}, \"opacity\": 0.8, \"size\": 12, \"symbol\": \"circle\"}, \"mode\": \"markers+text\", \"name\": \"Luxembourg\", \"text\": \"\", \"textfont\": {\"color\": \"#4D5663\"}, \"textposition\": \"bottom center\", \"type\": \"scatter\", \"uid\": \"3bcbf42d-6753-46de-93fe-536134366366\", \"x\": [114340.49874177281], \"y\": [88.10000000000001]}, {\"marker\": {\"color\": \"rgba(55, 128, 191, 0.7)\", \"line\": {\"width\": 1.3}, \"opacity\": 0.8, \"size\": 12, \"symbol\": \"circle\"}, \"mode\": \"markers+text\", \"name\": \"Latvia\", \"text\": \"\", \"textfont\": {\"color\": \"#4D5663\"}, \"textposition\": \"bottom center\", \"type\": \"scatter\", \"uid\": \"365e5d09-82ae-4814-89a2-03b861417e95\", \"x\": [18088.92725186742], \"y\": [73.8]}, {\"marker\": {\"color\": \"rgba(50, 171, 96, 0.7)\", \"line\": {\"width\": 1.3}, \"opacity\": 0.8, \"size\": 12, \"symbol\": \"circle\"}, \"mode\": \"markers+text\", \"name\": \"Malta\", \"text\": \"\", \"textfont\": {\"color\": \"#4D5663\"}, \"textposition\": \"bottom center\", \"type\": \"scatter\", \"uid\": \"a7d7a33c-1467-45c1-ab81-6ad6f6cc0833\", \"x\": [30074.741185095925], \"y\": [82.10000000000001]}, {\"marker\": {\"color\": \"rgba(128, 0, 128, 0.7)\", \"line\": {\"width\": 1.3}, \"opacity\": 0.8, \"size\": 12, \"symbol\": \"circle\"}, \"mode\": \"markers+text\", \"name\": \"Mauritius\", \"text\": \"\", \"textfont\": {\"color\": \"#4D5663\"}, \"textposition\": \"bottom center\", \"type\": \"scatter\", \"uid\": \"b074b458-a7d6-404b-8da8-67166aed2a0f\", \"x\": [11238.690394896143], \"y\": [82.2]}, {\"marker\": {\"color\": \"rgba(219, 64, 82, 0.7)\", \"line\": {\"width\": 1.3}, \"opacity\": 0.8, \"size\": 12, \"symbol\": \"circle\"}, \"mode\": \"markers+text\", \"name\": \"Malaysia\", \"text\": [\"Malaysia\"], \"textfont\": {\"color\": \"#4D5663\"}, \"textposition\": \"bottom left\", \"type\": \"scatter\", \"uid\": \"ec992a5f-1643-459b-8b0e-2b754d1e04bb\", \"x\": [11238.957372530129], \"y\": [68.8]}, {\"marker\": {\"color\": \"rgba(0, 128, 128, 0.7)\", \"line\": {\"width\": 1.3}, \"opacity\": 0.8, \"size\": 12, \"symbol\": \"circle\"}, \"mode\": \"markers+text\", \"name\": \"Netherlands\", \"text\": \"\", \"textfont\": {\"color\": \"#4D5663\"}, \"textposition\": \"bottom center\", \"type\": \"scatter\", \"uid\": \"d0764238-3c2a-48c9-b93e-56a278e677ce\", \"x\": [53024.059213053115], \"y\": [88.9]}, {\"marker\": {\"color\": \"rgba(255, 255, 51, 0.7)\", \"line\": {\"width\": 1.3}, \"opacity\": 0.8, \"size\": 12, \"symbol\": \"circle\"}, \"mode\": \"markers+text\", \"name\": \"Norway\", \"text\": \"\", \"textfont\": {\"color\": \"#4D5663\"}, \"textposition\": \"bottom center\", \"type\": \"scatter\", \"uid\": \"9b4a7938-0c99-4c5a-b99a-162b6f1e1bbd\", \"x\": [81807.19803867598], \"y\": [98.69999999999999]}, {\"marker\": {\"color\": \"rgba(255, 255, 51, 0.5999999999999999)\", \"line\": {\"width\": 1.3}, \"opacity\": 0.8, \"size\": 12, \"symbol\": \"circle\"}, \"mode\": \"markers+text\", \"name\": \"New Zealand\", \"text\": \"\", \"textfont\": {\"color\": \"#4D5663\"}, \"textposition\": \"bottom center\", \"type\": \"scatter\", \"uid\": \"f7b4600e-3fa0-4e91-8514-2559f07d295f\", \"x\": [41966.00918463738], \"y\": [92.6]}, {\"marker\": {\"color\": \"rgba(128, 128, 0, 0.5999999999999999)\", \"line\": {\"width\": 1.3}, \"opacity\": 0.8, \"size\": 12, \"symbol\": \"circle\"}, \"mode\": \"markers+text\", \"name\": \"Oman\", \"text\": \"\", \"textfont\": {\"color\": \"#4D5663\"}, \"textposition\": \"bottom center\", \"type\": \"scatter\", \"uid\": \"b0354f48-2dcf-44f2-bd99-17ab1c3eb5ff\", \"x\": [16418.92692831584], \"y\": [30.4]}, {\"marker\": {\"color\": \"rgba(251, 128, 114, 0.5999999999999999)\", \"line\": {\"width\": 1.3}, \"opacity\": 0.8, \"size\": 12, \"symbol\": \"circle\"}, \"mode\": \"markers+text\", \"name\": \"Panama\", \"text\": \"\", \"textfont\": {\"color\": \"#4D5663\"}, \"textposition\": \"bottom center\", \"type\": \"scatter\", \"uid\": \"48ccff5e-ee7c-4f05-93e0-2565b07aba39\", \"x\": [15575.07254829151], \"y\": [70.5]}, {\"marker\": {\"color\": \"rgba(128, 177, 211, 0.5999999999999999)\", \"line\": {\"width\": 1.3}, \"opacity\": 0.8, \"size\": 12, \"symbol\": \"circle\"}, \"mode\": \"markers+text\", \"name\": \"Poland\", \"text\": \"\", \"textfont\": {\"color\": \"#4D5663\"}, \"textposition\": \"bottom center\", \"type\": \"scatter\", \"uid\": \"dd6797ce-5b07-44a7-b76f-3218f69bf3b8\", \"x\": [15424.046025445443], \"y\": [66.7]}, {\"marker\": {\"color\": \"rgba(255, 153, 51, 0.5999999999999999)\", \"line\": {\"width\": 1.3}, \"opacity\": 0.8, \"size\": 12, \"symbol\": \"circle\"}, \"mode\": \"markers+text\", \"name\": \"Portugal\", \"text\": \"\", \"textfont\": {\"color\": \"#4D5663\"}, \"textposition\": \"bottom center\", \"type\": \"scatter\", \"uid\": \"71366219-f675-4be5-bfb2-4f9375dbe3f2\", \"x\": [23145.73495625951], \"y\": [78.4]}, {\"marker\": {\"color\": \"rgba(55, 128, 191, 0.5999999999999999)\", \"line\": {\"width\": 1.3}, \"opacity\": 0.8, \"size\": 12, \"symbol\": \"circle\"}, \"mode\": \"markers+text\", \"name\": \"Qatar\", \"text\": [\"Qatar\"], \"textfont\": {\"color\": \"#4D5663\"}, \"textposition\": \"bottom center\", \"type\": \"scatter\", \"uid\": \"76681a4a-176f-4064-8d76-56eee08cd8d7\", \"x\": [69026.4688025751], \"y\": [31.9]}, {\"marker\": {\"color\": \"rgba(50, 171, 96, 0.5999999999999999)\", \"line\": {\"width\": 1.3}, \"opacity\": 0.8, \"size\": 12, \"symbol\": \"circle\"}, \"mode\": \"markers+text\", \"name\": \"Romania\", \"text\": \"\", \"textfont\": {\"color\": \"#4D5663\"}, \"textposition\": \"bottom center\", \"type\": \"scatter\", \"uid\": \"4b1c560d-3cb8-4a53-b81c-f5c3e3237bcb\", \"x\": [12301.186403430165], \"y\": [63.8]}, {\"marker\": {\"color\": \"rgba(128, 0, 128, 0.5999999999999999)\", \"line\": {\"width\": 1.3}, \"opacity\": 0.8, \"size\": 12, \"symbol\": \"circle\"}, \"mode\": \"markers+text\", \"name\": \"Russia\", \"text\": [\"Russia\"], \"textfont\": {\"color\": \"#4D5663\"}, \"textposition\": \"bottom center\", \"type\": \"scatter\", \"uid\": \"9dded016-36d4-4ba6-a710-185ba6129219\", \"x\": [11288.8724435206], \"y\": [29.4]}, {\"marker\": {\"color\": \"rgba(219, 64, 82, 0.5999999999999999)\", \"line\": {\"width\": 1.3}, \"opacity\": 0.8, \"size\": 12, \"symbol\": \"circle\"}, \"mode\": \"markers+text\", \"name\": \"Saudi Arabia\", \"text\": \"\", \"textfont\": {\"color\": \"#4D5663\"}, \"textposition\": \"bottom center\", \"type\": \"scatter\", \"uid\": \"e353e71c-65b9-44a8-b02a-db625bd44e9c\", \"x\": [23219.13048310333], \"y\": [19.3]}, {\"marker\": {\"color\": \"rgba(0, 128, 128, 0.5999999999999999)\", \"line\": {\"width\": 1.3}, \"opacity\": 0.8, \"size\": 12, \"symbol\": \"circle\"}, \"mode\": \"markers+text\", \"name\": \"Singapore\", \"text\": [\"Singapore\"], \"textfont\": {\"color\": \"#4D5663\"}, \"textposition\": \"bottom center\", \"type\": \"scatter\", \"uid\": \"55a34b01-df14-4d32-ac7a-f70a6517fb46\", \"x\": [64581.94401839536], \"y\": [63.8]}, {\"marker\": {\"color\": \"rgba(0, 128, 128, 0.49999999999999983)\", \"line\": {\"width\": 1.3}, \"opacity\": 0.8, \"size\": 12, \"symbol\": \"circle\"}, \"mode\": \"markers+text\", \"name\": \"Slovakia\", \"text\": \"\", \"textfont\": {\"color\": \"#4D5663\"}, \"textposition\": \"bottom center\", \"type\": \"scatter\", \"uid\": \"f43b8499-d155-418a-b6af-b2bb8567f306\", \"x\": [19546.901902851343], \"y\": [71.0]}, {\"marker\": {\"color\": \"rgba(255, 255, 51, 0.49999999999999983)\", \"line\": {\"width\": 1.3}, \"opacity\": 0.8, \"size\": 12, \"symbol\": \"circle\"}, \"mode\": \"markers+text\", \"name\": \"Slovenia\", \"text\": \"\", \"textfont\": {\"color\": \"#4D5663\"}, \"textposition\": \"bottom center\", \"type\": \"scatter\", \"uid\": \"c17a5840-216d-4a63-a2a6-8b573a511c0c\", \"x\": [26234.022896250564], \"y\": [75.0]}, {\"marker\": {\"color\": \"rgba(128, 128, 0, 0.49999999999999983)\", \"line\": {\"width\": 1.3}, \"opacity\": 0.8, \"size\": 12, \"symbol\": \"circle\"}, \"mode\": \"markers+text\", \"name\": \"Sweden\", \"text\": \"\", \"textfont\": {\"color\": \"#4D5663\"}, \"textposition\": \"bottom center\", \"type\": \"scatter\", \"uid\": \"e8420754-1b6f-468a-b475-1af7e2ad1863\", \"x\": [54111.97217236705], \"y\": [93.9]}, {\"marker\": {\"color\": \"rgba(251, 128, 114, 0.49999999999999983)\", \"line\": {\"width\": 1.3}, \"opacity\": 0.8, \"size\": 12, \"symbol\": \"circle\"}, \"mode\": \"markers+text\", \"name\": \"Trinidad and Tobago\", \"text\": \"\", \"textfont\": {\"color\": \"#4D5663\"}, \"textposition\": \"bottom center\", \"type\": \"scatter\", \"uid\": \"1e2b0c54-b4ed-4f0e-b543-a36225b2fa0f\", \"x\": [16843.701611713033], \"y\": [71.6]}, {\"marker\": {\"color\": \"rgba(128, 177, 211, 0.49999999999999983)\", \"line\": {\"width\": 1.3}, \"opacity\": 0.8, \"size\": 12, \"symbol\": \"circle\"}, \"mode\": \"markers+text\", \"name\": \"Uruguay\", \"text\": \"\", \"textfont\": {\"color\": \"#4D5663\"}, \"textposition\": \"bottom center\", \"type\": \"scatter\", \"uid\": \"26cdaaa7-357e-407b-9248-f1440b982c44\", \"x\": [17277.97011054961], \"y\": [83.80000000000001]}, {\"marker\": {\"color\": \"rgba(255, 153, 51, 0.49999999999999983)\", \"line\": {\"width\": 1.3}, \"opacity\": 0.8, \"size\": 12, \"symbol\": \"circle\"}, \"mode\": \"markers+text\", \"name\": \"United States\", \"text\": [\"United States\"], \"textfont\": {\"color\": \"#4D5663\"}, \"textposition\": \"bottom center\", \"type\": \"scatter\", \"uid\": \"82f91794-906c-4697-8787-cb0a9eb2ba09\", \"x\": [62641.01456992813], \"y\": [79.6]}],\n",
       "                        {\"legend\": {\"bgcolor\": \"#FFFFFF\", \"font\": {\"color\": \"#4D5663\"}}, \"paper_bgcolor\": \"#FFFFFF\", \"plot_bgcolor\": \"#FFFFFF\", \"showlegend\": false, \"title\": {\"font\": {\"color\": \"#4D5663\"}, \"text\": \"Political and Economic power, per person, 2018.\"}, \"xaxis\": {\"gridcolor\": \"#E1E5ED\", \"showgrid\": true, \"tickfont\": {\"color\": \"#4D5663\"}, \"title\": {\"font\": {\"color\": \"#4D5663\"}, \"text\": \"GDP Per Capita, USD in Log Scale (World Bank)<br> Optimistically assuming China grows at 8% per year, China is about 21 years behind HK today.\"}, \"type\": \"log\", \"zerolinecolor\": \"#E1E5ED\"}, \"yaxis\": {\"gridcolor\": \"#E1E5ED\", \"showgrid\": true, \"tickfont\": {\"color\": \"#4D5663\"}, \"title\": {\"font\": {\"color\": \"#4D5663\"}, \"text\": \"Democracy Index (The Economist, Intelligence Unit)\"}, \"zerolinecolor\": \"#E1E5ED\"}},\n",
       "                        {\"showLink\": true, \"linkText\": \"Export to plot.ly\", \"plotlyServerURL\": \"https://plot.ly\", \"responsive\": true}\n",
       "                    ).then(function(){\n",
       "                            \n",
       "var gd = document.getElementById('c8d34bd8-350e-476f-813f-7c95429b9a12');\n",
       "var x = new MutationObserver(function (mutations, observer) {{\n",
       "        var display = window.getComputedStyle(gd).display;\n",
       "        if (!display || display === 'none') {{\n",
       "            console.log([gd, 'removed!']);\n",
       "            Plotly.purge(gd);\n",
       "            observer.disconnect();\n",
       "        }}\n",
       "}});\n",
       "\n",
       "// Listen for the removal of the full notebook cells\n",
       "var notebookContainer = gd.closest('#notebook-container');\n",
       "if (notebookContainer) {{\n",
       "    x.observe(notebookContainer, {childList: true});\n",
       "}}\n",
       "\n",
       "// Listen for the clearing of the current output cell\n",
       "var outputEl = gd.closest('.output');\n",
       "if (outputEl) {{\n",
       "    x.observe(outputEl, {childList: true});\n",
       "}}\n",
       "\n",
       "                        }).then(function(){\n",
       "                            function downloadimage(format, height, width, filename) {var p = document.getElementById('c8d34bd8-350e-476f-813f-7c95429b9a12');Plotly.downloadImage(p, {format: format, height: height, width: width, filename: filename});};if(document.readyState == 'complete') {downloadimage('png', 500, 800, 'pol_econ_power');}\n",
       "                        })\n",
       "                };\n",
       "                });\n",
       "            </script>\n",
       "        </div>"
      ]
     },
     "metadata": {},
     "output_type": "display_data"
    }
   ],
   "source": [
    "figure.iplot(filename='pol_econ_power', asImage=True)"
   ]
  },
  {
   "attachments": {
    "pol_econ_power%20%2812%29.png": {
     "image/png": "[encoded data removed]"
    }
   },
   "cell_type": "markdown",
   "metadata": {},
   "source": [
    "![](![pol_econ_power%20%2812%29.png](attachment:pol_econ_power%20%2812%29.png)"
   ]
  },
  {
   "cell_type": "code",
   "execution_count": 23,
   "metadata": {
    "scrolled": true
   },
   "outputs": [
    {
     "name": "stdout",
     "output_type": "stream",
     "text": [
      "Assume China grows at 8%, Hong Kong 0%, it would take China 20.65 years to catch up.\n",
      "Assume China grows at 8%, Hong Kong 2%, it would take China 27.80 years to catch up.\n"
     ]
    }
   ],
   "source": [
    "import math\n",
    "\n",
    "def get_catch_up_msg(a, b, growth_a, growth_b, base_a, base_b):\n",
    "    num_years = math.log(base_b / base_a, ((100 + growth_a) / (100 + growth_b)))\n",
    "    msg = (\n",
    "        'Assume {a} grows at {growth_a}%, {b} {growth_b}%, '\n",
    "        'it would take {a} {0:.2f} years to catch up.'\n",
    "    )\n",
    "    return msg.format(num_years, **locals())\n",
    "    \n",
    "print(get_catch_up_msg('China', 'Hong Kong', 8, 0, 10000, 49000))\n",
    "print(get_catch_up_msg('China', 'Hong Kong', 8, 2, 10000, 49000))"
   ]
  },
  {
   "cell_type": "markdown",
   "metadata": {},
   "source": [
    "> Taiwan, China, is not listed as a separate country for World Development Indicators. \n",
    "> For most indicators, Taiwan, China, data is not added to the data for China, \n",
    "> but Taiwan, China, is added to the world aggregate and the high-income countries aggregate.\n",
    ">\n",
    "> -- <cite>[World Bank](https://datahelpdesk.worldbank.org/knowledgebase/articles/114933-where-are-your-data-on-taiwan) </cite>"
   ]
  },
  {
   "cell_type": "code",
   "execution_count": 24,
   "metadata": {},
   "outputs": [],
   "source": [
    "def get_num_years_to_current_level(current_level, starting_level, starting_rate, rate_decrease_per_ten_years):\n",
    "    level = starting_level\n",
    "    rate = starting_rate\n",
    "    for idx, _ in enumerate(range(100)):\n",
    "        level *= (1 + rate / 100)\n",
    "        if idx % 10 == 0 and idx > 0:\n",
    "            rate -= rate_decrease_per_ten_years\n",
    "            if rate < 0:\n",
    "                break\n",
    "        if level > current_level:\n",
    "            return(idx)\n"
   ]
  },
  {
   "cell_type": "code",
   "execution_count": 25,
   "metadata": {},
   "outputs": [
    {
     "name": "stdout",
     "output_type": "stream",
     "text": [
      "25\n"
     ]
    }
   ],
   "source": [
    "print(get_num_years_to_current_level(49000, 10000, 8, 2))"
   ]
  },
  {
   "cell_type": "code",
   "execution_count": 26,
   "metadata": {},
   "outputs": [],
   "source": [
    "def get_level_after_thirty_years(starting_level, starting_rate, rate_decrease_per_ten_years):\n",
    "    level = starting_level\n",
    "    rate = starting_rate\n",
    "    for idx in range(30):\n",
    "        level *= (1 + rate / 100)\n",
    "        if idx % 10 == 0 and idx > 0:\n",
    "            rate -= rate_decrease_per_ten_years\n",
    "    return level"
   ]
  },
  {
   "cell_type": "code",
   "execution_count": 27,
   "metadata": {},
   "outputs": [
    {
     "name": "stdout",
     "output_type": "stream",
     "text": [
      "59431.95502551923\n"
     ]
    }
   ],
   "source": [
    "print(get_level_after_thirty_years(10000, 8, 2))"
   ]
  },
  {
   "cell_type": "code",
   "execution_count": 28,
   "metadata": {},
   "outputs": [
    {
     "data": {
      "text/plain": [
       "88756.71762106438"
      ]
     },
     "execution_count": 28,
     "metadata": {},
     "output_type": "execute_result"
    }
   ],
   "source": [
    "49000 * 1.02 ** 30"
   ]
  }
 ],
 "metadata": {
  "kernelspec": {
   "display_name": "Python 3",
   "language": "python",
   "name": "python3"
  },
  "language_info": {
   "codemirror_mode": {
    "name": "ipython",
    "version": 3
   },
   "file_extension": ".py",
   "mimetype": "text/x-python",
   "name": "python",
   "nbconvert_exporter": "python",
   "pygments_lexer": "ipython3",
   "version": "3.6.0"
  }
 },
 "nbformat": 4,
 "nbformat_minor": 2
}
