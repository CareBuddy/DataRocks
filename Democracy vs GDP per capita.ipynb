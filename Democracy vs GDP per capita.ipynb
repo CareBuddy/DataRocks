{
 "cells": [
  {
   "cell_type": "code",
   "execution_count": 1,
   "metadata": {},
   "outputs": [],
   "source": [
    "# modified from https://kyso.io/eoin/democracy-vs-gdp-per-capita\n",
    "\n",
    "gdp_link = 'http://api.worldbank.org/v2/en/indicator/NY.GDP.PCAP.CD?downloadformat=excel'\n",
    "eiu_link = 'http://www.gapm.io/dxlsdemocrix'"
   ]
  },
  {
   "cell_type": "code",
   "execution_count": 2,
   "metadata": {},
   "outputs": [],
   "source": [
    "import os\n",
    "import requests\n",
    "\n",
    "def download(url, filename):\n",
    "    r = requests.get(url)\n",
    "    f = open(filename, 'wb')\n",
    "    for chunk in r.iter_content(chunk_size=512 * 1024): \n",
    "        if chunk: # filter out keep-alive new chunks\n",
    "            f.write(chunk)\n",
    "    f.close()\n",
    "    return\n",
    "\n",
    "def download_if_not_exists(url, filename):\n",
    "    if os.path.exists(filename):\n",
    "        return\n",
    "    download(url, filename)"
   ]
  },
  {
   "cell_type": "code",
   "execution_count": 3,
   "metadata": {},
   "outputs": [],
   "source": [
    "download_if_not_exists(gdp_link, '/tmp/gdp.xls')\n",
    "download_if_not_exists(eiu_link, '/tmp/eiu.xls')"
   ]
  },
  {
   "cell_type": "code",
   "execution_count": 4,
   "metadata": {},
   "outputs": [],
   "source": [
    "%%capture\n",
    "!pip install xlrd"
   ]
  },
  {
   "cell_type": "code",
   "execution_count": 5,
   "metadata": {},
   "outputs": [],
   "source": [
    "import pandas as pd\n",
    "\n",
    "df_gdp = pd.read_excel('/tmp/gdp.xls', skiprows=3)\n",
    "df_gdp = df_gdp.set_index('Country Name')\n",
    "\n",
    "df_dem = pd.read_excel('/tmp/eiu.xls', sheet_name='data-for-countries-etc-by-year')"
   ]
  },
  {
   "cell_type": "code",
   "execution_count": 6,
   "metadata": {},
   "outputs": [],
   "source": [
    "df_dem['Country Code'] = list(map(lambda x: str(x).upper(), df_dem['geo']))"
   ]
  },
  {
   "cell_type": "code",
   "execution_count": 7,
   "metadata": {},
   "outputs": [],
   "source": [
    "year = 2018\n",
    "year_str = '{}'.format(year)"
   ]
  },
  {
   "cell_type": "code",
   "execution_count": 8,
   "metadata": {},
   "outputs": [],
   "source": [
    "df_dem = df_dem[df_dem['time'] == year][['Democracy index (EIU)', 'Country Code']]"
   ]
  },
  {
   "cell_type": "code",
   "execution_count": 9,
   "metadata": {},
   "outputs": [],
   "source": [
    "df = df_gdp[['Country Code', year_str]]\n",
    "df = pd.merge(df, df_dem, on=\"Country Code\", right_index=True)\n",
    "df = df.rename(columns={ year_str: 'GDP Per Capita' })"
   ]
  },
  {
   "cell_type": "code",
   "execution_count": 10,
   "metadata": {
    "scrolled": true
   },
   "outputs": [
    {
     "data": {
      "text/html": [
       "<div>\n",
       "<style scoped>\n",
       "    .dataframe tbody tr th:only-of-type {\n",
       "        vertical-align: middle;\n",
       "    }\n",
       "\n",
       "    .dataframe tbody tr th {\n",
       "        vertical-align: top;\n",
       "    }\n",
       "\n",
       "    .dataframe thead th {\n",
       "        text-align: right;\n",
       "    }\n",
       "</style>\n",
       "<table border=\"1\" class=\"dataframe\">\n",
       "  <thead>\n",
       "    <tr style=\"text-align: right;\">\n",
       "      <th></th>\n",
       "      <th>Country Code</th>\n",
       "      <th>GDP Per Capita</th>\n",
       "      <th>Democracy index (EIU)</th>\n",
       "    </tr>\n",
       "    <tr>\n",
       "      <th>Country Name</th>\n",
       "      <th></th>\n",
       "      <th></th>\n",
       "      <th></th>\n",
       "    </tr>\n",
       "  </thead>\n",
       "  <tbody>\n",
       "    <tr>\n",
       "      <th>Afghanistan</th>\n",
       "      <td>AFG</td>\n",
       "      <td>520.896603</td>\n",
       "      <td>29.7</td>\n",
       "    </tr>\n",
       "    <tr>\n",
       "      <th>Angola</th>\n",
       "      <td>AGO</td>\n",
       "      <td>3432.385736</td>\n",
       "      <td>36.2</td>\n",
       "    </tr>\n",
       "    <tr>\n",
       "      <th>Albania</th>\n",
       "      <td>ALB</td>\n",
       "      <td>5253.630064</td>\n",
       "      <td>59.8</td>\n",
       "    </tr>\n",
       "    <tr>\n",
       "      <th>United Arab Emirates</th>\n",
       "      <td>ARE</td>\n",
       "      <td>43004.948646</td>\n",
       "      <td>27.6</td>\n",
       "    </tr>\n",
       "    <tr>\n",
       "      <th>Argentina</th>\n",
       "      <td>ARG</td>\n",
       "      <td>11652.566290</td>\n",
       "      <td>70.2</td>\n",
       "    </tr>\n",
       "    <tr>\n",
       "      <th>Armenia</th>\n",
       "      <td>ARM</td>\n",
       "      <td>4212.070943</td>\n",
       "      <td>47.9</td>\n",
       "    </tr>\n",
       "    <tr>\n",
       "      <th>Australia</th>\n",
       "      <td>AUS</td>\n",
       "      <td>57305.299016</td>\n",
       "      <td>90.9</td>\n",
       "    </tr>\n",
       "    <tr>\n",
       "      <th>Austria</th>\n",
       "      <td>AUT</td>\n",
       "      <td>51512.905475</td>\n",
       "      <td>82.9</td>\n",
       "    </tr>\n",
       "    <tr>\n",
       "      <th>Azerbaijan</th>\n",
       "      <td>AZE</td>\n",
       "      <td>4721.178087</td>\n",
       "      <td>26.5</td>\n",
       "    </tr>\n",
       "    <tr>\n",
       "      <th>Burundi</th>\n",
       "      <td>BDI</td>\n",
       "      <td>275.429603</td>\n",
       "      <td>23.3</td>\n",
       "    </tr>\n",
       "    <tr>\n",
       "      <th>Belgium</th>\n",
       "      <td>BEL</td>\n",
       "      <td>46556.099567</td>\n",
       "      <td>77.8</td>\n",
       "    </tr>\n",
       "    <tr>\n",
       "      <th>Benin</th>\n",
       "      <td>BEN</td>\n",
       "      <td>901.954052</td>\n",
       "      <td>57.4</td>\n",
       "    </tr>\n",
       "    <tr>\n",
       "      <th>Burkina Faso</th>\n",
       "      <td>BFA</td>\n",
       "      <td>731.171717</td>\n",
       "      <td>47.5</td>\n",
       "    </tr>\n",
       "    <tr>\n",
       "      <th>Bangladesh</th>\n",
       "      <td>BGD</td>\n",
       "      <td>1698.262802</td>\n",
       "      <td>55.7</td>\n",
       "    </tr>\n",
       "    <tr>\n",
       "      <th>Bulgaria</th>\n",
       "      <td>BGR</td>\n",
       "      <td>9272.629304</td>\n",
       "      <td>70.3</td>\n",
       "    </tr>\n",
       "    <tr>\n",
       "      <th>Bahrain</th>\n",
       "      <td>BHR</td>\n",
       "      <td>24050.757505</td>\n",
       "      <td>27.1</td>\n",
       "    </tr>\n",
       "    <tr>\n",
       "      <th>Bosnia and Herzegovina</th>\n",
       "      <td>BIH</td>\n",
       "      <td>5951.323299</td>\n",
       "      <td>49.8</td>\n",
       "    </tr>\n",
       "    <tr>\n",
       "      <th>Belarus</th>\n",
       "      <td>BLR</td>\n",
       "      <td>6289.938553</td>\n",
       "      <td>31.3</td>\n",
       "    </tr>\n",
       "    <tr>\n",
       "      <th>Bolivia</th>\n",
       "      <td>BOL</td>\n",
       "      <td>3548.590140</td>\n",
       "      <td>57.0</td>\n",
       "    </tr>\n",
       "    <tr>\n",
       "      <th>Brazil</th>\n",
       "      <td>BRA</td>\n",
       "      <td>8920.762105</td>\n",
       "      <td>69.7</td>\n",
       "    </tr>\n",
       "    <tr>\n",
       "      <th>Bhutan</th>\n",
       "      <td>BTN</td>\n",
       "      <td>3360.266867</td>\n",
       "      <td>53.0</td>\n",
       "    </tr>\n",
       "    <tr>\n",
       "      <th>Botswana</th>\n",
       "      <td>BWA</td>\n",
       "      <td>8258.641666</td>\n",
       "      <td>78.1</td>\n",
       "    </tr>\n",
       "    <tr>\n",
       "      <th>Central African Republic</th>\n",
       "      <td>CAF</td>\n",
       "      <td>509.970975</td>\n",
       "      <td>15.2</td>\n",
       "    </tr>\n",
       "    <tr>\n",
       "      <th>Canada</th>\n",
       "      <td>CAN</td>\n",
       "      <td>46210.547623</td>\n",
       "      <td>91.5</td>\n",
       "    </tr>\n",
       "    <tr>\n",
       "      <th>Switzerland</th>\n",
       "      <td>CHE</td>\n",
       "      <td>82838.929445</td>\n",
       "      <td>90.3</td>\n",
       "    </tr>\n",
       "    <tr>\n",
       "      <th>Chile</th>\n",
       "      <td>CHL</td>\n",
       "      <td>15923.359062</td>\n",
       "      <td>79.7</td>\n",
       "    </tr>\n",
       "    <tr>\n",
       "      <th>China</th>\n",
       "      <td>CHN</td>\n",
       "      <td>9770.847088</td>\n",
       "      <td>33.2</td>\n",
       "    </tr>\n",
       "    <tr>\n",
       "      <th>Cote d'Ivoire</th>\n",
       "      <td>CIV</td>\n",
       "      <td>1715.531238</td>\n",
       "      <td>41.5</td>\n",
       "    </tr>\n",
       "    <tr>\n",
       "      <th>Cameroon</th>\n",
       "      <td>CMR</td>\n",
       "      <td>1526.875713</td>\n",
       "      <td>32.8</td>\n",
       "    </tr>\n",
       "    <tr>\n",
       "      <th>Congo, Dem. Rep.</th>\n",
       "      <td>COD</td>\n",
       "      <td>561.777182</td>\n",
       "      <td>14.9</td>\n",
       "    </tr>\n",
       "    <tr>\n",
       "      <th>...</th>\n",
       "      <td>...</td>\n",
       "      <td>...</td>\n",
       "      <td>...</td>\n",
       "    </tr>\n",
       "    <tr>\n",
       "      <th>Sierra Leone</th>\n",
       "      <td>SLE</td>\n",
       "      <td>522.858128</td>\n",
       "      <td>46.6</td>\n",
       "    </tr>\n",
       "    <tr>\n",
       "      <th>El Salvador</th>\n",
       "      <td>SLV</td>\n",
       "      <td>4058.244652</td>\n",
       "      <td>59.6</td>\n",
       "    </tr>\n",
       "    <tr>\n",
       "      <th>Serbia</th>\n",
       "      <td>SRB</td>\n",
       "      <td>7233.995874</td>\n",
       "      <td>64.1</td>\n",
       "    </tr>\n",
       "    <tr>\n",
       "      <th>Suriname</th>\n",
       "      <td>SUR</td>\n",
       "      <td>5950.213947</td>\n",
       "      <td>69.8</td>\n",
       "    </tr>\n",
       "    <tr>\n",
       "      <th>Slovak Republic</th>\n",
       "      <td>SVK</td>\n",
       "      <td>19546.901903</td>\n",
       "      <td>71.0</td>\n",
       "    </tr>\n",
       "    <tr>\n",
       "      <th>Slovenia</th>\n",
       "      <td>SVN</td>\n",
       "      <td>26234.022896</td>\n",
       "      <td>75.0</td>\n",
       "    </tr>\n",
       "    <tr>\n",
       "      <th>Sweden</th>\n",
       "      <td>SWE</td>\n",
       "      <td>54111.972172</td>\n",
       "      <td>93.9</td>\n",
       "    </tr>\n",
       "    <tr>\n",
       "      <th>Eswatini</th>\n",
       "      <td>SWZ</td>\n",
       "      <td>4139.961949</td>\n",
       "      <td>30.3</td>\n",
       "    </tr>\n",
       "    <tr>\n",
       "      <th>Syrian Arab Republic</th>\n",
       "      <td>SYR</td>\n",
       "      <td>NaN</td>\n",
       "      <td>14.3</td>\n",
       "    </tr>\n",
       "    <tr>\n",
       "      <th>Chad</th>\n",
       "      <td>TCD</td>\n",
       "      <td>730.244608</td>\n",
       "      <td>16.1</td>\n",
       "    </tr>\n",
       "    <tr>\n",
       "      <th>Togo</th>\n",
       "      <td>TGO</td>\n",
       "      <td>671.840688</td>\n",
       "      <td>31.0</td>\n",
       "    </tr>\n",
       "    <tr>\n",
       "      <th>Thailand</th>\n",
       "      <td>THA</td>\n",
       "      <td>7273.563207</td>\n",
       "      <td>46.3</td>\n",
       "    </tr>\n",
       "    <tr>\n",
       "      <th>Tajikistan</th>\n",
       "      <td>TJK</td>\n",
       "      <td>826.621531</td>\n",
       "      <td>19.3</td>\n",
       "    </tr>\n",
       "    <tr>\n",
       "      <th>Turkmenistan</th>\n",
       "      <td>TKM</td>\n",
       "      <td>6966.635411</td>\n",
       "      <td>17.2</td>\n",
       "    </tr>\n",
       "    <tr>\n",
       "      <th>Timor-Leste</th>\n",
       "      <td>TLS</td>\n",
       "      <td>2035.533908</td>\n",
       "      <td>71.9</td>\n",
       "    </tr>\n",
       "    <tr>\n",
       "      <th>Trinidad and Tobago</th>\n",
       "      <td>TTO</td>\n",
       "      <td>16843.701612</td>\n",
       "      <td>71.6</td>\n",
       "    </tr>\n",
       "    <tr>\n",
       "      <th>Tunisia</th>\n",
       "      <td>TUN</td>\n",
       "      <td>3446.607238</td>\n",
       "      <td>64.1</td>\n",
       "    </tr>\n",
       "    <tr>\n",
       "      <th>Turkey</th>\n",
       "      <td>TUR</td>\n",
       "      <td>9311.366117</td>\n",
       "      <td>43.7</td>\n",
       "    </tr>\n",
       "    <tr>\n",
       "      <th>Tanzania</th>\n",
       "      <td>TZA</td>\n",
       "      <td>1050.675254</td>\n",
       "      <td>54.1</td>\n",
       "    </tr>\n",
       "    <tr>\n",
       "      <th>Uganda</th>\n",
       "      <td>UGA</td>\n",
       "      <td>643.139670</td>\n",
       "      <td>52.0</td>\n",
       "    </tr>\n",
       "    <tr>\n",
       "      <th>Ukraine</th>\n",
       "      <td>UKR</td>\n",
       "      <td>3095.173581</td>\n",
       "      <td>56.9</td>\n",
       "    </tr>\n",
       "    <tr>\n",
       "      <th>Uruguay</th>\n",
       "      <td>URY</td>\n",
       "      <td>17277.970111</td>\n",
       "      <td>83.8</td>\n",
       "    </tr>\n",
       "    <tr>\n",
       "      <th>United States</th>\n",
       "      <td>USA</td>\n",
       "      <td>62641.014570</td>\n",
       "      <td>79.6</td>\n",
       "    </tr>\n",
       "    <tr>\n",
       "      <th>Uzbekistan</th>\n",
       "      <td>UZB</td>\n",
       "      <td>1532.371639</td>\n",
       "      <td>20.1</td>\n",
       "    </tr>\n",
       "    <tr>\n",
       "      <th>Venezuela, RB</th>\n",
       "      <td>VEN</td>\n",
       "      <td>NaN</td>\n",
       "      <td>31.6</td>\n",
       "    </tr>\n",
       "    <tr>\n",
       "      <th>Vietnam</th>\n",
       "      <td>VNM</td>\n",
       "      <td>2563.820731</td>\n",
       "      <td>30.8</td>\n",
       "    </tr>\n",
       "    <tr>\n",
       "      <th>Yemen, Rep.</th>\n",
       "      <td>YEM</td>\n",
       "      <td>944.408499</td>\n",
       "      <td>19.5</td>\n",
       "    </tr>\n",
       "    <tr>\n",
       "      <th>South Africa</th>\n",
       "      <td>ZAF</td>\n",
       "      <td>6374.015446</td>\n",
       "      <td>72.4</td>\n",
       "    </tr>\n",
       "    <tr>\n",
       "      <th>Zambia</th>\n",
       "      <td>ZMB</td>\n",
       "      <td>1539.900158</td>\n",
       "      <td>56.1</td>\n",
       "    </tr>\n",
       "    <tr>\n",
       "      <th>Zimbabwe</th>\n",
       "      <td>ZWE</td>\n",
       "      <td>2146.996385</td>\n",
       "      <td>31.6</td>\n",
       "    </tr>\n",
       "  </tbody>\n",
       "</table>\n",
       "<p>165 rows × 3 columns</p>\n",
       "</div>"
      ],
      "text/plain": [
       "                         Country Code  GDP Per Capita  Democracy index (EIU)\n",
       "Country Name                                                                \n",
       "Afghanistan                       AFG      520.896603                   29.7\n",
       "Angola                            AGO     3432.385736                   36.2\n",
       "Albania                           ALB     5253.630064                   59.8\n",
       "United Arab Emirates              ARE    43004.948646                   27.6\n",
       "Argentina                         ARG    11652.566290                   70.2\n",
       "Armenia                           ARM     4212.070943                   47.9\n",
       "Australia                         AUS    57305.299016                   90.9\n",
       "Austria                           AUT    51512.905475                   82.9\n",
       "Azerbaijan                        AZE     4721.178087                   26.5\n",
       "Burundi                           BDI      275.429603                   23.3\n",
       "Belgium                           BEL    46556.099567                   77.8\n",
       "Benin                             BEN      901.954052                   57.4\n",
       "Burkina Faso                      BFA      731.171717                   47.5\n",
       "Bangladesh                        BGD     1698.262802                   55.7\n",
       "Bulgaria                          BGR     9272.629304                   70.3\n",
       "Bahrain                           BHR    24050.757505                   27.1\n",
       "Bosnia and Herzegovina            BIH     5951.323299                   49.8\n",
       "Belarus                           BLR     6289.938553                   31.3\n",
       "Bolivia                           BOL     3548.590140                   57.0\n",
       "Brazil                            BRA     8920.762105                   69.7\n",
       "Bhutan                            BTN     3360.266867                   53.0\n",
       "Botswana                          BWA     8258.641666                   78.1\n",
       "Central African Republic          CAF      509.970975                   15.2\n",
       "Canada                            CAN    46210.547623                   91.5\n",
       "Switzerland                       CHE    82838.929445                   90.3\n",
       "Chile                             CHL    15923.359062                   79.7\n",
       "China                             CHN     9770.847088                   33.2\n",
       "Cote d'Ivoire                     CIV     1715.531238                   41.5\n",
       "Cameroon                          CMR     1526.875713                   32.8\n",
       "Congo, Dem. Rep.                  COD      561.777182                   14.9\n",
       "...                               ...             ...                    ...\n",
       "Sierra Leone                      SLE      522.858128                   46.6\n",
       "El Salvador                       SLV     4058.244652                   59.6\n",
       "Serbia                            SRB     7233.995874                   64.1\n",
       "Suriname                          SUR     5950.213947                   69.8\n",
       "Slovak Republic                   SVK    19546.901903                   71.0\n",
       "Slovenia                          SVN    26234.022896                   75.0\n",
       "Sweden                            SWE    54111.972172                   93.9\n",
       "Eswatini                          SWZ     4139.961949                   30.3\n",
       "Syrian Arab Republic              SYR             NaN                   14.3\n",
       "Chad                              TCD      730.244608                   16.1\n",
       "Togo                              TGO      671.840688                   31.0\n",
       "Thailand                          THA     7273.563207                   46.3\n",
       "Tajikistan                        TJK      826.621531                   19.3\n",
       "Turkmenistan                      TKM     6966.635411                   17.2\n",
       "Timor-Leste                       TLS     2035.533908                   71.9\n",
       "Trinidad and Tobago               TTO    16843.701612                   71.6\n",
       "Tunisia                           TUN     3446.607238                   64.1\n",
       "Turkey                            TUR     9311.366117                   43.7\n",
       "Tanzania                          TZA     1050.675254                   54.1\n",
       "Uganda                            UGA      643.139670                   52.0\n",
       "Ukraine                           UKR     3095.173581                   56.9\n",
       "Uruguay                           URY    17277.970111                   83.8\n",
       "United States                     USA    62641.014570                   79.6\n",
       "Uzbekistan                        UZB     1532.371639                   20.1\n",
       "Venezuela, RB                     VEN             NaN                   31.6\n",
       "Vietnam                           VNM     2563.820731                   30.8\n",
       "Yemen, Rep.                       YEM      944.408499                   19.5\n",
       "South Africa                      ZAF     6374.015446                   72.4\n",
       "Zambia                            ZMB     1539.900158                   56.1\n",
       "Zimbabwe                          ZWE     2146.996385                   31.6\n",
       "\n",
       "[165 rows x 3 columns]"
      ]
     },
     "execution_count": 10,
     "metadata": {},
     "output_type": "execute_result"
    }
   ],
   "source": [
    "df"
   ]
  },
  {
   "cell_type": "code",
   "execution_count": 11,
   "metadata": {},
   "outputs": [
    {
     "data": {
      "text/html": [
       "<div>\n",
       "<style scoped>\n",
       "    .dataframe tbody tr th:only-of-type {\n",
       "        vertical-align: middle;\n",
       "    }\n",
       "\n",
       "    .dataframe tbody tr th {\n",
       "        vertical-align: top;\n",
       "    }\n",
       "\n",
       "    .dataframe thead th {\n",
       "        text-align: right;\n",
       "    }\n",
       "</style>\n",
       "<table border=\"1\" class=\"dataframe\">\n",
       "  <thead>\n",
       "    <tr style=\"text-align: right;\">\n",
       "      <th></th>\n",
       "      <th>Country Code</th>\n",
       "      <th>Indicator Name</th>\n",
       "      <th>Indicator Code</th>\n",
       "      <th>1960</th>\n",
       "      <th>1961</th>\n",
       "      <th>1962</th>\n",
       "      <th>1963</th>\n",
       "      <th>1964</th>\n",
       "      <th>1965</th>\n",
       "      <th>1966</th>\n",
       "      <th>...</th>\n",
       "      <th>2009</th>\n",
       "      <th>2010</th>\n",
       "      <th>2011</th>\n",
       "      <th>2012</th>\n",
       "      <th>2013</th>\n",
       "      <th>2014</th>\n",
       "      <th>2015</th>\n",
       "      <th>2016</th>\n",
       "      <th>2017</th>\n",
       "      <th>2018</th>\n",
       "    </tr>\n",
       "    <tr>\n",
       "      <th>Country Name</th>\n",
       "      <th></th>\n",
       "      <th></th>\n",
       "      <th></th>\n",
       "      <th></th>\n",
       "      <th></th>\n",
       "      <th></th>\n",
       "      <th></th>\n",
       "      <th></th>\n",
       "      <th></th>\n",
       "      <th></th>\n",
       "      <th></th>\n",
       "      <th></th>\n",
       "      <th></th>\n",
       "      <th></th>\n",
       "      <th></th>\n",
       "      <th></th>\n",
       "      <th></th>\n",
       "      <th></th>\n",
       "      <th></th>\n",
       "      <th></th>\n",
       "      <th></th>\n",
       "    </tr>\n",
       "  </thead>\n",
       "  <tbody>\n",
       "    <tr>\n",
       "      <th>China</th>\n",
       "      <td>CHN</td>\n",
       "      <td>GDP per capita (current US$)</td>\n",
       "      <td>NY.GDP.PCAP.CD</td>\n",
       "      <td>89.520542</td>\n",
       "      <td>75.805838</td>\n",
       "      <td>70.909412</td>\n",
       "      <td>74.313643</td>\n",
       "      <td>85.498555</td>\n",
       "      <td>98.486778</td>\n",
       "      <td>104.324566</td>\n",
       "      <td>...</td>\n",
       "      <td>3832.235952</td>\n",
       "      <td>4550.453596</td>\n",
       "      <td>5618.132491</td>\n",
       "      <td>6316.918863</td>\n",
       "      <td>7050.64592</td>\n",
       "      <td>7651.366044</td>\n",
       "      <td>8033.388043</td>\n",
       "      <td>8078.790474</td>\n",
       "      <td>8759.041578</td>\n",
       "      <td>9770.847088</td>\n",
       "    </tr>\n",
       "  </tbody>\n",
       "</table>\n",
       "<p>1 rows × 62 columns</p>\n",
       "</div>"
      ],
      "text/plain": [
       "             Country Code                Indicator Name  Indicator Code  \\\n",
       "Country Name                                                              \n",
       "China                 CHN  GDP per capita (current US$)  NY.GDP.PCAP.CD   \n",
       "\n",
       "                   1960       1961       1962       1963       1964  \\\n",
       "Country Name                                                          \n",
       "China         89.520542  75.805838  70.909412  74.313643  85.498555   \n",
       "\n",
       "                   1965        1966     ...              2009         2010  \\\n",
       "Country Name                            ...                                  \n",
       "China         98.486778  104.324566     ...       3832.235952  4550.453596   \n",
       "\n",
       "                     2011         2012        2013         2014         2015  \\\n",
       "Country Name                                                                   \n",
       "China         5618.132491  6316.918863  7050.64592  7651.366044  8033.388043   \n",
       "\n",
       "                     2016         2017         2018  \n",
       "Country Name                                         \n",
       "China         8078.790474  8759.041578  9770.847088  \n",
       "\n",
       "[1 rows x 62 columns]"
      ]
     },
     "execution_count": 11,
     "metadata": {},
     "output_type": "execute_result"
    }
   ],
   "source": [
    "df_gdp[df_gdp['Country Code'] == 'CHN']"
   ]
  },
  {
   "cell_type": "code",
   "execution_count": 12,
   "metadata": {},
   "outputs": [
    {
     "data": {
      "text/html": [
       "<div>\n",
       "<style scoped>\n",
       "    .dataframe tbody tr th:only-of-type {\n",
       "        vertical-align: middle;\n",
       "    }\n",
       "\n",
       "    .dataframe tbody tr th {\n",
       "        vertical-align: top;\n",
       "    }\n",
       "\n",
       "    .dataframe thead th {\n",
       "        text-align: right;\n",
       "    }\n",
       "</style>\n",
       "<table border=\"1\" class=\"dataframe\">\n",
       "  <thead>\n",
       "    <tr style=\"text-align: right;\">\n",
       "      <th></th>\n",
       "      <th>Democracy index (EIU)</th>\n",
       "      <th>Country Code</th>\n",
       "    </tr>\n",
       "  </thead>\n",
       "  <tbody>\n",
       "    <tr>\n",
       "      <th>1884</th>\n",
       "      <td>77.3</td>\n",
       "      <td>TWN</td>\n",
       "    </tr>\n",
       "  </tbody>\n",
       "</table>\n",
       "</div>"
      ],
      "text/plain": [
       "      Democracy index (EIU) Country Code\n",
       "1884                   77.3          TWN"
      ]
     },
     "execution_count": 12,
     "metadata": {},
     "output_type": "execute_result"
    }
   ],
   "source": [
    "df_dem[df_dem['Country Code'] == 'TWN']"
   ]
  },
  {
   "cell_type": "code",
   "execution_count": 13,
   "metadata": {},
   "outputs": [],
   "source": [
    "%%capture\n",
    "!pip install country_converter --upgrade\n",
    "!pip install cufflinks --upgrade"
   ]
  },
  {
   "cell_type": "code",
   "execution_count": 14,
   "metadata": {},
   "outputs": [
    {
     "data": {
      "text/html": [
       "        <script type=\"text/javascript\">\n",
       "        window.PlotlyConfig = {MathJaxConfig: 'local'};\n",
       "        if (window.MathJax) {MathJax.Hub.Config({SVG: {font: \"STIX-Web\"}});}\n",
       "        if (typeof require !== 'undefined') {\n",
       "        require.undef(\"plotly\");\n",
       "        requirejs.config({\n",
       "            paths: {\n",
       "                'plotly': ['https://cdn.plot.ly/plotly-latest.min']\n",
       "            }\n",
       "        });\n",
       "        require(['plotly'], function(Plotly) {\n",
       "            window._Plotly = Plotly;\n",
       "        });\n",
       "        }\n",
       "        </script>\n",
       "        "
      ]
     },
     "metadata": {},
     "output_type": "display_data"
    }
   ],
   "source": [
    "import country_converter as coco\n",
    "import numpy as np\n",
    "import cufflinks as cf\n",
    "from plotly.offline import init_notebook_mode, iplot"
   ]
  },
  {
   "cell_type": "code",
   "execution_count": 15,
   "metadata": {},
   "outputs": [
    {
     "data": {
      "text/html": [
       "        <script type=\"text/javascript\">\n",
       "        window.PlotlyConfig = {MathJaxConfig: 'local'};\n",
       "        if (window.MathJax) {MathJax.Hub.Config({SVG: {font: \"STIX-Web\"}});}\n",
       "        if (typeof require !== 'undefined') {\n",
       "        require.undef(\"plotly\");\n",
       "        requirejs.config({\n",
       "            paths: {\n",
       "                'plotly': ['https://cdn.plot.ly/plotly-latest.min']\n",
       "            }\n",
       "        });\n",
       "        require(['plotly'], function(Plotly) {\n",
       "            window._Plotly = Plotly;\n",
       "        });\n",
       "        }\n",
       "        </script>\n",
       "        "
      ]
     },
     "metadata": {},
     "output_type": "display_data"
    }
   ],
   "source": [
    "#init_notebook_mode(connected=True)\n",
    "cf.set_config_file(offline=True)"
   ]
  },
  {
   "cell_type": "code",
   "execution_count": 16,
   "metadata": {},
   "outputs": [],
   "source": [
    "_Asia = [\"Israel\", \"United Arab Emirates\", \"Singapore\", \"Thailand\", \"Taiwan Province of China\",\n",
    "                                   \"Qatar\", \"Saudi Arabia\", \"Kuwait\", \"Bahrain\", \"Malaysia\", \"Uzbekistan\", \"Japan\",\n",
    "                                   \"South Korea\", \"Turkmenistan\", \"Kazakhstan\", \"Turkey\", \"Hong Kong S.A.R., China\", \"Philippines\",\n",
    "                                   \"Jordan\", \"China\", \"Pakistan\", \"Indonesia\", \"Azerbaijan\", \"Lebanon\", \"Vietnam\",\n",
    "                                   \"Tajikistan\", \"Bhutan\", \"Kyrgyzstan\", \"Nepal\", \"Mongolia\", \"Palestinian Territories\",\n",
    "                                   \"Iran\", \"Bangladesh\", \"Myanmar\", \"Iraq\", \"Sri Lanka\", \"Armenia\", \"India\", \"Georgia\",\n",
    "                                   \"Cambodia\", \"Afghanistan\", \"Yemen\", \"Syria\"]\n",
    "\n",
    "_Europe = [\"Norway\", \"Denmark\", \"Iceland\", \"Switzerland\", \"Finland\",\n",
    "                                   \"Netherlands\", \"Sweden\", \"Austria\", \"Ireland\", \"Germany\",\n",
    "                                   \"Belgium\", \"Luxembourg\", \"United Kingdom\", \"Czech Republic\",\n",
    "                                   \"Malta\", \"France\", \"Spain\", \"Slovakia\", \"Poland\", \"Italy\",\n",
    "                                   \"Russia\", \"Lithuania\", \"Latvia\", \"Moldova\", \"Romania\",\n",
    "                                   \"Slovenia\", \"North Cyprus\", \"Cyprus\", \"Estonia\", \"Belarus\",\n",
    "                                   \"Serbia\", \"Hungary\", \"Croatia\", \"Kosovo\", \"Montenegro\",\n",
    "                                   \"Greece\", \"Portugal\", \"Bosnia and Herzegovina\", \"Macedonia\",\n",
    "                                   \"Bulgaria\", \"Albania\", \"Ukraine\"]\n",
    "_Oceania = [\"New Zealand\", \"Australia\"]\n",
    "\n",
    "_North_America = [\"Canada\", \"Costa Rica\", \"United States\", \"Mexico\",  \n",
    "                                   \"Panama\",\"Trinidad and Tobago\", \"El Salvador\", \"Belize\", \"Guatemala\",\n",
    "                                   \"Jamaica\", \"Nicaragua\", \"Dominican Republic\", \"Honduras\",\n",
    "                                   \"Haiti\"]\n",
    "_South_America = [\"Chile\", \"Brazil\", \"Argentina\", \"Uruguay\",\n",
    "                                   \"Colombia\", \"Ecuador\", \"Bolivia\", \"Peru\",\n",
    "                                   \"Paraguay\", \"Venezuela\"]\n",
    "\n",
    "Asia = coco.convert(names=_Asia, to='iso3', not_found=None)\n",
    "Europe = coco.convert(names=_Europe, to='iso3', not_found=None)\n",
    "Oceania = coco.convert(names=_Oceania, to='iso3', not_found=None)\n",
    "North_America = coco.convert(names=_North_America, to='iso3', not_found=None)\n",
    "South_America = coco.convert(names=_South_America, to='iso3', not_found=None)"
   ]
  },
  {
   "cell_type": "code",
   "execution_count": 17,
   "metadata": {},
   "outputs": [],
   "source": [
    "def GetConti(country):\n",
    "    if country in Asia:\n",
    "        return \"Asia\"\n",
    "    elif country in Europe:\n",
    "        return \"Europe\"\n",
    "    elif country in North_America:\n",
    "        return \"North America\"\n",
    "    elif country in South_America:\n",
    "        return \"South America\"\n",
    "    elif country in Oceania:\n",
    "        return \"Oceania\"\n",
    "    else:\n",
    "        return \"Africa\"\n",
    "    \n",
    "\n",
    "df['Continent'] = df['Country Code'].apply(lambda x: GetConti(x))\n",
    "df['Country Name'] = coco.convert(names=df['Country Code'].tolist(), to='name_short', not_found=None)\n",
    "df['Log GDP Per Capita'] = np.log10(df['GDP Per Capita'])"
   ]
  },
  {
   "cell_type": "code",
   "execution_count": 18,
   "metadata": {},
   "outputs": [
    {
     "data": {
      "application/vnd.plotly.v1+json": {
       "config": {
        "linkText": "Export to plot.ly",
        "plotlyServerURL": "https://plot.ly",
        "showLink": true
       },
       "data": [
        {
         "marker": {
          "color": "rgba(255, 153, 51, 1.0)",
          "line": {
           "width": 1.3
          },
          "opacity": 0.8,
          "size": 12,
          "symbol": "circle"
         },
         "mode": "markers",
         "name": "Asia",
         "text": [
          "Afghanistan",
          "United Arab Emirates",
          "Armenia",
          "Azerbaijan",
          "Bangladesh",
          "Bahrain",
          "Bhutan",
          "China",
          "Hong Kong",
          "Indonesia",
          "India",
          "Iraq",
          "Israel",
          "Jordan",
          "Japan",
          "Kazakhstan",
          "Kyrgyz Republic",
          "Cambodia",
          "South Korea",
          "Kuwait",
          "Lebanon",
          "Sri Lanka",
          "Myanmar",
          "Mongolia",
          "Malaysia",
          "Nepal",
          "Pakistan",
          "Philippines",
          "Palestine",
          "Qatar",
          "Saudi Arabia",
          "Singapore",
          "Thailand",
          "Tajikistan",
          "Turkmenistan",
          "Turkey",
          "Uzbekistan",
          "Vietnam",
          "Yemen"
         ],
         "textfont": {
          "color": "#4D5663"
         },
         "type": "scatter",
         "uid": "bf5f2d11-6a0a-4a25-8342-a534be0f3632",
         "x": [
          2.716751524978974,
          4.633518433395714,
          3.6244956772751853,
          3.6740503826862927,
          3.230004897199284,
          4.381128759513696,
          3.526373769715882,
          3.9899322166997515,
          4.687683132592653,
          3.590350895725299,
          3.3044022996190585,
          3.7692324312001477,
          4.619239442820451,
          3.628160863084989,
          4.594245966710806,
          3.9699303746190706,
          3.107672403326718,
          3.17958818470368,
          4.496414156598389,
          4.534583891164324,
          3.917494359306584,
          3.6130466154295386,
          3.1225281052621576,
          3.6131753389119066,
          4.050726024012451,
          3.011061998649777,
          3.168171237581717,
          3.4917416561876613,
          3.5049961354338297,
          4.839015656688577,
          4.365845952118283,
          4.810111113826926,
          3.8617472172100338,
          2.9173067129132377,
          3.843023082919473,
          3.9690134031802824,
          3.185364105556182,
          3.408887654839998,
          2.9751598869352427
         ],
         "y": [
          29.700000000000003,
          27.599999999999998,
          47.9,
          26.5,
          55.7,
          27.1,
          53,
          33.199999999999996,
          61.5,
          63.9,
          72.30000000000001,
          40.599999999999994,
          77.9,
          39.300000000000004,
          79.9,
          29.4,
          51.1,
          35.9,
          80,
          38.5,
          46.3,
          61.900000000000006,
          38.3,
          65,
          68.8,
          51.8,
          41.7,
          67.1,
          43.9,
          31.9,
          19.3,
          63.8,
          46.3,
          19.3,
          17.2,
          43.7,
          20.099999999999998,
          30.8,
          19.5
         ]
        },
        {
         "marker": {
          "color": "rgba(55, 128, 191, 1.0)",
          "line": {
           "width": 1.3
          },
          "opacity": 0.8,
          "size": 12,
          "symbol": "circle"
         },
         "mode": "markers",
         "name": "Africa",
         "text": [
          "Angola",
          "Burundi",
          "Benin",
          "Burkina Faso",
          "Botswana",
          "Central African Republic",
          "Cote d'Ivoire",
          "Cameroon",
          "DR Congo",
          "Congo Republic",
          "Comoros",
          "Cabo Verde",
          "Djibouti",
          "Algeria",
          "Egypt",
          "Ethiopia",
          "Fiji",
          "Gabon",
          "Ghana",
          "Guinea",
          "Gambia",
          "Guinea-Bissau",
          "Equatorial Guinea",
          "Guyana",
          "Kenya",
          "Laos",
          "Liberia",
          "Libya",
          "Lesotho",
          "Morocco",
          "Madagascar",
          "Mali",
          "Mozambique",
          "Mauritania",
          "Mauritius",
          "Malawi",
          "Namibia",
          "Niger",
          "Nigeria",
          "Oman",
          "Papua New Guinea",
          "Rwanda",
          "Sudan",
          "Senegal",
          "Sierra Leone",
          "Suriname",
          "Eswatini",
          "Chad",
          "Togo",
          "Timor-Leste",
          "Tunisia",
          "Tanzania",
          "Uganda",
          "South Africa",
          "Zambia",
          "Zimbabwe"
         ],
         "textfont": {
          "color": "#4D5663"
         },
         "type": "scatter",
         "uid": "81cb5e9e-e09c-47d3-b6c4-8ad8e202efe2",
         "x": [
          3.535596088502591,
          2.440010616576395,
          2.9551844140528543,
          2.864019383761676,
          3.9169086229158863,
          2.7075454587631627,
          3.2343986305480623,
          3.1838036872301108,
          2.7495640955578393,
          3.331987662889298,
          3.160003316433053,
          3.5627694159512546,
          3.3117972315666693,
          3.631327068101635,
          3.4063935955019717,
          2.8877929109658544,
          3.792543124489025,
          3.904705938965821,
          3.3428788776690266,
          2.9470665379556484,
          2.8527558524172223,
          2.890962806431111,
          4.007490154746341,
          3.6660198789101903,
          3.233125642133106,
          3.4095177623152737,
          2.828794857838321,
          3.859440223109028,
          3.121980727904291,
          3.510261200971325,
          2.6634679650450472,
          2.9549190476443266,
          2.690344585377585,
          3.085859894336372,
          4.050715707371276,
          2.5903937535996895,
          3.7731611582304625,
          2.614569202539839,
          3.3071069176721144,
          4.215344770058718,
          3.4349845866142124,
          2.8881614241851987,
          2.990016182804013,
          3.1824013991789104,
          2.7183838639923033,
          3.7745325816072888,
          3.616996349483493,
          2.8634683586435656,
          2.827266301749134,
          3.3086783412030103,
          3.5373917957019474,
          3.0214685035858437,
          2.808305298595335,
          3.8044131115480946,
          3.1874925634841342,
          3.3318313131697095
         ],
         "y": [
          36.2,
          23.3,
          57.400000000000006,
          47.5,
          78.1,
          15.2,
          41.5,
          32.8,
          14.9,
          33.1,
          37.1,
          78.8,
          28.700000000000003,
          35,
          33.6,
          33.5,
          58.5,
          36.1,
          66.3,
          31.400000000000002,
          43.099999999999994,
          19.8,
          19.2,
          66.7,
          51.1,
          23.700000000000003,
          53.5,
          21.9,
          66.39999999999999,
          49.900000000000006,
          52.199999999999996,
          54.1,
          38.5,
          38.199999999999996,
          82.2,
          54.900000000000006,
          62.5,
          37.599999999999994,
          44.400000000000006,
          30.4,
          60.300000000000004,
          33.5,
          21.5,
          61.5,
          46.6,
          69.80000000000001,
          30.299999999999997,
          16.1,
          31,
          71.9,
          64.1,
          54.1,
          52,
          72.4,
          56.1,
          31.6
         ]
        },
        {
         "marker": {
          "color": "rgba(50, 171, 96, 1.0)",
          "line": {
           "width": 1.3
          },
          "opacity": 0.8,
          "size": 12,
          "symbol": "circle"
         },
         "mode": "markers",
         "name": "Europe",
         "text": [
          "Albania",
          "Austria",
          "Belgium",
          "Bulgaria",
          "Bosnia and Herzegovina",
          "Belarus",
          "Switzerland",
          "Cyprus",
          "Czech Republic",
          "Germany",
          "Denmark",
          "Spain",
          "Estonia",
          "Finland",
          "France",
          "United Kingdom",
          "Greece",
          "Croatia",
          "Hungary",
          "Ireland",
          "Iceland",
          "Italy",
          "Lithuania",
          "Luxembourg",
          "Latvia",
          "Moldova",
          "Macedonia",
          "Malta",
          "Montenegro",
          "Netherlands",
          "Norway",
          "Poland",
          "Portugal",
          "Romania",
          "Russia",
          "Serbia",
          "Slovakia",
          "Slovenia",
          "Sweden",
          "Ukraine"
         ],
         "textfont": {
          "color": "#4D5663"
         },
         "type": "scatter",
         "uid": "65a6a838-9082-4518-bba3-0869d4a01558",
         "x": [
          3.7204594885546385,
          4.7119160460219165,
          4.667976588320933,
          3.9672028981292122,
          3.7746135434572294,
          3.798646402808113,
          4.918234477723619,
          4.449621880881275,
          4.363208961066976,
          4.6830072102067595,
          4.783378011751073,
          4.484639442135527,
          4.360361331866811,
          4.695903063846263,
          4.617667467304578,
          4.6283006768913415,
          4.308014604503523,
          4.172284410100125,
          4.2024566237558005,
          4.8965616650338335,
          4.864521182143978,
          4.535526413358603,
          4.280799274142614,
          5.058200082231301,
          4.25741281216613,
          3.5037029728714995,
          3.784169142591271,
          4.478201898609777,
          3.942538426261921,
          4.724472971725058,
          4.91279151798606,
          4.188198312498017,
          4.364470975673171,
          4.089946999538206,
          4.05265056583888,
          3.8593782567352144,
          4.2910779334394435,
          4.4188648932467975,
          4.733293362577344,
          3.4906850097228617
         ],
         "y": [
          59.800000000000004,
          82.89999999999999,
          77.8,
          70.3,
          49.800000000000004,
          31.299999999999997,
          90.3,
          75.9,
          76.9,
          86.8,
          92.2,
          80.8,
          79.7,
          91.4,
          78,
          85.3,
          72.9,
          65.7,
          66.3,
          91.5,
          95.8,
          77.1,
          75,
          88.10000000000001,
          73.8,
          58.5,
          58.7,
          82.10000000000001,
          57.400000000000006,
          88.9,
          98.69999999999999,
          66.7,
          78.4,
          63.8,
          29.4,
          64.1,
          71,
          75,
          93.9,
          56.900000000000006
         ]
        },
        {
         "marker": {
          "color": "rgba(128, 0, 128, 1.0)",
          "line": {
           "width": 1.3
          },
          "opacity": 0.8,
          "size": 12,
          "symbol": "circle"
         },
         "mode": "markers",
         "name": "South America",
         "text": [
          "Argentina",
          "Bolivia",
          "Brazil",
          "Chile",
          "Colombia",
          "Ecuador",
          "Peru",
          "Paraguay",
          "Uruguay"
         ],
         "textfont": {
          "color": "#4D5663"
         },
         "type": "scatter",
         "uid": "9ee13b74-5073-433f-bb12-f9a64db9f7cb",
         "x": [
          4.066421582249565,
          3.5500558414706855,
          3.950401957929616,
          4.202034688288893,
          3.822905968136613,
          3.802422863689718,
          3.8418133417233897,
          3.7687466290799345,
          4.237492718376067
         ],
         "y": [
          70.19999999999999,
          57,
          69.7,
          79.7,
          69.6,
          62.699999999999996,
          66,
          62.400000000000006,
          83.80000000000001
         ]
        },
        {
         "marker": {
          "color": "rgba(219, 64, 82, 1.0)",
          "line": {
           "width": 1.3
          },
          "opacity": 0.8,
          "size": 12,
          "symbol": "circle"
         },
         "mode": "markers",
         "name": "Oceania",
         "text": [
          "Australia",
          "New Zealand"
         ],
         "textfont": {
          "color": "#4D5663"
         },
         "type": "scatter",
         "uid": "aca6c7c8-6fd9-4d16-a1c2-8741b6fe7cfc",
         "x": [
          4.75819478299866,
          4.622897671344021
         ],
         "y": [
          90.9,
          92.6
         ]
        },
        {
         "marker": {
          "color": "rgba(0, 128, 128, 1.0)",
          "line": {
           "width": 1.3
          },
          "opacity": 0.8,
          "size": 12,
          "symbol": "circle"
         },
         "mode": "markers",
         "name": "North America",
         "text": [
          "Canada",
          "Costa Rica",
          "Dominican Republic",
          "Guatemala",
          "Honduras",
          "Haiti",
          "Jamaica",
          "Mexico",
          "Nicaragua",
          "Panama",
          "El Salvador",
          "Trinidad and Tobago",
          "United States"
         ],
         "textfont": {
          "color": "#4D5663"
         },
         "type": "scatter",
         "uid": "a8479c6d-4ba8-4666-b5fa-54a36555c12f",
         "x": [
          4.66474111520007,
          4.080140972124313,
          3.8836655653338292,
          3.6579168992754116,
          3.394929528134454,
          2.938662198233696,
          3.7288067250801307,
          3.9866859497915264,
          3.307259976558824,
          4.192430078268561,
          3.608338225008869,
          4.226437539235147,
          4.7968587831902605
         ],
         "y": [
          91.5,
          80.7,
          65.4,
          56,
          56.3,
          49.1,
          70.19999999999999,
          61.900000000000006,
          36.3,
          70.5,
          59.6,
          71.6,
          79.6
         ]
        }
       ],
       "layout": {
        "legend": {
         "bgcolor": "#FFFFFF",
         "font": {
          "color": "#4D5663"
         }
        },
        "paper_bgcolor": "#FFFFFF",
        "plot_bgcolor": "#FFFFFF",
        "title": {
         "font": {
          "color": "#4D5663"
         }
        },
        "xaxis": {
         "gridcolor": "#E1E5ED",
         "showgrid": true,
         "tickfont": {
          "color": "#4D5663"
         },
         "title": {
          "font": {
           "color": "#4D5663"
          },
          "text": "Log GDP Per Capita (Current USD)"
         },
         "zerolinecolor": "#E1E5ED"
        },
        "yaxis": {
         "gridcolor": "#E1E5ED",
         "showgrid": true,
         "tickfont": {
          "color": "#4D5663"
         },
         "title": {
          "font": {
           "color": "#4D5663"
          },
          "text": "EIU Democracy Index"
         },
         "zerolinecolor": "#E1E5ED"
        }
       }
      },
      "text/html": [
       "<div>\n",
       "        \n",
       "        \n",
       "            <div id=\"9bb7ba2f-227c-4944-b6a8-8459f2405d50\" class=\"plotly-graph-div\" style=\"height:525px; width:100%;\"></div>\n",
       "            <script type=\"text/javascript\">\n",
       "                require([\"plotly\"], function(Plotly) {\n",
       "                    window.PLOTLYENV=window.PLOTLYENV || {};\n",
       "                    window.PLOTLYENV.BASE_URL='https://plot.ly';\n",
       "                    \n",
       "                if (document.getElementById(\"9bb7ba2f-227c-4944-b6a8-8459f2405d50\")) {\n",
       "                    Plotly.newPlot(\n",
       "                        '9bb7ba2f-227c-4944-b6a8-8459f2405d50',\n",
       "                        [{\"marker\": {\"color\": \"rgba(255, 153, 51, 1.0)\", \"line\": {\"width\": 1.3}, \"opacity\": 0.8, \"size\": 12, \"symbol\": \"circle\"}, \"mode\": \"markers\", \"name\": \"Asia\", \"text\": [\"Afghanistan\", \"United Arab Emirates\", \"Armenia\", \"Azerbaijan\", \"Bangladesh\", \"Bahrain\", \"Bhutan\", \"China\", \"Hong Kong\", \"Indonesia\", \"India\", \"Iraq\", \"Israel\", \"Jordan\", \"Japan\", \"Kazakhstan\", \"Kyrgyz Republic\", \"Cambodia\", \"South Korea\", \"Kuwait\", \"Lebanon\", \"Sri Lanka\", \"Myanmar\", \"Mongolia\", \"Malaysia\", \"Nepal\", \"Pakistan\", \"Philippines\", \"Palestine\", \"Qatar\", \"Saudi Arabia\", \"Singapore\", \"Thailand\", \"Tajikistan\", \"Turkmenistan\", \"Turkey\", \"Uzbekistan\", \"Vietnam\", \"Yemen\"], \"textfont\": {\"color\": \"#4D5663\"}, \"type\": \"scatter\", \"uid\": \"bf5f2d11-6a0a-4a25-8342-a534be0f3632\", \"x\": [2.716751524978974, 4.633518433395714, 3.6244956772751853, 3.6740503826862927, 3.230004897199284, 4.381128759513696, 3.526373769715882, 3.9899322166997515, 4.687683132592653, 3.590350895725299, 3.3044022996190585, 3.7692324312001477, 4.619239442820451, 3.628160863084989, 4.594245966710806, 3.9699303746190706, 3.107672403326718, 3.17958818470368, 4.496414156598389, 4.534583891164324, 3.917494359306584, 3.6130466154295386, 3.1225281052621576, 3.6131753389119066, 4.050726024012451, 3.011061998649777, 3.168171237581717, 3.4917416561876613, 3.5049961354338297, 4.839015656688577, 4.365845952118283, 4.810111113826926, 3.8617472172100338, 2.9173067129132377, 3.843023082919473, 3.9690134031802824, 3.185364105556182, 3.408887654839998, 2.9751598869352427], \"y\": [29.700000000000003, 27.599999999999998, 47.9, 26.5, 55.7, 27.1, 53.0, 33.199999999999996, 61.5, 63.9, 72.30000000000001, 40.599999999999994, 77.9, 39.300000000000004, 79.9, 29.4, 51.1, 35.9, 80.0, 38.5, 46.3, 61.900000000000006, 38.3, 65.0, 68.8, 51.8, 41.7, 67.1, 43.9, 31.9, 19.3, 63.8, 46.3, 19.3, 17.2, 43.7, 20.099999999999998, 30.8, 19.5]}, {\"marker\": {\"color\": \"rgba(55, 128, 191, 1.0)\", \"line\": {\"width\": 1.3}, \"opacity\": 0.8, \"size\": 12, \"symbol\": \"circle\"}, \"mode\": \"markers\", \"name\": \"Africa\", \"text\": [\"Angola\", \"Burundi\", \"Benin\", \"Burkina Faso\", \"Botswana\", \"Central African Republic\", \"Cote d'Ivoire\", \"Cameroon\", \"DR Congo\", \"Congo Republic\", \"Comoros\", \"Cabo Verde\", \"Djibouti\", \"Algeria\", \"Egypt\", \"Ethiopia\", \"Fiji\", \"Gabon\", \"Ghana\", \"Guinea\", \"Gambia\", \"Guinea-Bissau\", \"Equatorial Guinea\", \"Guyana\", \"Kenya\", \"Laos\", \"Liberia\", \"Libya\", \"Lesotho\", \"Morocco\", \"Madagascar\", \"Mali\", \"Mozambique\", \"Mauritania\", \"Mauritius\", \"Malawi\", \"Namibia\", \"Niger\", \"Nigeria\", \"Oman\", \"Papua New Guinea\", \"Rwanda\", \"Sudan\", \"Senegal\", \"Sierra Leone\", \"Suriname\", \"Eswatini\", \"Chad\", \"Togo\", \"Timor-Leste\", \"Tunisia\", \"Tanzania\", \"Uganda\", \"South Africa\", \"Zambia\", \"Zimbabwe\"], \"textfont\": {\"color\": \"#4D5663\"}, \"type\": \"scatter\", \"uid\": \"81cb5e9e-e09c-47d3-b6c4-8ad8e202efe2\", \"x\": [3.535596088502591, 2.440010616576395, 2.9551844140528543, 2.864019383761676, 3.9169086229158863, 2.7075454587631627, 3.2343986305480623, 3.1838036872301108, 2.7495640955578393, 3.331987662889298, 3.160003316433053, 3.5627694159512546, 3.3117972315666693, 3.631327068101635, 3.4063935955019717, 2.8877929109658544, 3.792543124489025, 3.904705938965821, 3.3428788776690266, 2.9470665379556484, 2.8527558524172223, 2.890962806431111, 4.007490154746341, 3.6660198789101903, 3.233125642133106, 3.4095177623152737, 2.828794857838321, 3.859440223109028, 3.121980727904291, 3.510261200971325, 2.6634679650450472, 2.9549190476443266, 2.690344585377585, 3.085859894336372, 4.050715707371276, 2.5903937535996895, 3.7731611582304625, 2.614569202539839, 3.3071069176721144, 4.215344770058718, 3.4349845866142124, 2.8881614241851987, 2.990016182804013, 3.1824013991789104, 2.7183838639923033, 3.7745325816072888, 3.616996349483493, 2.8634683586435656, 2.827266301749134, 3.3086783412030103, 3.5373917957019474, 3.0214685035858437, 2.808305298595335, 3.8044131115480946, 3.1874925634841342, 3.3318313131697095], \"y\": [36.2, 23.3, 57.400000000000006, 47.5, 78.1, 15.2, 41.5, 32.8, 14.9, 33.1, 37.1, 78.8, 28.700000000000003, 35.0, 33.6, 33.5, 58.5, 36.1, 66.3, 31.400000000000002, 43.099999999999994, 19.8, 19.2, 66.7, 51.1, 23.700000000000003, 53.5, 21.9, 66.39999999999999, 49.900000000000006, 52.199999999999996, 54.1, 38.5, 38.199999999999996, 82.2, 54.900000000000006, 62.5, 37.599999999999994, 44.400000000000006, 30.4, 60.300000000000004, 33.5, 21.5, 61.5, 46.6, 69.80000000000001, 30.299999999999997, 16.1, 31.0, 71.9, 64.1, 54.1, 52.0, 72.4, 56.1, 31.6]}, {\"marker\": {\"color\": \"rgba(50, 171, 96, 1.0)\", \"line\": {\"width\": 1.3}, \"opacity\": 0.8, \"size\": 12, \"symbol\": \"circle\"}, \"mode\": \"markers\", \"name\": \"Europe\", \"text\": [\"Albania\", \"Austria\", \"Belgium\", \"Bulgaria\", \"Bosnia and Herzegovina\", \"Belarus\", \"Switzerland\", \"Cyprus\", \"Czech Republic\", \"Germany\", \"Denmark\", \"Spain\", \"Estonia\", \"Finland\", \"France\", \"United Kingdom\", \"Greece\", \"Croatia\", \"Hungary\", \"Ireland\", \"Iceland\", \"Italy\", \"Lithuania\", \"Luxembourg\", \"Latvia\", \"Moldova\", \"Macedonia\", \"Malta\", \"Montenegro\", \"Netherlands\", \"Norway\", \"Poland\", \"Portugal\", \"Romania\", \"Russia\", \"Serbia\", \"Slovakia\", \"Slovenia\", \"Sweden\", \"Ukraine\"], \"textfont\": {\"color\": \"#4D5663\"}, \"type\": \"scatter\", \"uid\": \"65a6a838-9082-4518-bba3-0869d4a01558\", \"x\": [3.7204594885546385, 4.7119160460219165, 4.667976588320933, 3.9672028981292122, 3.7746135434572294, 3.798646402808113, 4.918234477723619, 4.449621880881275, 4.363208961066976, 4.6830072102067595, 4.783378011751073, 4.484639442135527, 4.360361331866811, 4.695903063846263, 4.617667467304578, 4.6283006768913415, 4.308014604503523, 4.172284410100125, 4.2024566237558005, 4.8965616650338335, 4.864521182143978, 4.535526413358603, 4.280799274142614, 5.058200082231301, 4.25741281216613, 3.5037029728714995, 3.784169142591271, 4.478201898609777, 3.942538426261921, 4.724472971725058, 4.91279151798606, 4.188198312498017, 4.364470975673171, 4.089946999538206, 4.05265056583888, 3.8593782567352144, 4.2910779334394435, 4.4188648932467975, 4.733293362577344, 3.4906850097228617], \"y\": [59.800000000000004, 82.89999999999999, 77.8, 70.3, 49.800000000000004, 31.299999999999997, 90.3, 75.9, 76.9, 86.8, 92.2, 80.8, 79.7, 91.4, 78.0, 85.3, 72.9, 65.7, 66.3, 91.5, 95.8, 77.1, 75.0, 88.10000000000001, 73.8, 58.5, 58.7, 82.10000000000001, 57.400000000000006, 88.9, 98.69999999999999, 66.7, 78.4, 63.8, 29.4, 64.1, 71.0, 75.0, 93.9, 56.900000000000006]}, {\"marker\": {\"color\": \"rgba(128, 0, 128, 1.0)\", \"line\": {\"width\": 1.3}, \"opacity\": 0.8, \"size\": 12, \"symbol\": \"circle\"}, \"mode\": \"markers\", \"name\": \"South America\", \"text\": [\"Argentina\", \"Bolivia\", \"Brazil\", \"Chile\", \"Colombia\", \"Ecuador\", \"Peru\", \"Paraguay\", \"Uruguay\"], \"textfont\": {\"color\": \"#4D5663\"}, \"type\": \"scatter\", \"uid\": \"9ee13b74-5073-433f-bb12-f9a64db9f7cb\", \"x\": [4.066421582249565, 3.5500558414706855, 3.950401957929616, 4.202034688288893, 3.822905968136613, 3.802422863689718, 3.8418133417233897, 3.7687466290799345, 4.237492718376067], \"y\": [70.19999999999999, 57.0, 69.7, 79.7, 69.6, 62.699999999999996, 66.0, 62.400000000000006, 83.80000000000001]}, {\"marker\": {\"color\": \"rgba(219, 64, 82, 1.0)\", \"line\": {\"width\": 1.3}, \"opacity\": 0.8, \"size\": 12, \"symbol\": \"circle\"}, \"mode\": \"markers\", \"name\": \"Oceania\", \"text\": [\"Australia\", \"New Zealand\"], \"textfont\": {\"color\": \"#4D5663\"}, \"type\": \"scatter\", \"uid\": \"aca6c7c8-6fd9-4d16-a1c2-8741b6fe7cfc\", \"x\": [4.75819478299866, 4.622897671344021], \"y\": [90.9, 92.6]}, {\"marker\": {\"color\": \"rgba(0, 128, 128, 1.0)\", \"line\": {\"width\": 1.3}, \"opacity\": 0.8, \"size\": 12, \"symbol\": \"circle\"}, \"mode\": \"markers\", \"name\": \"North America\", \"text\": [\"Canada\", \"Costa Rica\", \"Dominican Republic\", \"Guatemala\", \"Honduras\", \"Haiti\", \"Jamaica\", \"Mexico\", \"Nicaragua\", \"Panama\", \"El Salvador\", \"Trinidad and Tobago\", \"United States\"], \"textfont\": {\"color\": \"#4D5663\"}, \"type\": \"scatter\", \"uid\": \"a8479c6d-4ba8-4666-b5fa-54a36555c12f\", \"x\": [4.66474111520007, 4.080140972124313, 3.8836655653338292, 3.6579168992754116, 3.394929528134454, 2.938662198233696, 3.7288067250801307, 3.9866859497915264, 3.307259976558824, 4.192430078268561, 3.608338225008869, 4.226437539235147, 4.7968587831902605], \"y\": [91.5, 80.7, 65.4, 56.0, 56.3, 49.1, 70.19999999999999, 61.900000000000006, 36.3, 70.5, 59.6, 71.6, 79.6]}],\n",
       "                        {\"legend\": {\"bgcolor\": \"#FFFFFF\", \"font\": {\"color\": \"#4D5663\"}}, \"paper_bgcolor\": \"#FFFFFF\", \"plot_bgcolor\": \"#FFFFFF\", \"title\": {\"font\": {\"color\": \"#4D5663\"}}, \"xaxis\": {\"gridcolor\": \"#E1E5ED\", \"showgrid\": true, \"tickfont\": {\"color\": \"#4D5663\"}, \"title\": {\"font\": {\"color\": \"#4D5663\"}, \"text\": \"Log GDP Per Capita (Current USD)\"}, \"zerolinecolor\": \"#E1E5ED\"}, \"yaxis\": {\"gridcolor\": \"#E1E5ED\", \"showgrid\": true, \"tickfont\": {\"color\": \"#4D5663\"}, \"title\": {\"font\": {\"color\": \"#4D5663\"}, \"text\": \"EIU Democracy Index\"}, \"zerolinecolor\": \"#E1E5ED\"}},\n",
       "                        {\"showLink\": true, \"linkText\": \"Export to plot.ly\", \"plotlyServerURL\": \"https://plot.ly\", \"responsive\": true}\n",
       "                    ).then(function(){\n",
       "                            \n",
       "var gd = document.getElementById('9bb7ba2f-227c-4944-b6a8-8459f2405d50');\n",
       "var x = new MutationObserver(function (mutations, observer) {{\n",
       "        var display = window.getComputedStyle(gd).display;\n",
       "        if (!display || display === 'none') {{\n",
       "            console.log([gd, 'removed!']);\n",
       "            Plotly.purge(gd);\n",
       "            observer.disconnect();\n",
       "        }}\n",
       "}});\n",
       "\n",
       "// Listen for the removal of the full notebook cells\n",
       "var notebookContainer = gd.closest('#notebook-container');\n",
       "if (notebookContainer) {{\n",
       "    x.observe(notebookContainer, {childList: true});\n",
       "}}\n",
       "\n",
       "// Listen for the clearing of the current output cell\n",
       "var outputEl = gd.closest('.output');\n",
       "if (outputEl) {{\n",
       "    x.observe(outputEl, {childList: true});\n",
       "}}\n",
       "\n",
       "                        })\n",
       "                };\n",
       "                });\n",
       "            </script>\n",
       "        </div>"
      ]
     },
     "metadata": {},
     "output_type": "display_data"
    }
   ],
   "source": [
    "df[df['Log GDP Per Capita'] > 0].iplot(\n",
    "    mode='markers',\n",
    "    x='Log GDP Per Capita',\n",
    "    y='Democracy index (EIU)',\n",
    "    categories='Continent',\n",
    "    text='Country Name',\n",
    "    xTitle='Log GDP Per Capita (Current USD)',\n",
    "    yTitle='EIU Democracy Index',\n",
    "    theme='white',\n",
    ")"
   ]
  },
  {
   "cell_type": "code",
   "execution_count": 19,
   "metadata": {},
   "outputs": [],
   "source": [
    "countries_to_show_name = [\n",
    "    'China',\n",
    "    'Hong Kong',                                                                    \n",
    "    'Singapore',                                                                    \n",
    "    'Japan',                                                                        \n",
    "    'United Kingdom',                                                               \n",
    "    'United States',                                                                \n",
    "    'Germany',                                                                     \n",
    "    'Malaysia',                                                                     \n",
    "    'Qatar',                                                                        \n",
    "    'South Korea',                                                                  \n",
    "    'Russia' \n",
    "]\n",
    "\n",
    "filters = (df['Log GDP Per Capita'] > 4)\n",
    "for c in countries_to_show_name:\n",
    "    filters |= (df['Country Name'] == c)"
   ]
  },
  {
   "cell_type": "code",
   "execution_count": 20,
   "metadata": {},
   "outputs": [],
   "source": [
    "figure = df[filters].iplot(\n",
    "    mode='markers+text',\n",
    "    x='GDP Per Capita',\n",
    "    y='Democracy index (EIU)',\n",
    "    categories='Country Name',\n",
    "    text='Country Name',\n",
    "    xTitle=('GDP Per Capita, USD in Log Scale (World Bank)<br> '\n",
    "            'Optimistically assuming China grows at 8% per year, '\n",
    "            'China is about 21 years behind HK today.'\n",
    "           ),\n",
    "    logx=True,\n",
    "    yTitle='Democracy Index (The Economist, Intelligence Unit)',\n",
    "    theme='white',\n",
    "    title='Political and Economic power, per person, {}.'.format(year_str),\n",
    "    asFigure=True,\n",
    "    showlegend=False,\n",
    ")"
   ]
  },
  {
   "cell_type": "code",
   "execution_count": 21,
   "metadata": {},
   "outputs": [
    {
     "data": {
      "text/plain": [
       "Figure({\n",
       "    'data': [{'marker': {'color': 'rgba(255, 153, 51, 1.0)',\n",
       "                         'line': {'width': 1.3},\n",
       "                         'opacity': 0.8,\n",
       "                         'size': 12,\n",
       "                         'symbol': 'circle'},\n",
       "              'mode': 'markers+text',\n",
       "              'name': 'United Arab Emirates',\n",
       "              'text': '',\n",
       "              'textfont': {'color': '#4D5663'},\n",
       "              'textposition': 'bottom center',\n",
       "              'type': 'scatter',\n",
       "              'uid': '450b77b7-f05c-45f0-a01f-827279786172',\n",
       "              'x': array([43004.94864623]),\n",
       "              'y': array([27.6])},\n",
       "             {'marker': {'color': 'rgba(55, 128, 191, 1.0)',\n",
       "                         'line': {'width': 1.3},\n",
       "                         'opacity': 0.8,\n",
       "                         'size': 12,\n",
       "                         'symbol': 'circle'},\n",
       "              'mode': 'markers+text',\n",
       "              'name': 'Argentina',\n",
       "              'text': '',\n",
       "              'textfont': {'color': '#4D5663'},\n",
       "              'textposition': 'bottom center',\n",
       "              'type': 'scatter',\n",
       "              'uid': 'fcbb42ad-b00a-4204-a057-1b1ad85a1eaa',\n",
       "              'x': array([11652.56628975]),\n",
       "              'y': array([70.2])},\n",
       "             {'marker': {'color': 'rgba(50, 171, 96, 1.0)',\n",
       "                         'line': {'width': 1.3},\n",
       "                         'opacity': 0.8,\n",
       "                         'size': 12,\n",
       "                         'symbol': 'circle'},\n",
       "              'mode': 'markers+text',\n",
       "              'name': 'Australia',\n",
       "              'text': '',\n",
       "              'textfont': {'color': '#4D5663'},\n",
       "              'textposition': 'bottom center',\n",
       "              'type': 'scatter',\n",
       "              'uid': 'aa6d6dd9-4113-44ef-9525-2faf007b9a15',\n",
       "              'x': array([57305.2990162]),\n",
       "              'y': array([90.9])},\n",
       "             {'marker': {'color': 'rgba(128, 0, 128, 1.0)',\n",
       "                         'line': {'width': 1.3},\n",
       "                         'opacity': 0.8,\n",
       "                         'size': 12,\n",
       "                         'symbol': 'circle'},\n",
       "              'mode': 'markers+text',\n",
       "              'name': 'Austria',\n",
       "              'text': '',\n",
       "              'textfont': {'color': '#4D5663'},\n",
       "              'textposition': 'bottom center',\n",
       "              'type': 'scatter',\n",
       "              'uid': '20c16198-1394-414c-b5b9-3099a196fefc',\n",
       "              'x': array([51512.90547515]),\n",
       "              'y': array([82.9])},\n",
       "             {'marker': {'color': 'rgba(219, 64, 82, 1.0)',\n",
       "                         'line': {'width': 1.3},\n",
       "                         'opacity': 0.8,\n",
       "                         'size': 12,\n",
       "                         'symbol': 'circle'},\n",
       "              'mode': 'markers+text',\n",
       "              'name': 'Belgium',\n",
       "              'text': '',\n",
       "              'textfont': {'color': '#4D5663'},\n",
       "              'textposition': 'bottom center',\n",
       "              'type': 'scatter',\n",
       "              'uid': '1e28eafb-67e3-4140-a669-830e7726a15c',\n",
       "              'x': array([46556.09956715]),\n",
       "              'y': array([77.8])},\n",
       "             {'marker': {'color': 'rgba(0, 128, 128, 1.0)',\n",
       "                         'line': {'width': 1.3},\n",
       "                         'opacity': 0.8,\n",
       "                         'size': 12,\n",
       "                         'symbol': 'circle'},\n",
       "              'mode': 'markers+text',\n",
       "              'name': 'Bahrain',\n",
       "              'text': '',\n",
       "              'textfont': {'color': '#4D5663'},\n",
       "              'textposition': 'bottom center',\n",
       "              'type': 'scatter',\n",
       "              'uid': '514ef6b8-8c1e-458f-a850-ad71c050ab5e',\n",
       "              'x': array([24050.7575054]),\n",
       "              'y': array([27.1])},\n",
       "             {'marker': {'color': 'rgba(255, 255, 51, 1.0)',\n",
       "                         'line': {'width': 1.3},\n",
       "                         'opacity': 0.8,\n",
       "                         'size': 12,\n",
       "                         'symbol': 'circle'},\n",
       "              'mode': 'markers+text',\n",
       "              'name': 'Canada',\n",
       "              'text': '',\n",
       "              'textfont': {'color': '#4D5663'},\n",
       "              'textposition': 'bottom center',\n",
       "              'type': 'scatter',\n",
       "              'uid': 'ecc31342-d918-4ec4-bd63-8aa484e90b81',\n",
       "              'x': array([46210.54762279]),\n",
       "              'y': array([91.5])},\n",
       "             {'marker': {'color': 'rgba(128, 128, 0, 1.0)',\n",
       "                         'line': {'width': 1.3},\n",
       "                         'opacity': 0.8,\n",
       "                         'size': 12,\n",
       "                         'symbol': 'circle'},\n",
       "              'mode': 'markers+text',\n",
       "              'name': 'Switzerland',\n",
       "              'text': '',\n",
       "              'textfont': {'color': '#4D5663'},\n",
       "              'textposition': 'bottom center',\n",
       "              'type': 'scatter',\n",
       "              'uid': 'c1773157-5a49-447d-b597-5ae7725147fb',\n",
       "              'x': array([82838.92944458]),\n",
       "              'y': array([90.3])},\n",
       "             {'marker': {'color': 'rgba(251, 128, 114, 1.0)',\n",
       "                         'line': {'width': 1.3},\n",
       "                         'opacity': 0.8,\n",
       "                         'size': 12,\n",
       "                         'symbol': 'circle'},\n",
       "              'mode': 'markers+text',\n",
       "              'name': 'Chile',\n",
       "              'text': '',\n",
       "              'textfont': {'color': '#4D5663'},\n",
       "              'textposition': 'bottom center',\n",
       "              'type': 'scatter',\n",
       "              'uid': 'dd1ea833-5a8a-48c8-b80c-2cef06028274',\n",
       "              'x': array([15923.35906199]),\n",
       "              'y': array([79.7])},\n",
       "             {'marker': {'color': 'rgba(128, 177, 211, 1.0)',\n",
       "                         'line': {'width': 1.3},\n",
       "                         'opacity': 0.8,\n",
       "                         'size': 12,\n",
       "                         'symbol': 'circle'},\n",
       "              'mode': 'markers+text',\n",
       "              'name': 'China',\n",
       "              'text': array(['China'], dtype=object),\n",
       "              'textfont': {'color': 'crimson', 'size': 18},\n",
       "              'textposition': 'bottom center',\n",
       "              'type': 'scatter',\n",
       "              'uid': '1d0354ce-637f-4480-bafa-18a205ea0832',\n",
       "              'x': array([9770.84708783]),\n",
       "              'y': array([33.2])},\n",
       "             {'marker': {'color': 'rgba(128, 177, 211, 0.8999999999999999)',\n",
       "                         'line': {'width': 1.3},\n",
       "                         'opacity': 0.8,\n",
       "                         'size': 12,\n",
       "                         'symbol': 'circle'},\n",
       "              'mode': 'markers+text',\n",
       "              'name': 'Costa Rica',\n",
       "              'text': '',\n",
       "              'textfont': {'color': '#4D5663'},\n",
       "              'textposition': 'bottom center',\n",
       "              'type': 'scatter',\n",
       "              'uid': '7a786884-ddfc-4834-8475-c64dc07642c6',\n",
       "              'x': array([12026.54753373]),\n",
       "              'y': array([80.7])},\n",
       "             {'marker': {'color': 'rgba(255, 153, 51, 0.8999999999999999)',\n",
       "                         'line': {'width': 1.3},\n",
       "                         'opacity': 0.8,\n",
       "                         'size': 12,\n",
       "                         'symbol': 'circle'},\n",
       "              'mode': 'markers+text',\n",
       "              'name': 'Cyprus',\n",
       "              'text': '',\n",
       "              'textfont': {'color': '#4D5663'},\n",
       "              'textposition': 'bottom center',\n",
       "              'type': 'scatter',\n",
       "              'uid': 'bc9c8cd0-d09b-4143-a05d-3588380c2f91',\n",
       "              'x': array([28159.30169995]),\n",
       "              'y': array([75.9])},\n",
       "             {'marker': {'color': 'rgba(55, 128, 191, 0.8999999999999999)',\n",
       "                         'line': {'width': 1.3},\n",
       "                         'opacity': 0.8,\n",
       "                         'size': 12,\n",
       "                         'symbol': 'circle'},\n",
       "              'mode': 'markers+text',\n",
       "              'name': 'Czech Republic',\n",
       "              'text': '',\n",
       "              'textfont': {'color': '#4D5663'},\n",
       "              'textposition': 'bottom center',\n",
       "              'type': 'scatter',\n",
       "              'uid': 'd9a2c394-1e5e-4abf-9f91-e70665e0d439',\n",
       "              'x': array([23078.57348657]),\n",
       "              'y': array([76.9])},\n",
       "             {'marker': {'color': 'rgba(50, 171, 96, 0.8999999999999999)',\n",
       "                         'line': {'width': 1.3},\n",
       "                         'opacity': 0.8,\n",
       "                         'size': 12,\n",
       "                         'symbol': 'circle'},\n",
       "              'mode': 'markers+text',\n",
       "              'name': 'Germany',\n",
       "              'text': array(['Germany'], dtype=object),\n",
       "              'textfont': {'color': '#4D5663'},\n",
       "              'textposition': 'bottom center',\n",
       "              'type': 'scatter',\n",
       "              'uid': 'fddbabae-db26-4dce-956e-81a9c47f53b1',\n",
       "              'x': array([48195.57990441]),\n",
       "              'y': array([86.8])},\n",
       "             {'marker': {'color': 'rgba(128, 0, 128, 0.8999999999999999)',\n",
       "                         'line': {'width': 1.3},\n",
       "                         'opacity': 0.8,\n",
       "                         'size': 12,\n",
       "                         'symbol': 'circle'},\n",
       "              'mode': 'markers+text',\n",
       "              'name': 'Denmark',\n",
       "              'text': '',\n",
       "              'textfont': {'color': '#4D5663'},\n",
       "              'textposition': 'bottom center',\n",
       "              'type': 'scatter',\n",
       "              'uid': 'ea38903f-2d6c-4e79-b433-2d407c9c0b58',\n",
       "              'x': array([60726.46653515]),\n",
       "              'y': array([92.2])},\n",
       "             {'marker': {'color': 'rgba(219, 64, 82, 0.8999999999999999)',\n",
       "                         'line': {'width': 1.3},\n",
       "                         'opacity': 0.8,\n",
       "                         'size': 12,\n",
       "                         'symbol': 'circle'},\n",
       "              'mode': 'markers+text',\n",
       "              'name': 'Spain',\n",
       "              'text': '',\n",
       "              'textfont': {'color': '#4D5663'},\n",
       "              'textposition': 'bottom center',\n",
       "              'type': 'scatter',\n",
       "              'uid': '33b0dc9d-1413-4cff-9334-403f7b9b1a3d',\n",
       "              'x': array([30523.85923905]),\n",
       "              'y': array([80.8])},\n",
       "             {'marker': {'color': 'rgba(0, 128, 128, 0.8999999999999999)',\n",
       "                         'line': {'width': 1.3},\n",
       "                         'opacity': 0.8,\n",
       "                         'size': 12,\n",
       "                         'symbol': 'circle'},\n",
       "              'mode': 'markers+text',\n",
       "              'name': 'Estonia',\n",
       "              'text': '',\n",
       "              'textfont': {'color': '#4D5663'},\n",
       "              'textposition': 'bottom center',\n",
       "              'type': 'scatter',\n",
       "              'uid': '06da33c6-cf7a-4457-8e83-3440d2deecba',\n",
       "              'x': array([22927.74441742]),\n",
       "              'y': array([79.7])},\n",
       "             {'marker': {'color': 'rgba(255, 255, 51, 0.8999999999999999)',\n",
       "                         'line': {'width': 1.3},\n",
       "                         'opacity': 0.8,\n",
       "                         'size': 12,\n",
       "                         'symbol': 'circle'},\n",
       "              'mode': 'markers+text',\n",
       "              'name': 'Finland',\n",
       "              'text': '',\n",
       "              'textfont': {'color': '#4D5663'},\n",
       "              'textposition': 'bottom center',\n",
       "              'type': 'scatter',\n",
       "              'uid': 'd57f34b2-12e9-4414-a223-91f3d7392d19',\n",
       "              'x': array([49648.14925548]),\n",
       "              'y': array([91.4])},\n",
       "             {'marker': {'color': 'rgba(128, 128, 0, 0.8999999999999999)',\n",
       "                         'line': {'width': 1.3},\n",
       "                         'opacity': 0.8,\n",
       "                         'size': 12,\n",
       "                         'symbol': 'circle'},\n",
       "              'mode': 'markers+text',\n",
       "              'name': 'France',\n",
       "              'text': '',\n",
       "              'textfont': {'color': '#4D5663'},\n",
       "              'textposition': 'bottom center',\n",
       "              'type': 'scatter',\n",
       "              'uid': '33bae856-5061-432d-b38b-ba0d497a6031',\n",
       "              'x': array([41463.6440227]),\n",
       "              'y': array([78.])},\n",
       "             {'marker': {'color': 'rgba(251, 128, 114, 0.8999999999999999)',\n",
       "                         'line': {'width': 1.3},\n",
       "                         'opacity': 0.8,\n",
       "                         'size': 12,\n",
       "                         'symbol': 'circle'},\n",
       "              'mode': 'markers+text',\n",
       "              'name': 'United Kingdom',\n",
       "              'text': array(['United Kingdom'], dtype=object),\n",
       "              'textfont': {'color': '#4D5663'},\n",
       "              'textposition': 'top left',\n",
       "              'type': 'scatter',\n",
       "              'uid': 'f7070883-0ba1-4edc-98e4-19a11aae4518',\n",
       "              'x': array([42491.3644351]),\n",
       "              'y': array([85.3])},\n",
       "             {'marker': {'color': 'rgba(251, 128, 114, 0.7999999999999998)',\n",
       "                         'line': {'width': 1.3},\n",
       "                         'opacity': 0.8,\n",
       "                         'size': 12,\n",
       "                         'symbol': 'circle'},\n",
       "              'mode': 'markers+text',\n",
       "              'name': 'Equatorial Guinea',\n",
       "              'text': '',\n",
       "              'textfont': {'color': '#4D5663'},\n",
       "              'textposition': 'bottom center',\n",
       "              'type': 'scatter',\n",
       "              'uid': '77a09fd6-4ee2-4aad-8194-36b7ef017cb1',\n",
       "              'x': array([10173.96302019]),\n",
       "              'y': array([19.2])},\n",
       "             {'marker': {'color': 'rgba(128, 177, 211, 0.7999999999999998)',\n",
       "                         'line': {'width': 1.3},\n",
       "                         'opacity': 0.8,\n",
       "                         'size': 12,\n",
       "                         'symbol': 'circle'},\n",
       "              'mode': 'markers+text',\n",
       "              'name': 'Greece',\n",
       "              'text': '',\n",
       "              'textfont': {'color': '#4D5663'},\n",
       "              'textposition': 'bottom center',\n",
       "              'type': 'scatter',\n",
       "              'uid': '0203594e-5474-4b98-96d6-6f8b4feba0d5',\n",
       "              'x': array([20324.25356415]),\n",
       "              'y': array([72.9])},\n",
       "             {'marker': {'color': 'rgba(255, 153, 51, 0.7999999999999998)',\n",
       "                         'line': {'width': 1.3},\n",
       "                         'opacity': 0.8,\n",
       "                         'size': 12,\n",
       "                         'symbol': 'circle'},\n",
       "              'mode': 'markers+text',\n",
       "              'name': 'Hong Kong',\n",
       "              'text': array(['Hong Kong'], dtype=object),\n",
       "              'textfont': {'color': 'navy', 'size': 18},\n",
       "              'textposition': 'bottom center',\n",
       "              'type': 'scatter',\n",
       "              'uid': '763bfd20-4680-4c5c-b291-1d2a9a49cbe6',\n",
       "              'x': array([48717.29121425]),\n",
       "              'y': array([61.5])},\n",
       "             {'marker': {'color': 'rgba(55, 128, 191, 0.7999999999999998)',\n",
       "                         'line': {'width': 1.3},\n",
       "                         'opacity': 0.8,\n",
       "                         'size': 12,\n",
       "                         'symbol': 'circle'},\n",
       "              'mode': 'markers+text',\n",
       "              'name': 'Croatia',\n",
       "              'text': '',\n",
       "              'textfont': {'color': '#4D5663'},\n",
       "              'textposition': 'bottom center',\n",
       "              'type': 'scatter',\n",
       "              'uid': '7b942bf5-96cd-40b0-855c-cbeb14973bd4',\n",
       "              'x': array([14869.0906823]),\n",
       "              'y': array([65.7])},\n",
       "             {'marker': {'color': 'rgba(50, 171, 96, 0.7999999999999998)',\n",
       "                         'line': {'width': 1.3},\n",
       "                         'opacity': 0.8,\n",
       "                         'size': 12,\n",
       "                         'symbol': 'circle'},\n",
       "              'mode': 'markers+text',\n",
       "              'name': 'Hungary',\n",
       "              'text': '',\n",
       "              'textfont': {'color': '#4D5663'},\n",
       "              'textposition': 'bottom center',\n",
       "              'type': 'scatter',\n",
       "              'uid': 'c5d1af3c-99a2-4267-a837-80093a083988',\n",
       "              'x': array([15938.83679656]),\n",
       "              'y': array([66.3])},\n",
       "             {'marker': {'color': 'rgba(128, 0, 128, 0.7999999999999998)',\n",
       "                         'line': {'width': 1.3},\n",
       "                         'opacity': 0.8,\n",
       "                         'size': 12,\n",
       "                         'symbol': 'circle'},\n",
       "              'mode': 'markers+text',\n",
       "              'name': 'Ireland',\n",
       "              'text': '',\n",
       "              'textfont': {'color': '#4D5663'},\n",
       "              'textposition': 'bottom center',\n",
       "              'type': 'scatter',\n",
       "              'uid': '2dadefbb-10c5-4000-aa09-84bf840a9de6',\n",
       "              'x': array([78806.43199627]),\n",
       "              'y': array([91.5])},\n",
       "             {'marker': {'color': 'rgba(219, 64, 82, 0.7999999999999998)',\n",
       "                         'line': {'width': 1.3},\n",
       "                         'opacity': 0.8,\n",
       "                         'size': 12,\n",
       "                         'symbol': 'circle'},\n",
       "              'mode': 'markers+text',\n",
       "              'name': 'Iceland',\n",
       "              'text': '',\n",
       "              'textfont': {'color': '#4D5663'},\n",
       "              'textposition': 'bottom center',\n",
       "              'type': 'scatter',\n",
       "              'uid': '52e8bd5f-109a-41fd-ad4d-a140fc9d57d5',\n",
       "              'x': array([73201.70254999]),\n",
       "              'y': array([95.8])},\n",
       "             {'marker': {'color': 'rgba(0, 128, 128, 0.7999999999999998)',\n",
       "                         'line': {'width': 1.3},\n",
       "                         'opacity': 0.8,\n",
       "                         'size': 12,\n",
       "                         'symbol': 'circle'},\n",
       "              'mode': 'markers+text',\n",
       "              'name': 'Israel',\n",
       "              'text': '',\n",
       "              'textfont': {'color': '#4D5663'},\n",
       "              'textposition': 'bottom center',\n",
       "              'type': 'scatter',\n",
       "              'uid': 'c214e329-e53e-4d37-b6e4-b43118b62d5c',\n",
       "              'x': array([41613.99808218]),\n",
       "              'y': array([77.9])},\n",
       "             {'marker': {'color': 'rgba(255, 255, 51, 0.7999999999999998)',\n",
       "                         'line': {'width': 1.3},\n",
       "                         'opacity': 0.8,\n",
       "                         'size': 12,\n",
       "                         'symbol': 'circle'},\n",
       "              'mode': 'markers+text',\n",
       "              'name': 'Italy',\n",
       "              'text': '',\n",
       "              'textfont': {'color': '#4D5663'},\n",
       "              'textposition': 'bottom center',\n",
       "              'type': 'scatter',\n",
       "              'uid': '181fdb99-d2a7-49ec-b153-45ac86ebb5c8',\n",
       "              'x': array([34318.35112417]),\n",
       "              'y': array([77.1])},\n",
       "             {'marker': {'color': 'rgba(128, 128, 0, 0.7999999999999998)',\n",
       "                         'line': {'width': 1.3},\n",
       "                         'opacity': 0.8,\n",
       "                         'size': 12,\n",
       "                         'symbol': 'circle'},\n",
       "              'mode': 'markers+text',\n",
       "              'name': 'Japan',\n",
       "              'text': array(['Japan'], dtype=object),\n",
       "              'textfont': {'color': '#4D5663'},\n",
       "              'textposition': 'bottom center',\n",
       "              'type': 'scatter',\n",
       "              'uid': '74b9be02-a79f-4efb-8c65-0a8bd821022b',\n",
       "              'x': array([39286.7376488]),\n",
       "              'y': array([79.9])},\n",
       "             {'marker': {'color': 'rgba(128, 128, 0, 0.7)',\n",
       "                         'line': {'width': 1.3},\n",
       "                         'opacity': 0.8,\n",
       "                         'size': 12,\n",
       "                         'symbol': 'circle'},\n",
       "              'mode': 'markers+text',\n",
       "              'name': 'South Korea',\n",
       "              'text': array(['South Korea'], dtype=object),\n",
       "              'textfont': {'color': '#4D5663'},\n",
       "              'textposition': 'top center',\n",
       "              'type': 'scatter',\n",
       "              'uid': 'f9b6e2bc-647a-4742-b485-f228d606d314',\n",
       "              'x': array([31362.75147294]),\n",
       "              'y': array([80.])},\n",
       "             {'marker': {'color': 'rgba(251, 128, 114, 0.7)',\n",
       "                         'line': {'width': 1.3},\n",
       "                         'opacity': 0.8,\n",
       "                         'size': 12,\n",
       "                         'symbol': 'circle'},\n",
       "              'mode': 'markers+text',\n",
       "              'name': 'Kuwait',\n",
       "              'text': '',\n",
       "              'textfont': {'color': '#4D5663'},\n",
       "              'textposition': 'bottom center',\n",
       "              'type': 'scatter',\n",
       "              'uid': 'd2e019ab-920b-45ae-a701-5c4183eb4b20',\n",
       "              'x': array([34243.95290986]),\n",
       "              'y': array([38.5])},\n",
       "             {'marker': {'color': 'rgba(128, 177, 211, 0.7)',\n",
       "                         'line': {'width': 1.3},\n",
       "                         'opacity': 0.8,\n",
       "                         'size': 12,\n",
       "                         'symbol': 'circle'},\n",
       "              'mode': 'markers+text',\n",
       "              'name': 'Lithuania',\n",
       "              'text': '',\n",
       "              'textfont': {'color': '#4D5663'},\n",
       "              'textposition': 'bottom center',\n",
       "              'type': 'scatter',\n",
       "              'uid': 'a2e4d1a4-c8f2-465d-a1e7-e598facac608',\n",
       "              'x': array([19089.70750566]),\n",
       "              'y': array([75.])},\n",
       "             {'marker': {'color': 'rgba(255, 153, 51, 0.7)',\n",
       "                         'line': {'width': 1.3},\n",
       "                         'opacity': 0.8,\n",
       "                         'size': 12,\n",
       "                         'symbol': 'circle'},\n",
       "              'mode': 'markers+text',\n",
       "              'name': 'Luxembourg',\n",
       "              'text': '',\n",
       "              'textfont': {'color': '#4D5663'},\n",
       "              'textposition': 'bottom center',\n",
       "              'type': 'scatter',\n",
       "              'uid': '21eaba95-96f0-41e0-a713-b2ff70bc7c5b',\n",
       "              'x': array([114340.49874177]),\n",
       "              'y': array([88.1])},\n",
       "             {'marker': {'color': 'rgba(55, 128, 191, 0.7)',\n",
       "                         'line': {'width': 1.3},\n",
       "                         'opacity': 0.8,\n",
       "                         'size': 12,\n",
       "                         'symbol': 'circle'},\n",
       "              'mode': 'markers+text',\n",
       "              'name': 'Latvia',\n",
       "              'text': '',\n",
       "              'textfont': {'color': '#4D5663'},\n",
       "              'textposition': 'bottom center',\n",
       "              'type': 'scatter',\n",
       "              'uid': '7cd905e3-e005-4270-a41f-5619301b5855',\n",
       "              'x': array([18088.92725187]),\n",
       "              'y': array([73.8])},\n",
       "             {'marker': {'color': 'rgba(50, 171, 96, 0.7)',\n",
       "                         'line': {'width': 1.3},\n",
       "                         'opacity': 0.8,\n",
       "                         'size': 12,\n",
       "                         'symbol': 'circle'},\n",
       "              'mode': 'markers+text',\n",
       "              'name': 'Malta',\n",
       "              'text': '',\n",
       "              'textfont': {'color': '#4D5663'},\n",
       "              'textposition': 'bottom center',\n",
       "              'type': 'scatter',\n",
       "              'uid': '69c100eb-ba1d-4927-8583-56b62e21dcd3',\n",
       "              'x': array([30074.7411851]),\n",
       "              'y': array([82.1])},\n",
       "             {'marker': {'color': 'rgba(128, 0, 128, 0.7)',\n",
       "                         'line': {'width': 1.3},\n",
       "                         'opacity': 0.8,\n",
       "                         'size': 12,\n",
       "                         'symbol': 'circle'},\n",
       "              'mode': 'markers+text',\n",
       "              'name': 'Mauritius',\n",
       "              'text': '',\n",
       "              'textfont': {'color': '#4D5663'},\n",
       "              'textposition': 'bottom center',\n",
       "              'type': 'scatter',\n",
       "              'uid': 'e84228d9-9a47-44f1-9940-bf709e9b8077',\n",
       "              'x': array([11238.6903949]),\n",
       "              'y': array([82.2])},\n",
       "             {'marker': {'color': 'rgba(219, 64, 82, 0.7)',\n",
       "                         'line': {'width': 1.3},\n",
       "                         'opacity': 0.8,\n",
       "                         'size': 12,\n",
       "                         'symbol': 'circle'},\n",
       "              'mode': 'markers+text',\n",
       "              'name': 'Malaysia',\n",
       "              'text': array(['Malaysia'], dtype=object),\n",
       "              'textfont': {'color': '#4D5663'},\n",
       "              'textposition': 'bottom left',\n",
       "              'type': 'scatter',\n",
       "              'uid': 'c9c54a9e-693f-4a9b-b2ed-72534689d54f',\n",
       "              'x': array([11238.95737253]),\n",
       "              'y': array([68.8])},\n",
       "             {'marker': {'color': 'rgba(0, 128, 128, 0.7)',\n",
       "                         'line': {'width': 1.3},\n",
       "                         'opacity': 0.8,\n",
       "                         'size': 12,\n",
       "                         'symbol': 'circle'},\n",
       "              'mode': 'markers+text',\n",
       "              'name': 'Netherlands',\n",
       "              'text': '',\n",
       "              'textfont': {'color': '#4D5663'},\n",
       "              'textposition': 'bottom center',\n",
       "              'type': 'scatter',\n",
       "              'uid': '2575fd56-b85c-49f5-8513-3c70a7904cee',\n",
       "              'x': array([53024.05921305]),\n",
       "              'y': array([88.9])},\n",
       "             {'marker': {'color': 'rgba(255, 255, 51, 0.7)',\n",
       "                         'line': {'width': 1.3},\n",
       "                         'opacity': 0.8,\n",
       "                         'size': 12,\n",
       "                         'symbol': 'circle'},\n",
       "              'mode': 'markers+text',\n",
       "              'name': 'Norway',\n",
       "              'text': '',\n",
       "              'textfont': {'color': '#4D5663'},\n",
       "              'textposition': 'bottom center',\n",
       "              'type': 'scatter',\n",
       "              'uid': 'c7268c82-efd8-4dc6-8671-d8974ae77625',\n",
       "              'x': array([81807.19803868]),\n",
       "              'y': array([98.7])},\n",
       "             {'marker': {'color': 'rgba(255, 255, 51, 0.5999999999999999)',\n",
       "                         'line': {'width': 1.3},\n",
       "                         'opacity': 0.8,\n",
       "                         'size': 12,\n",
       "                         'symbol': 'circle'},\n",
       "              'mode': 'markers+text',\n",
       "              'name': 'New Zealand',\n",
       "              'text': '',\n",
       "              'textfont': {'color': '#4D5663'},\n",
       "              'textposition': 'bottom center',\n",
       "              'type': 'scatter',\n",
       "              'uid': '7af56b40-d1d4-4990-8f05-d4ddb36b5b3f',\n",
       "              'x': array([41966.00918464]),\n",
       "              'y': array([92.6])},\n",
       "             {'marker': {'color': 'rgba(128, 128, 0, 0.5999999999999999)',\n",
       "                         'line': {'width': 1.3},\n",
       "                         'opacity': 0.8,\n",
       "                         'size': 12,\n",
       "                         'symbol': 'circle'},\n",
       "              'mode': 'markers+text',\n",
       "              'name': 'Oman',\n",
       "              'text': '',\n",
       "              'textfont': {'color': '#4D5663'},\n",
       "              'textposition': 'bottom center',\n",
       "              'type': 'scatter',\n",
       "              'uid': '8939f50e-2632-47c4-916f-cad40c51c07e',\n",
       "              'x': array([16418.92692832]),\n",
       "              'y': array([30.4])},\n",
       "             {'marker': {'color': 'rgba(251, 128, 114, 0.5999999999999999)',\n",
       "                         'line': {'width': 1.3},\n",
       "                         'opacity': 0.8,\n",
       "                         'size': 12,\n",
       "                         'symbol': 'circle'},\n",
       "              'mode': 'markers+text',\n",
       "              'name': 'Panama',\n",
       "              'text': '',\n",
       "              'textfont': {'color': '#4D5663'},\n",
       "              'textposition': 'bottom center',\n",
       "              'type': 'scatter',\n",
       "              'uid': '95a75a17-b8e9-4472-93bb-7ed3b238c728',\n",
       "              'x': array([15575.07254829]),\n",
       "              'y': array([70.5])},\n",
       "             {'marker': {'color': 'rgba(128, 177, 211, 0.5999999999999999)',\n",
       "                         'line': {'width': 1.3},\n",
       "                         'opacity': 0.8,\n",
       "                         'size': 12,\n",
       "                         'symbol': 'circle'},\n",
       "              'mode': 'markers+text',\n",
       "              'name': 'Poland',\n",
       "              'text': '',\n",
       "              'textfont': {'color': '#4D5663'},\n",
       "              'textposition': 'bottom center',\n",
       "              'type': 'scatter',\n",
       "              'uid': '4f717c9f-12fb-4cdf-986f-963f36245f06',\n",
       "              'x': array([15424.04602545]),\n",
       "              'y': array([66.7])},\n",
       "             {'marker': {'color': 'rgba(255, 153, 51, 0.5999999999999999)',\n",
       "                         'line': {'width': 1.3},\n",
       "                         'opacity': 0.8,\n",
       "                         'size': 12,\n",
       "                         'symbol': 'circle'},\n",
       "              'mode': 'markers+text',\n",
       "              'name': 'Portugal',\n",
       "              'text': '',\n",
       "              'textfont': {'color': '#4D5663'},\n",
       "              'textposition': 'bottom center',\n",
       "              'type': 'scatter',\n",
       "              'uid': '3932e237-a58c-4d42-b9ab-4017e893f533',\n",
       "              'x': array([23145.73495626]),\n",
       "              'y': array([78.4])},\n",
       "             {'marker': {'color': 'rgba(55, 128, 191, 0.5999999999999999)',\n",
       "                         'line': {'width': 1.3},\n",
       "                         'opacity': 0.8,\n",
       "                         'size': 12,\n",
       "                         'symbol': 'circle'},\n",
       "              'mode': 'markers+text',\n",
       "              'name': 'Qatar',\n",
       "              'text': array(['Qatar'], dtype=object),\n",
       "              'textfont': {'color': '#4D5663'},\n",
       "              'textposition': 'bottom center',\n",
       "              'type': 'scatter',\n",
       "              'uid': 'ef243fa6-7ecd-4890-9030-c9c41a608cec',\n",
       "              'x': array([69026.46880258]),\n",
       "              'y': array([31.9])},\n",
       "             {'marker': {'color': 'rgba(50, 171, 96, 0.5999999999999999)',\n",
       "                         'line': {'width': 1.3},\n",
       "                         'opacity': 0.8,\n",
       "                         'size': 12,\n",
       "                         'symbol': 'circle'},\n",
       "              'mode': 'markers+text',\n",
       "              'name': 'Romania',\n",
       "              'text': '',\n",
       "              'textfont': {'color': '#4D5663'},\n",
       "              'textposition': 'bottom center',\n",
       "              'type': 'scatter',\n",
       "              'uid': 'c38ea6de-5c4d-45f9-8072-8b9a82ef291c',\n",
       "              'x': array([12301.18640343]),\n",
       "              'y': array([63.8])},\n",
       "             {'marker': {'color': 'rgba(128, 0, 128, 0.5999999999999999)',\n",
       "                         'line': {'width': 1.3},\n",
       "                         'opacity': 0.8,\n",
       "                         'size': 12,\n",
       "                         'symbol': 'circle'},\n",
       "              'mode': 'markers+text',\n",
       "              'name': 'Russia',\n",
       "              'text': array(['Russia'], dtype=object),\n",
       "              'textfont': {'color': '#4D5663'},\n",
       "              'textposition': 'bottom center',\n",
       "              'type': 'scatter',\n",
       "              'uid': '4f4d97f4-857a-4310-a6c3-59ff6feaf0be',\n",
       "              'x': array([11288.87244352]),\n",
       "              'y': array([29.4])},\n",
       "             {'marker': {'color': 'rgba(219, 64, 82, 0.5999999999999999)',\n",
       "                         'line': {'width': 1.3},\n",
       "                         'opacity': 0.8,\n",
       "                         'size': 12,\n",
       "                         'symbol': 'circle'},\n",
       "              'mode': 'markers+text',\n",
       "              'name': 'Saudi Arabia',\n",
       "              'text': '',\n",
       "              'textfont': {'color': '#4D5663'},\n",
       "              'textposition': 'bottom center',\n",
       "              'type': 'scatter',\n",
       "              'uid': 'b097029c-ca88-412f-982e-6249e74dc1be',\n",
       "              'x': array([23219.1304831]),\n",
       "              'y': array([19.3])},\n",
       "             {'marker': {'color': 'rgba(0, 128, 128, 0.5999999999999999)',\n",
       "                         'line': {'width': 1.3},\n",
       "                         'opacity': 0.8,\n",
       "                         'size': 12,\n",
       "                         'symbol': 'circle'},\n",
       "              'mode': 'markers+text',\n",
       "              'name': 'Singapore',\n",
       "              'text': array(['Singapore'], dtype=object),\n",
       "              'textfont': {'color': '#4D5663'},\n",
       "              'textposition': 'bottom center',\n",
       "              'type': 'scatter',\n",
       "              'uid': 'aa3deed0-552a-47cd-9a7d-48cce87bb5cd',\n",
       "              'x': array([64581.9440184]),\n",
       "              'y': array([63.8])},\n",
       "             {'marker': {'color': 'rgba(0, 128, 128, 0.49999999999999983)',\n",
       "                         'line': {'width': 1.3},\n",
       "                         'opacity': 0.8,\n",
       "                         'size': 12,\n",
       "                         'symbol': 'circle'},\n",
       "              'mode': 'markers+text',\n",
       "              'name': 'Slovakia',\n",
       "              'text': '',\n",
       "              'textfont': {'color': '#4D5663'},\n",
       "              'textposition': 'bottom center',\n",
       "              'type': 'scatter',\n",
       "              'uid': 'df0dfff8-6e31-4a40-b35e-f12de9efb6f0',\n",
       "              'x': array([19546.90190285]),\n",
       "              'y': array([71.])},\n",
       "             {'marker': {'color': 'rgba(255, 255, 51, 0.49999999999999983)',\n",
       "                         'line': {'width': 1.3},\n",
       "                         'opacity': 0.8,\n",
       "                         'size': 12,\n",
       "                         'symbol': 'circle'},\n",
       "              'mode': 'markers+text',\n",
       "              'name': 'Slovenia',\n",
       "              'text': '',\n",
       "              'textfont': {'color': '#4D5663'},\n",
       "              'textposition': 'bottom center',\n",
       "              'type': 'scatter',\n",
       "              'uid': '9009bebc-1d5d-418a-b9ce-db76926105ff',\n",
       "              'x': array([26234.02289625]),\n",
       "              'y': array([75.])},\n",
       "             {'marker': {'color': 'rgba(128, 128, 0, 0.49999999999999983)',\n",
       "                         'line': {'width': 1.3},\n",
       "                         'opacity': 0.8,\n",
       "                         'size': 12,\n",
       "                         'symbol': 'circle'},\n",
       "              'mode': 'markers+text',\n",
       "              'name': 'Sweden',\n",
       "              'text': '',\n",
       "              'textfont': {'color': '#4D5663'},\n",
       "              'textposition': 'bottom center',\n",
       "              'type': 'scatter',\n",
       "              'uid': 'c2de62d1-2b1a-4e9d-aa91-cef9cdecc412',\n",
       "              'x': array([54111.97217237]),\n",
       "              'y': array([93.9])},\n",
       "             {'marker': {'color': 'rgba(251, 128, 114, 0.49999999999999983)',\n",
       "                         'line': {'width': 1.3},\n",
       "                         'opacity': 0.8,\n",
       "                         'size': 12,\n",
       "                         'symbol': 'circle'},\n",
       "              'mode': 'markers+text',\n",
       "              'name': 'Trinidad and Tobago',\n",
       "              'text': '',\n",
       "              'textfont': {'color': '#4D5663'},\n",
       "              'textposition': 'bottom center',\n",
       "              'type': 'scatter',\n",
       "              'uid': '09921941-3afb-4fad-9781-a47f8283e965',\n",
       "              'x': array([16843.70161171]),\n",
       "              'y': array([71.6])},\n",
       "             {'marker': {'color': 'rgba(128, 177, 211, 0.49999999999999983)',\n",
       "                         'line': {'width': 1.3},\n",
       "                         'opacity': 0.8,\n",
       "                         'size': 12,\n",
       "                         'symbol': 'circle'},\n",
       "              'mode': 'markers+text',\n",
       "              'name': 'Uruguay',\n",
       "              'text': '',\n",
       "              'textfont': {'color': '#4D5663'},\n",
       "              'textposition': 'bottom center',\n",
       "              'type': 'scatter',\n",
       "              'uid': '91b1e0eb-68b5-4fd4-ae63-70126d0544d7',\n",
       "              'x': array([17277.97011055]),\n",
       "              'y': array([83.8])},\n",
       "             {'marker': {'color': 'rgba(255, 153, 51, 0.49999999999999983)',\n",
       "                         'line': {'width': 1.3},\n",
       "                         'opacity': 0.8,\n",
       "                         'size': 12,\n",
       "                         'symbol': 'circle'},\n",
       "              'mode': 'markers+text',\n",
       "              'name': 'United States',\n",
       "              'text': array(['United States'], dtype=object),\n",
       "              'textfont': {'color': '#4D5663'},\n",
       "              'textposition': 'bottom center',\n",
       "              'type': 'scatter',\n",
       "              'uid': '5cd0bc36-4c7e-49b9-999e-f599cee26bea',\n",
       "              'x': array([62641.01456993]),\n",
       "              'y': array([79.6])}],\n",
       "    'layout': {'legend': {'bgcolor': '#FFFFFF', 'font': {'color': '#4D5663'}},\n",
       "               'paper_bgcolor': '#FFFFFF',\n",
       "               'plot_bgcolor': '#FFFFFF',\n",
       "               'showlegend': False,\n",
       "               'title': {'font': {'color': '#4D5663'}, 'text': 'Political and Economic power, per person, 2018.'},\n",
       "               'xaxis': {'gridcolor': '#E1E5ED',\n",
       "                         'showgrid': True,\n",
       "                         'tickfont': {'color': '#4D5663'},\n",
       "                         'title': {'font': {'color': '#4D5663'},\n",
       "                                   'text': ('GDP Per Capita, USD in Log Sca' ... 'bout 21 years behind HK today.')},\n",
       "                         'type': 'log',\n",
       "                         'zerolinecolor': '#E1E5ED'},\n",
       "               'yaxis': {'gridcolor': '#E1E5ED',\n",
       "                         'showgrid': True,\n",
       "                         'tickfont': {'color': '#4D5663'},\n",
       "                         'title': {'font': {'color': '#4D5663'},\n",
       "                                   'text': 'Democracy Index (The Economist, Intelligence Unit)'},\n",
       "                         'zerolinecolor': '#E1E5ED'}}\n",
       "})"
      ]
     },
     "execution_count": 21,
     "metadata": {},
     "output_type": "execute_result"
    }
   ],
   "source": [
    "figure_json = figure.to_plotly_json()\n",
    "\n",
    "special_colors = {\n",
    "    'China': 'crimson',\n",
    "    'Hong Kong': 'navy',\n",
    "}\n",
    "for d in figure_json['data']:\n",
    "    textposition = 'bottom center'\n",
    "    if d['name'] == 'United Kingdom':\n",
    "        textposition = 'top left'\n",
    "    elif d['name'] == 'South Korea':\n",
    "        textposition = 'top center'\n",
    "    elif d['name'] == 'Malaysia':\n",
    "        textposition = 'bottom left'        \n",
    "    d['textposition'] = textposition\n",
    "    \n",
    "    \n",
    "    if d['name'] == 'China' or d['name'] == 'Hong Kong':\n",
    "        d['textfont']['color'] = special_colors[d['name']]\n",
    "        d['textfont']['size'] = 18\n",
    "    \n",
    "    if d['name'] not in countries_to_show_name:\n",
    "        d['text'] = ''\n",
    "figure.update(figure_json)"
   ]
  },
  {
   "cell_type": "code",
   "execution_count": 22,
   "metadata": {},
   "outputs": [
    {
     "data": {
      "application/vnd.plotly.v1+json": {
       "config": {
        "linkText": "Export to plot.ly",
        "plotlyServerURL": "https://plot.ly",
        "showLink": true
       },
       "data": [
        {
         "marker": {
          "color": "rgba(255, 153, 51, 1.0)",
          "line": {
           "width": 1.3
          },
          "opacity": 0.8,
          "size": 12,
          "symbol": "circle"
         },
         "mode": "markers+text",
         "name": "United Arab Emirates",
         "text": "",
         "textfont": {
          "color": "#4D5663"
         },
         "textposition": "bottom center",
         "type": "scatter",
         "uid": "450b77b7-f05c-45f0-a01f-827279786172",
         "x": [
          43004.948646234065
         ],
         "y": [
          27.599999999999998
         ]
        },
        {
         "marker": {
          "color": "rgba(55, 128, 191, 1.0)",
          "line": {
           "width": 1.3
          },
          "opacity": 0.8,
          "size": 12,
          "symbol": "circle"
         },
         "mode": "markers+text",
         "name": "Argentina",
         "text": "",
         "textfont": {
          "color": "#4D5663"
         },
         "textposition": "bottom center",
         "type": "scatter",
         "uid": "fcbb42ad-b00a-4204-a057-1b1ad85a1eaa",
         "x": [
          11652.566289748715
         ],
         "y": [
          70.19999999999999
         ]
        },
        {
         "marker": {
          "color": "rgba(50, 171, 96, 1.0)",
          "line": {
           "width": 1.3
          },
          "opacity": 0.8,
          "size": 12,
          "symbol": "circle"
         },
         "mode": "markers+text",
         "name": "Australia",
         "text": "",
         "textfont": {
          "color": "#4D5663"
         },
         "textposition": "bottom center",
         "type": "scatter",
         "uid": "aa6d6dd9-4113-44ef-9525-2faf007b9a15",
         "x": [
          57305.29901620453
         ],
         "y": [
          90.9
         ]
        },
        {
         "marker": {
          "color": "rgba(128, 0, 128, 1.0)",
          "line": {
           "width": 1.3
          },
          "opacity": 0.8,
          "size": 12,
          "symbol": "circle"
         },
         "mode": "markers+text",
         "name": "Austria",
         "text": "",
         "textfont": {
          "color": "#4D5663"
         },
         "textposition": "bottom center",
         "type": "scatter",
         "uid": "20c16198-1394-414c-b5b9-3099a196fefc",
         "x": [
          51512.90547515342
         ],
         "y": [
          82.89999999999999
         ]
        },
        {
         "marker": {
          "color": "rgba(219, 64, 82, 1.0)",
          "line": {
           "width": 1.3
          },
          "opacity": 0.8,
          "size": 12,
          "symbol": "circle"
         },
         "mode": "markers+text",
         "name": "Belgium",
         "text": "",
         "textfont": {
          "color": "#4D5663"
         },
         "textposition": "bottom center",
         "type": "scatter",
         "uid": "1e28eafb-67e3-4140-a669-830e7726a15c",
         "x": [
          46556.099567147845
         ],
         "y": [
          77.8
         ]
        },
        {
         "marker": {
          "color": "rgba(0, 128, 128, 1.0)",
          "line": {
           "width": 1.3
          },
          "opacity": 0.8,
          "size": 12,
          "symbol": "circle"
         },
         "mode": "markers+text",
         "name": "Bahrain",
         "text": "",
         "textfont": {
          "color": "#4D5663"
         },
         "textposition": "bottom center",
         "type": "scatter",
         "uid": "514ef6b8-8c1e-458f-a850-ad71c050ab5e",
         "x": [
          24050.757505395646
         ],
         "y": [
          27.1
         ]
        },
        {
         "marker": {
          "color": "rgba(255, 255, 51, 1.0)",
          "line": {
           "width": 1.3
          },
          "opacity": 0.8,
          "size": 12,
          "symbol": "circle"
         },
         "mode": "markers+text",
         "name": "Canada",
         "text": "",
         "textfont": {
          "color": "#4D5663"
         },
         "textposition": "bottom center",
         "type": "scatter",
         "uid": "ecc31342-d918-4ec4-bd63-8aa484e90b81",
         "x": [
          46210.547622788254
         ],
         "y": [
          91.5
         ]
        },
        {
         "marker": {
          "color": "rgba(128, 128, 0, 1.0)",
          "line": {
           "width": 1.3
          },
          "opacity": 0.8,
          "size": 12,
          "symbol": "circle"
         },
         "mode": "markers+text",
         "name": "Switzerland",
         "text": "",
         "textfont": {
          "color": "#4D5663"
         },
         "textposition": "bottom center",
         "type": "scatter",
         "uid": "c1773157-5a49-447d-b597-5ae7725147fb",
         "x": [
          82838.92944457612
         ],
         "y": [
          90.3
         ]
        },
        {
         "marker": {
          "color": "rgba(251, 128, 114, 1.0)",
          "line": {
           "width": 1.3
          },
          "opacity": 0.8,
          "size": 12,
          "symbol": "circle"
         },
         "mode": "markers+text",
         "name": "Chile",
         "text": "",
         "textfont": {
          "color": "#4D5663"
         },
         "textposition": "bottom center",
         "type": "scatter",
         "uid": "dd1ea833-5a8a-48c8-b80c-2cef06028274",
         "x": [
          15923.359061989322
         ],
         "y": [
          79.7
         ]
        },
        {
         "marker": {
          "color": "rgba(128, 177, 211, 1.0)",
          "line": {
           "width": 1.3
          },
          "opacity": 0.8,
          "size": 12,
          "symbol": "circle"
         },
         "mode": "markers+text",
         "name": "China",
         "text": [
          "China"
         ],
         "textfont": {
          "color": "crimson",
          "size": 18
         },
         "textposition": "bottom center",
         "type": "scatter",
         "uid": "1d0354ce-637f-4480-bafa-18a205ea0832",
         "x": [
          9770.847087833143
         ],
         "y": [
          33.199999999999996
         ]
        },
        {
         "marker": {
          "color": "rgba(128, 177, 211, 0.8999999999999999)",
          "line": {
           "width": 1.3
          },
          "opacity": 0.8,
          "size": 12,
          "symbol": "circle"
         },
         "mode": "markers+text",
         "name": "Costa Rica",
         "text": "",
         "textfont": {
          "color": "#4D5663"
         },
         "textposition": "bottom center",
         "type": "scatter",
         "uid": "7a786884-ddfc-4834-8475-c64dc07642c6",
         "x": [
          12026.547533733288
         ],
         "y": [
          80.7
         ]
        },
        {
         "marker": {
          "color": "rgba(255, 153, 51, 0.8999999999999999)",
          "line": {
           "width": 1.3
          },
          "opacity": 0.8,
          "size": 12,
          "symbol": "circle"
         },
         "mode": "markers+text",
         "name": "Cyprus",
         "text": "",
         "textfont": {
          "color": "#4D5663"
         },
         "textposition": "bottom center",
         "type": "scatter",
         "uid": "bc9c8cd0-d09b-4143-a05d-3588380c2f91",
         "x": [
          28159.3016999455
         ],
         "y": [
          75.9
         ]
        },
        {
         "marker": {
          "color": "rgba(55, 128, 191, 0.8999999999999999)",
          "line": {
           "width": 1.3
          },
          "opacity": 0.8,
          "size": 12,
          "symbol": "circle"
         },
         "mode": "markers+text",
         "name": "Czech Republic",
         "text": "",
         "textfont": {
          "color": "#4D5663"
         },
         "textposition": "bottom center",
         "type": "scatter",
         "uid": "d9a2c394-1e5e-4abf-9f91-e70665e0d439",
         "x": [
          23078.57348656913
         ],
         "y": [
          76.9
         ]
        },
        {
         "marker": {
          "color": "rgba(50, 171, 96, 0.8999999999999999)",
          "line": {
           "width": 1.3
          },
          "opacity": 0.8,
          "size": 12,
          "symbol": "circle"
         },
         "mode": "markers+text",
         "name": "Germany",
         "text": [
          "Germany"
         ],
         "textfont": {
          "color": "#4D5663"
         },
         "textposition": "bottom center",
         "type": "scatter",
         "uid": "fddbabae-db26-4dce-956e-81a9c47f53b1",
         "x": [
          48195.57990441158
         ],
         "y": [
          86.8
         ]
        },
        {
         "marker": {
          "color": "rgba(128, 0, 128, 0.8999999999999999)",
          "line": {
           "width": 1.3
          },
          "opacity": 0.8,
          "size": 12,
          "symbol": "circle"
         },
         "mode": "markers+text",
         "name": "Denmark",
         "text": "",
         "textfont": {
          "color": "#4D5663"
         },
         "textposition": "bottom center",
         "type": "scatter",
         "uid": "ea38903f-2d6c-4e79-b433-2d407c9c0b58",
         "x": [
          60726.46653515095
         ],
         "y": [
          92.2
         ]
        },
        {
         "marker": {
          "color": "rgba(219, 64, 82, 0.8999999999999999)",
          "line": {
           "width": 1.3
          },
          "opacity": 0.8,
          "size": 12,
          "symbol": "circle"
         },
         "mode": "markers+text",
         "name": "Spain",
         "text": "",
         "textfont": {
          "color": "#4D5663"
         },
         "textposition": "bottom center",
         "type": "scatter",
         "uid": "33b0dc9d-1413-4cff-9334-403f7b9b1a3d",
         "x": [
          30523.85923904735
         ],
         "y": [
          80.8
         ]
        },
        {
         "marker": {
          "color": "rgba(0, 128, 128, 0.8999999999999999)",
          "line": {
           "width": 1.3
          },
          "opacity": 0.8,
          "size": 12,
          "symbol": "circle"
         },
         "mode": "markers+text",
         "name": "Estonia",
         "text": "",
         "textfont": {
          "color": "#4D5663"
         },
         "textposition": "bottom center",
         "type": "scatter",
         "uid": "06da33c6-cf7a-4457-8e83-3440d2deecba",
         "x": [
          22927.744417419308
         ],
         "y": [
          79.7
         ]
        },
        {
         "marker": {
          "color": "rgba(255, 255, 51, 0.8999999999999999)",
          "line": {
           "width": 1.3
          },
          "opacity": 0.8,
          "size": 12,
          "symbol": "circle"
         },
         "mode": "markers+text",
         "name": "Finland",
         "text": "",
         "textfont": {
          "color": "#4D5663"
         },
         "textposition": "bottom center",
         "type": "scatter",
         "uid": "d57f34b2-12e9-4414-a223-91f3d7392d19",
         "x": [
          49648.149255483084
         ],
         "y": [
          91.4
         ]
        },
        {
         "marker": {
          "color": "rgba(128, 128, 0, 0.8999999999999999)",
          "line": {
           "width": 1.3
          },
          "opacity": 0.8,
          "size": 12,
          "symbol": "circle"
         },
         "mode": "markers+text",
         "name": "France",
         "text": "",
         "textfont": {
          "color": "#4D5663"
         },
         "textposition": "bottom center",
         "type": "scatter",
         "uid": "33bae856-5061-432d-b38b-ba0d497a6031",
         "x": [
          41463.64402270341
         ],
         "y": [
          78
         ]
        },
        {
         "marker": {
          "color": "rgba(251, 128, 114, 0.8999999999999999)",
          "line": {
           "width": 1.3
          },
          "opacity": 0.8,
          "size": 12,
          "symbol": "circle"
         },
         "mode": "markers+text",
         "name": "United Kingdom",
         "text": [
          "United Kingdom"
         ],
         "textfont": {
          "color": "#4D5663"
         },
         "textposition": "top left",
         "type": "scatter",
         "uid": "f7070883-0ba1-4edc-98e4-19a11aae4518",
         "x": [
          42491.36443509728
         ],
         "y": [
          85.3
         ]
        },
        {
         "marker": {
          "color": "rgba(251, 128, 114, 0.7999999999999998)",
          "line": {
           "width": 1.3
          },
          "opacity": 0.8,
          "size": 12,
          "symbol": "circle"
         },
         "mode": "markers+text",
         "name": "Equatorial Guinea",
         "text": "",
         "textfont": {
          "color": "#4D5663"
         },
         "textposition": "bottom center",
         "type": "scatter",
         "uid": "77a09fd6-4ee2-4aad-8194-36b7ef017cb1",
         "x": [
          10173.963020188008
         ],
         "y": [
          19.2
         ]
        },
        {
         "marker": {
          "color": "rgba(128, 177, 211, 0.7999999999999998)",
          "line": {
           "width": 1.3
          },
          "opacity": 0.8,
          "size": 12,
          "symbol": "circle"
         },
         "mode": "markers+text",
         "name": "Greece",
         "text": "",
         "textfont": {
          "color": "#4D5663"
         },
         "textposition": "bottom center",
         "type": "scatter",
         "uid": "0203594e-5474-4b98-96d6-6f8b4feba0d5",
         "x": [
          20324.25356414775
         ],
         "y": [
          72.9
         ]
        },
        {
         "marker": {
          "color": "rgba(255, 153, 51, 0.7999999999999998)",
          "line": {
           "width": 1.3
          },
          "opacity": 0.8,
          "size": 12,
          "symbol": "circle"
         },
         "mode": "markers+text",
         "name": "Hong Kong",
         "text": [
          "Hong Kong"
         ],
         "textfont": {
          "color": "navy",
          "size": 18
         },
         "textposition": "bottom center",
         "type": "scatter",
         "uid": "763bfd20-4680-4c5c-b291-1d2a9a49cbe6",
         "x": [
          48717.291214253804
         ],
         "y": [
          61.5
         ]
        },
        {
         "marker": {
          "color": "rgba(55, 128, 191, 0.7999999999999998)",
          "line": {
           "width": 1.3
          },
          "opacity": 0.8,
          "size": 12,
          "symbol": "circle"
         },
         "mode": "markers+text",
         "name": "Croatia",
         "text": "",
         "textfont": {
          "color": "#4D5663"
         },
         "textposition": "bottom center",
         "type": "scatter",
         "uid": "7b942bf5-96cd-40b0-855c-cbeb14973bd4",
         "x": [
          14869.090682304484
         ],
         "y": [
          65.7
         ]
        },
        {
         "marker": {
          "color": "rgba(50, 171, 96, 0.7999999999999998)",
          "line": {
           "width": 1.3
          },
          "opacity": 0.8,
          "size": 12,
          "symbol": "circle"
         },
         "mode": "markers+text",
         "name": "Hungary",
         "text": "",
         "textfont": {
          "color": "#4D5663"
         },
         "textposition": "bottom center",
         "type": "scatter",
         "uid": "c5d1af3c-99a2-4267-a837-80093a083988",
         "x": [
          15938.836796555373
         ],
         "y": [
          66.3
         ]
        },
        {
         "marker": {
          "color": "rgba(128, 0, 128, 0.7999999999999998)",
          "line": {
           "width": 1.3
          },
          "opacity": 0.8,
          "size": 12,
          "symbol": "circle"
         },
         "mode": "markers+text",
         "name": "Ireland",
         "text": "",
         "textfont": {
          "color": "#4D5663"
         },
         "textposition": "bottom center",
         "type": "scatter",
         "uid": "2dadefbb-10c5-4000-aa09-84bf840a9de6",
         "x": [
          78806.431996268
         ],
         "y": [
          91.5
         ]
        },
        {
         "marker": {
          "color": "rgba(219, 64, 82, 0.7999999999999998)",
          "line": {
           "width": 1.3
          },
          "opacity": 0.8,
          "size": 12,
          "symbol": "circle"
         },
         "mode": "markers+text",
         "name": "Iceland",
         "text": "",
         "textfont": {
          "color": "#4D5663"
         },
         "textposition": "bottom center",
         "type": "scatter",
         "uid": "52e8bd5f-109a-41fd-ad4d-a140fc9d57d5",
         "x": [
          73201.70254998512
         ],
         "y": [
          95.8
         ]
        },
        {
         "marker": {
          "color": "rgba(0, 128, 128, 0.7999999999999998)",
          "line": {
           "width": 1.3
          },
          "opacity": 0.8,
          "size": 12,
          "symbol": "circle"
         },
         "mode": "markers+text",
         "name": "Israel",
         "text": "",
         "textfont": {
          "color": "#4D5663"
         },
         "textposition": "bottom center",
         "type": "scatter",
         "uid": "c214e329-e53e-4d37-b6e4-b43118b62d5c",
         "x": [
          41613.99808217575
         ],
         "y": [
          77.9
         ]
        },
        {
         "marker": {
          "color": "rgba(255, 255, 51, 0.7999999999999998)",
          "line": {
           "width": 1.3
          },
          "opacity": 0.8,
          "size": 12,
          "symbol": "circle"
         },
         "mode": "markers+text",
         "name": "Italy",
         "text": "",
         "textfont": {
          "color": "#4D5663"
         },
         "textposition": "bottom center",
         "type": "scatter",
         "uid": "181fdb99-d2a7-49ec-b153-45ac86ebb5c8",
         "x": [
          34318.3511241724
         ],
         "y": [
          77.1
         ]
        },
        {
         "marker": {
          "color": "rgba(128, 128, 0, 0.7999999999999998)",
          "line": {
           "width": 1.3
          },
          "opacity": 0.8,
          "size": 12,
          "symbol": "circle"
         },
         "mode": "markers+text",
         "name": "Japan",
         "text": [
          "Japan"
         ],
         "textfont": {
          "color": "#4D5663"
         },
         "textposition": "bottom center",
         "type": "scatter",
         "uid": "74b9be02-a79f-4efb-8c65-0a8bd821022b",
         "x": [
          39286.73764880077
         ],
         "y": [
          79.9
         ]
        },
        {
         "marker": {
          "color": "rgba(128, 128, 0, 0.7)",
          "line": {
           "width": 1.3
          },
          "opacity": 0.8,
          "size": 12,
          "symbol": "circle"
         },
         "mode": "markers+text",
         "name": "South Korea",
         "text": [
          "South Korea"
         ],
         "textfont": {
          "color": "#4D5663"
         },
         "textposition": "top center",
         "type": "scatter",
         "uid": "f9b6e2bc-647a-4742-b485-f228d606d314",
         "x": [
          31362.751472940006
         ],
         "y": [
          80
         ]
        },
        {
         "marker": {
          "color": "rgba(251, 128, 114, 0.7)",
          "line": {
           "width": 1.3
          },
          "opacity": 0.8,
          "size": 12,
          "symbol": "circle"
         },
         "mode": "markers+text",
         "name": "Kuwait",
         "text": "",
         "textfont": {
          "color": "#4D5663"
         },
         "textposition": "bottom center",
         "type": "scatter",
         "uid": "d2e019ab-920b-45ae-a701-5c4183eb4b20",
         "x": [
          34243.95290985914
         ],
         "y": [
          38.5
         ]
        },
        {
         "marker": {
          "color": "rgba(128, 177, 211, 0.7)",
          "line": {
           "width": 1.3
          },
          "opacity": 0.8,
          "size": 12,
          "symbol": "circle"
         },
         "mode": "markers+text",
         "name": "Lithuania",
         "text": "",
         "textfont": {
          "color": "#4D5663"
         },
         "textposition": "bottom center",
         "type": "scatter",
         "uid": "a2e4d1a4-c8f2-465d-a1e7-e598facac608",
         "x": [
          19089.70750565638
         ],
         "y": [
          75
         ]
        },
        {
         "marker": {
          "color": "rgba(255, 153, 51, 0.7)",
          "line": {
           "width": 1.3
          },
          "opacity": 0.8,
          "size": 12,
          "symbol": "circle"
         },
         "mode": "markers+text",
         "name": "Luxembourg",
         "text": "",
         "textfont": {
          "color": "#4D5663"
         },
         "textposition": "bottom center",
         "type": "scatter",
         "uid": "21eaba95-96f0-41e0-a713-b2ff70bc7c5b",
         "x": [
          114340.49874177281
         ],
         "y": [
          88.10000000000001
         ]
        },
        {
         "marker": {
          "color": "rgba(55, 128, 191, 0.7)",
          "line": {
           "width": 1.3
          },
          "opacity": 0.8,
          "size": 12,
          "symbol": "circle"
         },
         "mode": "markers+text",
         "name": "Latvia",
         "text": "",
         "textfont": {
          "color": "#4D5663"
         },
         "textposition": "bottom center",
         "type": "scatter",
         "uid": "7cd905e3-e005-4270-a41f-5619301b5855",
         "x": [
          18088.92725186742
         ],
         "y": [
          73.8
         ]
        },
        {
         "marker": {
          "color": "rgba(50, 171, 96, 0.7)",
          "line": {
           "width": 1.3
          },
          "opacity": 0.8,
          "size": 12,
          "symbol": "circle"
         },
         "mode": "markers+text",
         "name": "Malta",
         "text": "",
         "textfont": {
          "color": "#4D5663"
         },
         "textposition": "bottom center",
         "type": "scatter",
         "uid": "69c100eb-ba1d-4927-8583-56b62e21dcd3",
         "x": [
          30074.741185095925
         ],
         "y": [
          82.10000000000001
         ]
        },
        {
         "marker": {
          "color": "rgba(128, 0, 128, 0.7)",
          "line": {
           "width": 1.3
          },
          "opacity": 0.8,
          "size": 12,
          "symbol": "circle"
         },
         "mode": "markers+text",
         "name": "Mauritius",
         "text": "",
         "textfont": {
          "color": "#4D5663"
         },
         "textposition": "bottom center",
         "type": "scatter",
         "uid": "e84228d9-9a47-44f1-9940-bf709e9b8077",
         "x": [
          11238.690394896143
         ],
         "y": [
          82.2
         ]
        },
        {
         "marker": {
          "color": "rgba(219, 64, 82, 0.7)",
          "line": {
           "width": 1.3
          },
          "opacity": 0.8,
          "size": 12,
          "symbol": "circle"
         },
         "mode": "markers+text",
         "name": "Malaysia",
         "text": [
          "Malaysia"
         ],
         "textfont": {
          "color": "#4D5663"
         },
         "textposition": "bottom left",
         "type": "scatter",
         "uid": "c9c54a9e-693f-4a9b-b2ed-72534689d54f",
         "x": [
          11238.957372530129
         ],
         "y": [
          68.8
         ]
        },
        {
         "marker": {
          "color": "rgba(0, 128, 128, 0.7)",
          "line": {
           "width": 1.3
          },
          "opacity": 0.8,
          "size": 12,
          "symbol": "circle"
         },
         "mode": "markers+text",
         "name": "Netherlands",
         "text": "",
         "textfont": {
          "color": "#4D5663"
         },
         "textposition": "bottom center",
         "type": "scatter",
         "uid": "2575fd56-b85c-49f5-8513-3c70a7904cee",
         "x": [
          53024.059213053115
         ],
         "y": [
          88.9
         ]
        },
        {
         "marker": {
          "color": "rgba(255, 255, 51, 0.7)",
          "line": {
           "width": 1.3
          },
          "opacity": 0.8,
          "size": 12,
          "symbol": "circle"
         },
         "mode": "markers+text",
         "name": "Norway",
         "text": "",
         "textfont": {
          "color": "#4D5663"
         },
         "textposition": "bottom center",
         "type": "scatter",
         "uid": "c7268c82-efd8-4dc6-8671-d8974ae77625",
         "x": [
          81807.19803867598
         ],
         "y": [
          98.69999999999999
         ]
        },
        {
         "marker": {
          "color": "rgba(255, 255, 51, 0.5999999999999999)",
          "line": {
           "width": 1.3
          },
          "opacity": 0.8,
          "size": 12,
          "symbol": "circle"
         },
         "mode": "markers+text",
         "name": "New Zealand",
         "text": "",
         "textfont": {
          "color": "#4D5663"
         },
         "textposition": "bottom center",
         "type": "scatter",
         "uid": "7af56b40-d1d4-4990-8f05-d4ddb36b5b3f",
         "x": [
          41966.00918463738
         ],
         "y": [
          92.6
         ]
        },
        {
         "marker": {
          "color": "rgba(128, 128, 0, 0.5999999999999999)",
          "line": {
           "width": 1.3
          },
          "opacity": 0.8,
          "size": 12,
          "symbol": "circle"
         },
         "mode": "markers+text",
         "name": "Oman",
         "text": "",
         "textfont": {
          "color": "#4D5663"
         },
         "textposition": "bottom center",
         "type": "scatter",
         "uid": "8939f50e-2632-47c4-916f-cad40c51c07e",
         "x": [
          16418.92692831584
         ],
         "y": [
          30.4
         ]
        },
        {
         "marker": {
          "color": "rgba(251, 128, 114, 0.5999999999999999)",
          "line": {
           "width": 1.3
          },
          "opacity": 0.8,
          "size": 12,
          "symbol": "circle"
         },
         "mode": "markers+text",
         "name": "Panama",
         "text": "",
         "textfont": {
          "color": "#4D5663"
         },
         "textposition": "bottom center",
         "type": "scatter",
         "uid": "95a75a17-b8e9-4472-93bb-7ed3b238c728",
         "x": [
          15575.07254829151
         ],
         "y": [
          70.5
         ]
        },
        {
         "marker": {
          "color": "rgba(128, 177, 211, 0.5999999999999999)",
          "line": {
           "width": 1.3
          },
          "opacity": 0.8,
          "size": 12,
          "symbol": "circle"
         },
         "mode": "markers+text",
         "name": "Poland",
         "text": "",
         "textfont": {
          "color": "#4D5663"
         },
         "textposition": "bottom center",
         "type": "scatter",
         "uid": "4f717c9f-12fb-4cdf-986f-963f36245f06",
         "x": [
          15424.046025445443
         ],
         "y": [
          66.7
         ]
        },
        {
         "marker": {
          "color": "rgba(255, 153, 51, 0.5999999999999999)",
          "line": {
           "width": 1.3
          },
          "opacity": 0.8,
          "size": 12,
          "symbol": "circle"
         },
         "mode": "markers+text",
         "name": "Portugal",
         "text": "",
         "textfont": {
          "color": "#4D5663"
         },
         "textposition": "bottom center",
         "type": "scatter",
         "uid": "3932e237-a58c-4d42-b9ab-4017e893f533",
         "x": [
          23145.73495625951
         ],
         "y": [
          78.4
         ]
        },
        {
         "marker": {
          "color": "rgba(55, 128, 191, 0.5999999999999999)",
          "line": {
           "width": 1.3
          },
          "opacity": 0.8,
          "size": 12,
          "symbol": "circle"
         },
         "mode": "markers+text",
         "name": "Qatar",
         "text": [
          "Qatar"
         ],
         "textfont": {
          "color": "#4D5663"
         },
         "textposition": "bottom center",
         "type": "scatter",
         "uid": "ef243fa6-7ecd-4890-9030-c9c41a608cec",
         "x": [
          69026.4688025751
         ],
         "y": [
          31.9
         ]
        },
        {
         "marker": {
          "color": "rgba(50, 171, 96, 0.5999999999999999)",
          "line": {
           "width": 1.3
          },
          "opacity": 0.8,
          "size": 12,
          "symbol": "circle"
         },
         "mode": "markers+text",
         "name": "Romania",
         "text": "",
         "textfont": {
          "color": "#4D5663"
         },
         "textposition": "bottom center",
         "type": "scatter",
         "uid": "c38ea6de-5c4d-45f9-8072-8b9a82ef291c",
         "x": [
          12301.186403430165
         ],
         "y": [
          63.8
         ]
        },
        {
         "marker": {
          "color": "rgba(128, 0, 128, 0.5999999999999999)",
          "line": {
           "width": 1.3
          },
          "opacity": 0.8,
          "size": 12,
          "symbol": "circle"
         },
         "mode": "markers+text",
         "name": "Russia",
         "text": [
          "Russia"
         ],
         "textfont": {
          "color": "#4D5663"
         },
         "textposition": "bottom center",
         "type": "scatter",
         "uid": "4f4d97f4-857a-4310-a6c3-59ff6feaf0be",
         "x": [
          11288.8724435206
         ],
         "y": [
          29.4
         ]
        },
        {
         "marker": {
          "color": "rgba(219, 64, 82, 0.5999999999999999)",
          "line": {
           "width": 1.3
          },
          "opacity": 0.8,
          "size": 12,
          "symbol": "circle"
         },
         "mode": "markers+text",
         "name": "Saudi Arabia",
         "text": "",
         "textfont": {
          "color": "#4D5663"
         },
         "textposition": "bottom center",
         "type": "scatter",
         "uid": "b097029c-ca88-412f-982e-6249e74dc1be",
         "x": [
          23219.13048310333
         ],
         "y": [
          19.3
         ]
        },
        {
         "marker": {
          "color": "rgba(0, 128, 128, 0.5999999999999999)",
          "line": {
           "width": 1.3
          },
          "opacity": 0.8,
          "size": 12,
          "symbol": "circle"
         },
         "mode": "markers+text",
         "name": "Singapore",
         "text": [
          "Singapore"
         ],
         "textfont": {
          "color": "#4D5663"
         },
         "textposition": "bottom center",
         "type": "scatter",
         "uid": "aa3deed0-552a-47cd-9a7d-48cce87bb5cd",
         "x": [
          64581.94401839536
         ],
         "y": [
          63.8
         ]
        },
        {
         "marker": {
          "color": "rgba(0, 128, 128, 0.49999999999999983)",
          "line": {
           "width": 1.3
          },
          "opacity": 0.8,
          "size": 12,
          "symbol": "circle"
         },
         "mode": "markers+text",
         "name": "Slovakia",
         "text": "",
         "textfont": {
          "color": "#4D5663"
         },
         "textposition": "bottom center",
         "type": "scatter",
         "uid": "df0dfff8-6e31-4a40-b35e-f12de9efb6f0",
         "x": [
          19546.901902851343
         ],
         "y": [
          71
         ]
        },
        {
         "marker": {
          "color": "rgba(255, 255, 51, 0.49999999999999983)",
          "line": {
           "width": 1.3
          },
          "opacity": 0.8,
          "size": 12,
          "symbol": "circle"
         },
         "mode": "markers+text",
         "name": "Slovenia",
         "text": "",
         "textfont": {
          "color": "#4D5663"
         },
         "textposition": "bottom center",
         "type": "scatter",
         "uid": "9009bebc-1d5d-418a-b9ce-db76926105ff",
         "x": [
          26234.022896250564
         ],
         "y": [
          75
         ]
        },
        {
         "marker": {
          "color": "rgba(128, 128, 0, 0.49999999999999983)",
          "line": {
           "width": 1.3
          },
          "opacity": 0.8,
          "size": 12,
          "symbol": "circle"
         },
         "mode": "markers+text",
         "name": "Sweden",
         "text": "",
         "textfont": {
          "color": "#4D5663"
         },
         "textposition": "bottom center",
         "type": "scatter",
         "uid": "c2de62d1-2b1a-4e9d-aa91-cef9cdecc412",
         "x": [
          54111.97217236705
         ],
         "y": [
          93.9
         ]
        },
        {
         "marker": {
          "color": "rgba(251, 128, 114, 0.49999999999999983)",
          "line": {
           "width": 1.3
          },
          "opacity": 0.8,
          "size": 12,
          "symbol": "circle"
         },
         "mode": "markers+text",
         "name": "Trinidad and Tobago",
         "text": "",
         "textfont": {
          "color": "#4D5663"
         },
         "textposition": "bottom center",
         "type": "scatter",
         "uid": "09921941-3afb-4fad-9781-a47f8283e965",
         "x": [
          16843.701611713033
         ],
         "y": [
          71.6
         ]
        },
        {
         "marker": {
          "color": "rgba(128, 177, 211, 0.49999999999999983)",
          "line": {
           "width": 1.3
          },
          "opacity": 0.8,
          "size": 12,
          "symbol": "circle"
         },
         "mode": "markers+text",
         "name": "Uruguay",
         "text": "",
         "textfont": {
          "color": "#4D5663"
         },
         "textposition": "bottom center",
         "type": "scatter",
         "uid": "91b1e0eb-68b5-4fd4-ae63-70126d0544d7",
         "x": [
          17277.97011054961
         ],
         "y": [
          83.80000000000001
         ]
        },
        {
         "marker": {
          "color": "rgba(255, 153, 51, 0.49999999999999983)",
          "line": {
           "width": 1.3
          },
          "opacity": 0.8,
          "size": 12,
          "symbol": "circle"
         },
         "mode": "markers+text",
         "name": "United States",
         "text": [
          "United States"
         ],
         "textfont": {
          "color": "#4D5663"
         },
         "textposition": "bottom center",
         "type": "scatter",
         "uid": "5cd0bc36-4c7e-49b9-999e-f599cee26bea",
         "x": [
          62641.01456992813
         ],
         "y": [
          79.6
         ]
        }
       ],
       "layout": {
        "legend": {
         "bgcolor": "#FFFFFF",
         "font": {
          "color": "#4D5663"
         }
        },
        "paper_bgcolor": "#FFFFFF",
        "plot_bgcolor": "#FFFFFF",
        "showlegend": false,
        "title": {
         "font": {
          "color": "#4D5663"
         },
         "text": "Political and Economic power, per person, 2018."
        },
        "xaxis": {
         "gridcolor": "#E1E5ED",
         "showgrid": true,
         "tickfont": {
          "color": "#4D5663"
         },
         "title": {
          "font": {
           "color": "#4D5663"
          },
          "text": "GDP Per Capita, USD in Log Scale (World Bank)<br> Optimistically assuming China grows at 8% per year, China is about 21 years behind HK today."
         },
         "type": "log",
         "zerolinecolor": "#E1E5ED"
        },
        "yaxis": {
         "gridcolor": "#E1E5ED",
         "showgrid": true,
         "tickfont": {
          "color": "#4D5663"
         },
         "title": {
          "font": {
           "color": "#4D5663"
          },
          "text": "Democracy Index (The Economist, Intelligence Unit)"
         },
         "zerolinecolor": "#E1E5ED"
        }
       }
      },
      "text/html": [
       "<div>\n",
       "        \n",
       "        \n",
       "            <div id=\"76059106-400a-4272-910e-835800aae90b\" class=\"plotly-graph-div\" style=\"height:525px; width:100%;\"></div>\n",
       "            <script type=\"text/javascript\">\n",
       "                require([\"plotly\"], function(Plotly) {\n",
       "                    window.PLOTLYENV=window.PLOTLYENV || {};\n",
       "                    window.PLOTLYENV.BASE_URL='https://plot.ly';\n",
       "                    \n",
       "                if (document.getElementById(\"76059106-400a-4272-910e-835800aae90b\")) {\n",
       "                    Plotly.newPlot(\n",
       "                        '76059106-400a-4272-910e-835800aae90b',\n",
       "                        [{\"marker\": {\"color\": \"rgba(255, 153, 51, 1.0)\", \"line\": {\"width\": 1.3}, \"opacity\": 0.8, \"size\": 12, \"symbol\": \"circle\"}, \"mode\": \"markers+text\", \"name\": \"United Arab Emirates\", \"text\": \"\", \"textfont\": {\"color\": \"#4D5663\"}, \"textposition\": \"bottom center\", \"type\": \"scatter\", \"uid\": \"450b77b7-f05c-45f0-a01f-827279786172\", \"x\": [43004.948646234065], \"y\": [27.599999999999998]}, {\"marker\": {\"color\": \"rgba(55, 128, 191, 1.0)\", \"line\": {\"width\": 1.3}, \"opacity\": 0.8, \"size\": 12, \"symbol\": \"circle\"}, \"mode\": \"markers+text\", \"name\": \"Argentina\", \"text\": \"\", \"textfont\": {\"color\": \"#4D5663\"}, \"textposition\": \"bottom center\", \"type\": \"scatter\", \"uid\": \"fcbb42ad-b00a-4204-a057-1b1ad85a1eaa\", \"x\": [11652.566289748715], \"y\": [70.19999999999999]}, {\"marker\": {\"color\": \"rgba(50, 171, 96, 1.0)\", \"line\": {\"width\": 1.3}, \"opacity\": 0.8, \"size\": 12, \"symbol\": \"circle\"}, \"mode\": \"markers+text\", \"name\": \"Australia\", \"text\": \"\", \"textfont\": {\"color\": \"#4D5663\"}, \"textposition\": \"bottom center\", \"type\": \"scatter\", \"uid\": \"aa6d6dd9-4113-44ef-9525-2faf007b9a15\", \"x\": [57305.29901620453], \"y\": [90.9]}, {\"marker\": {\"color\": \"rgba(128, 0, 128, 1.0)\", \"line\": {\"width\": 1.3}, \"opacity\": 0.8, \"size\": 12, \"symbol\": \"circle\"}, \"mode\": \"markers+text\", \"name\": \"Austria\", \"text\": \"\", \"textfont\": {\"color\": \"#4D5663\"}, \"textposition\": \"bottom center\", \"type\": \"scatter\", \"uid\": \"20c16198-1394-414c-b5b9-3099a196fefc\", \"x\": [51512.90547515342], \"y\": [82.89999999999999]}, {\"marker\": {\"color\": \"rgba(219, 64, 82, 1.0)\", \"line\": {\"width\": 1.3}, \"opacity\": 0.8, \"size\": 12, \"symbol\": \"circle\"}, \"mode\": \"markers+text\", \"name\": \"Belgium\", \"text\": \"\", \"textfont\": {\"color\": \"#4D5663\"}, \"textposition\": \"bottom center\", \"type\": \"scatter\", \"uid\": \"1e28eafb-67e3-4140-a669-830e7726a15c\", \"x\": [46556.099567147845], \"y\": [77.8]}, {\"marker\": {\"color\": \"rgba(0, 128, 128, 1.0)\", \"line\": {\"width\": 1.3}, \"opacity\": 0.8, \"size\": 12, \"symbol\": \"circle\"}, \"mode\": \"markers+text\", \"name\": \"Bahrain\", \"text\": \"\", \"textfont\": {\"color\": \"#4D5663\"}, \"textposition\": \"bottom center\", \"type\": \"scatter\", \"uid\": \"514ef6b8-8c1e-458f-a850-ad71c050ab5e\", \"x\": [24050.757505395646], \"y\": [27.1]}, {\"marker\": {\"color\": \"rgba(255, 255, 51, 1.0)\", \"line\": {\"width\": 1.3}, \"opacity\": 0.8, \"size\": 12, \"symbol\": \"circle\"}, \"mode\": \"markers+text\", \"name\": \"Canada\", \"text\": \"\", \"textfont\": {\"color\": \"#4D5663\"}, \"textposition\": \"bottom center\", \"type\": \"scatter\", \"uid\": \"ecc31342-d918-4ec4-bd63-8aa484e90b81\", \"x\": [46210.547622788254], \"y\": [91.5]}, {\"marker\": {\"color\": \"rgba(128, 128, 0, 1.0)\", \"line\": {\"width\": 1.3}, \"opacity\": 0.8, \"size\": 12, \"symbol\": \"circle\"}, \"mode\": \"markers+text\", \"name\": \"Switzerland\", \"text\": \"\", \"textfont\": {\"color\": \"#4D5663\"}, \"textposition\": \"bottom center\", \"type\": \"scatter\", \"uid\": \"c1773157-5a49-447d-b597-5ae7725147fb\", \"x\": [82838.92944457612], \"y\": [90.3]}, {\"marker\": {\"color\": \"rgba(251, 128, 114, 1.0)\", \"line\": {\"width\": 1.3}, \"opacity\": 0.8, \"size\": 12, \"symbol\": \"circle\"}, \"mode\": \"markers+text\", \"name\": \"Chile\", \"text\": \"\", \"textfont\": {\"color\": \"#4D5663\"}, \"textposition\": \"bottom center\", \"type\": \"scatter\", \"uid\": \"dd1ea833-5a8a-48c8-b80c-2cef06028274\", \"x\": [15923.359061989322], \"y\": [79.7]}, {\"marker\": {\"color\": \"rgba(128, 177, 211, 1.0)\", \"line\": {\"width\": 1.3}, \"opacity\": 0.8, \"size\": 12, \"symbol\": \"circle\"}, \"mode\": \"markers+text\", \"name\": \"China\", \"text\": [\"China\"], \"textfont\": {\"color\": \"crimson\", \"size\": 18}, \"textposition\": \"bottom center\", \"type\": \"scatter\", \"uid\": \"1d0354ce-637f-4480-bafa-18a205ea0832\", \"x\": [9770.847087833143], \"y\": [33.199999999999996]}, {\"marker\": {\"color\": \"rgba(128, 177, 211, 0.8999999999999999)\", \"line\": {\"width\": 1.3}, \"opacity\": 0.8, \"size\": 12, \"symbol\": \"circle\"}, \"mode\": \"markers+text\", \"name\": \"Costa Rica\", \"text\": \"\", \"textfont\": {\"color\": \"#4D5663\"}, \"textposition\": \"bottom center\", \"type\": \"scatter\", \"uid\": \"7a786884-ddfc-4834-8475-c64dc07642c6\", \"x\": [12026.547533733288], \"y\": [80.7]}, {\"marker\": {\"color\": \"rgba(255, 153, 51, 0.8999999999999999)\", \"line\": {\"width\": 1.3}, \"opacity\": 0.8, \"size\": 12, \"symbol\": \"circle\"}, \"mode\": \"markers+text\", \"name\": \"Cyprus\", \"text\": \"\", \"textfont\": {\"color\": \"#4D5663\"}, \"textposition\": \"bottom center\", \"type\": \"scatter\", \"uid\": \"bc9c8cd0-d09b-4143-a05d-3588380c2f91\", \"x\": [28159.3016999455], \"y\": [75.9]}, {\"marker\": {\"color\": \"rgba(55, 128, 191, 0.8999999999999999)\", \"line\": {\"width\": 1.3}, \"opacity\": 0.8, \"size\": 12, \"symbol\": \"circle\"}, \"mode\": \"markers+text\", \"name\": \"Czech Republic\", \"text\": \"\", \"textfont\": {\"color\": \"#4D5663\"}, \"textposition\": \"bottom center\", \"type\": \"scatter\", \"uid\": \"d9a2c394-1e5e-4abf-9f91-e70665e0d439\", \"x\": [23078.57348656913], \"y\": [76.9]}, {\"marker\": {\"color\": \"rgba(50, 171, 96, 0.8999999999999999)\", \"line\": {\"width\": 1.3}, \"opacity\": 0.8, \"size\": 12, \"symbol\": \"circle\"}, \"mode\": \"markers+text\", \"name\": \"Germany\", \"text\": [\"Germany\"], \"textfont\": {\"color\": \"#4D5663\"}, \"textposition\": \"bottom center\", \"type\": \"scatter\", \"uid\": \"fddbabae-db26-4dce-956e-81a9c47f53b1\", \"x\": [48195.57990441158], \"y\": [86.8]}, {\"marker\": {\"color\": \"rgba(128, 0, 128, 0.8999999999999999)\", \"line\": {\"width\": 1.3}, \"opacity\": 0.8, \"size\": 12, \"symbol\": \"circle\"}, \"mode\": \"markers+text\", \"name\": \"Denmark\", \"text\": \"\", \"textfont\": {\"color\": \"#4D5663\"}, \"textposition\": \"bottom center\", \"type\": \"scatter\", \"uid\": \"ea38903f-2d6c-4e79-b433-2d407c9c0b58\", \"x\": [60726.46653515095], \"y\": [92.2]}, {\"marker\": {\"color\": \"rgba(219, 64, 82, 0.8999999999999999)\", \"line\": {\"width\": 1.3}, \"opacity\": 0.8, \"size\": 12, \"symbol\": \"circle\"}, \"mode\": \"markers+text\", \"name\": \"Spain\", \"text\": \"\", \"textfont\": {\"color\": \"#4D5663\"}, \"textposition\": \"bottom center\", \"type\": \"scatter\", \"uid\": \"33b0dc9d-1413-4cff-9334-403f7b9b1a3d\", \"x\": [30523.85923904735], \"y\": [80.8]}, {\"marker\": {\"color\": \"rgba(0, 128, 128, 0.8999999999999999)\", \"line\": {\"width\": 1.3}, \"opacity\": 0.8, \"size\": 12, \"symbol\": \"circle\"}, \"mode\": \"markers+text\", \"name\": \"Estonia\", \"text\": \"\", \"textfont\": {\"color\": \"#4D5663\"}, \"textposition\": \"bottom center\", \"type\": \"scatter\", \"uid\": \"06da33c6-cf7a-4457-8e83-3440d2deecba\", \"x\": [22927.744417419308], \"y\": [79.7]}, {\"marker\": {\"color\": \"rgba(255, 255, 51, 0.8999999999999999)\", \"line\": {\"width\": 1.3}, \"opacity\": 0.8, \"size\": 12, \"symbol\": \"circle\"}, \"mode\": \"markers+text\", \"name\": \"Finland\", \"text\": \"\", \"textfont\": {\"color\": \"#4D5663\"}, \"textposition\": \"bottom center\", \"type\": \"scatter\", \"uid\": \"d57f34b2-12e9-4414-a223-91f3d7392d19\", \"x\": [49648.149255483084], \"y\": [91.4]}, {\"marker\": {\"color\": \"rgba(128, 128, 0, 0.8999999999999999)\", \"line\": {\"width\": 1.3}, \"opacity\": 0.8, \"size\": 12, \"symbol\": \"circle\"}, \"mode\": \"markers+text\", \"name\": \"France\", \"text\": \"\", \"textfont\": {\"color\": \"#4D5663\"}, \"textposition\": \"bottom center\", \"type\": \"scatter\", \"uid\": \"33bae856-5061-432d-b38b-ba0d497a6031\", \"x\": [41463.64402270341], \"y\": [78.0]}, {\"marker\": {\"color\": \"rgba(251, 128, 114, 0.8999999999999999)\", \"line\": {\"width\": 1.3}, \"opacity\": 0.8, \"size\": 12, \"symbol\": \"circle\"}, \"mode\": \"markers+text\", \"name\": \"United Kingdom\", \"text\": [\"United Kingdom\"], \"textfont\": {\"color\": \"#4D5663\"}, \"textposition\": \"top left\", \"type\": \"scatter\", \"uid\": \"f7070883-0ba1-4edc-98e4-19a11aae4518\", \"x\": [42491.36443509728], \"y\": [85.3]}, {\"marker\": {\"color\": \"rgba(251, 128, 114, 0.7999999999999998)\", \"line\": {\"width\": 1.3}, \"opacity\": 0.8, \"size\": 12, \"symbol\": \"circle\"}, \"mode\": \"markers+text\", \"name\": \"Equatorial Guinea\", \"text\": \"\", \"textfont\": {\"color\": \"#4D5663\"}, \"textposition\": \"bottom center\", \"type\": \"scatter\", \"uid\": \"77a09fd6-4ee2-4aad-8194-36b7ef017cb1\", \"x\": [10173.963020188008], \"y\": [19.2]}, {\"marker\": {\"color\": \"rgba(128, 177, 211, 0.7999999999999998)\", \"line\": {\"width\": 1.3}, \"opacity\": 0.8, \"size\": 12, \"symbol\": \"circle\"}, \"mode\": \"markers+text\", \"name\": \"Greece\", \"text\": \"\", \"textfont\": {\"color\": \"#4D5663\"}, \"textposition\": \"bottom center\", \"type\": \"scatter\", \"uid\": \"0203594e-5474-4b98-96d6-6f8b4feba0d5\", \"x\": [20324.25356414775], \"y\": [72.9]}, {\"marker\": {\"color\": \"rgba(255, 153, 51, 0.7999999999999998)\", \"line\": {\"width\": 1.3}, \"opacity\": 0.8, \"size\": 12, \"symbol\": \"circle\"}, \"mode\": \"markers+text\", \"name\": \"Hong Kong\", \"text\": [\"Hong Kong\"], \"textfont\": {\"color\": \"navy\", \"size\": 18}, \"textposition\": \"bottom center\", \"type\": \"scatter\", \"uid\": \"763bfd20-4680-4c5c-b291-1d2a9a49cbe6\", \"x\": [48717.291214253804], \"y\": [61.5]}, {\"marker\": {\"color\": \"rgba(55, 128, 191, 0.7999999999999998)\", \"line\": {\"width\": 1.3}, \"opacity\": 0.8, \"size\": 12, \"symbol\": \"circle\"}, \"mode\": \"markers+text\", \"name\": \"Croatia\", \"text\": \"\", \"textfont\": {\"color\": \"#4D5663\"}, \"textposition\": \"bottom center\", \"type\": \"scatter\", \"uid\": \"7b942bf5-96cd-40b0-855c-cbeb14973bd4\", \"x\": [14869.090682304484], \"y\": [65.7]}, {\"marker\": {\"color\": \"rgba(50, 171, 96, 0.7999999999999998)\", \"line\": {\"width\": 1.3}, \"opacity\": 0.8, \"size\": 12, \"symbol\": \"circle\"}, \"mode\": \"markers+text\", \"name\": \"Hungary\", \"text\": \"\", \"textfont\": {\"color\": \"#4D5663\"}, \"textposition\": \"bottom center\", \"type\": \"scatter\", \"uid\": \"c5d1af3c-99a2-4267-a837-80093a083988\", \"x\": [15938.836796555373], \"y\": [66.3]}, {\"marker\": {\"color\": \"rgba(128, 0, 128, 0.7999999999999998)\", \"line\": {\"width\": 1.3}, \"opacity\": 0.8, \"size\": 12, \"symbol\": \"circle\"}, \"mode\": \"markers+text\", \"name\": \"Ireland\", \"text\": \"\", \"textfont\": {\"color\": \"#4D5663\"}, \"textposition\": \"bottom center\", \"type\": \"scatter\", \"uid\": \"2dadefbb-10c5-4000-aa09-84bf840a9de6\", \"x\": [78806.431996268], \"y\": [91.5]}, {\"marker\": {\"color\": \"rgba(219, 64, 82, 0.7999999999999998)\", \"line\": {\"width\": 1.3}, \"opacity\": 0.8, \"size\": 12, \"symbol\": \"circle\"}, \"mode\": \"markers+text\", \"name\": \"Iceland\", \"text\": \"\", \"textfont\": {\"color\": \"#4D5663\"}, \"textposition\": \"bottom center\", \"type\": \"scatter\", \"uid\": \"52e8bd5f-109a-41fd-ad4d-a140fc9d57d5\", \"x\": [73201.70254998512], \"y\": [95.8]}, {\"marker\": {\"color\": \"rgba(0, 128, 128, 0.7999999999999998)\", \"line\": {\"width\": 1.3}, \"opacity\": 0.8, \"size\": 12, \"symbol\": \"circle\"}, \"mode\": \"markers+text\", \"name\": \"Israel\", \"text\": \"\", \"textfont\": {\"color\": \"#4D5663\"}, \"textposition\": \"bottom center\", \"type\": \"scatter\", \"uid\": \"c214e329-e53e-4d37-b6e4-b43118b62d5c\", \"x\": [41613.99808217575], \"y\": [77.9]}, {\"marker\": {\"color\": \"rgba(255, 255, 51, 0.7999999999999998)\", \"line\": {\"width\": 1.3}, \"opacity\": 0.8, \"size\": 12, \"symbol\": \"circle\"}, \"mode\": \"markers+text\", \"name\": \"Italy\", \"text\": \"\", \"textfont\": {\"color\": \"#4D5663\"}, \"textposition\": \"bottom center\", \"type\": \"scatter\", \"uid\": \"181fdb99-d2a7-49ec-b153-45ac86ebb5c8\", \"x\": [34318.3511241724], \"y\": [77.1]}, {\"marker\": {\"color\": \"rgba(128, 128, 0, 0.7999999999999998)\", \"line\": {\"width\": 1.3}, \"opacity\": 0.8, \"size\": 12, \"symbol\": \"circle\"}, \"mode\": \"markers+text\", \"name\": \"Japan\", \"text\": [\"Japan\"], \"textfont\": {\"color\": \"#4D5663\"}, \"textposition\": \"bottom center\", \"type\": \"scatter\", \"uid\": \"74b9be02-a79f-4efb-8c65-0a8bd821022b\", \"x\": [39286.73764880077], \"y\": [79.9]}, {\"marker\": {\"color\": \"rgba(128, 128, 0, 0.7)\", \"line\": {\"width\": 1.3}, \"opacity\": 0.8, \"size\": 12, \"symbol\": \"circle\"}, \"mode\": \"markers+text\", \"name\": \"South Korea\", \"text\": [\"South Korea\"], \"textfont\": {\"color\": \"#4D5663\"}, \"textposition\": \"top center\", \"type\": \"scatter\", \"uid\": \"f9b6e2bc-647a-4742-b485-f228d606d314\", \"x\": [31362.751472940006], \"y\": [80.0]}, {\"marker\": {\"color\": \"rgba(251, 128, 114, 0.7)\", \"line\": {\"width\": 1.3}, \"opacity\": 0.8, \"size\": 12, \"symbol\": \"circle\"}, \"mode\": \"markers+text\", \"name\": \"Kuwait\", \"text\": \"\", \"textfont\": {\"color\": \"#4D5663\"}, \"textposition\": \"bottom center\", \"type\": \"scatter\", \"uid\": \"d2e019ab-920b-45ae-a701-5c4183eb4b20\", \"x\": [34243.95290985914], \"y\": [38.5]}, {\"marker\": {\"color\": \"rgba(128, 177, 211, 0.7)\", \"line\": {\"width\": 1.3}, \"opacity\": 0.8, \"size\": 12, \"symbol\": \"circle\"}, \"mode\": \"markers+text\", \"name\": \"Lithuania\", \"text\": \"\", \"textfont\": {\"color\": \"#4D5663\"}, \"textposition\": \"bottom center\", \"type\": \"scatter\", \"uid\": \"a2e4d1a4-c8f2-465d-a1e7-e598facac608\", \"x\": [19089.70750565638], \"y\": [75.0]}, {\"marker\": {\"color\": \"rgba(255, 153, 51, 0.7)\", \"line\": {\"width\": 1.3}, \"opacity\": 0.8, \"size\": 12, \"symbol\": \"circle\"}, \"mode\": \"markers+text\", \"name\": \"Luxembourg\", \"text\": \"\", \"textfont\": {\"color\": \"#4D5663\"}, \"textposition\": \"bottom center\", \"type\": \"scatter\", \"uid\": \"21eaba95-96f0-41e0-a713-b2ff70bc7c5b\", \"x\": [114340.49874177281], \"y\": [88.10000000000001]}, {\"marker\": {\"color\": \"rgba(55, 128, 191, 0.7)\", \"line\": {\"width\": 1.3}, \"opacity\": 0.8, \"size\": 12, \"symbol\": \"circle\"}, \"mode\": \"markers+text\", \"name\": \"Latvia\", \"text\": \"\", \"textfont\": {\"color\": \"#4D5663\"}, \"textposition\": \"bottom center\", \"type\": \"scatter\", \"uid\": \"7cd905e3-e005-4270-a41f-5619301b5855\", \"x\": [18088.92725186742], \"y\": [73.8]}, {\"marker\": {\"color\": \"rgba(50, 171, 96, 0.7)\", \"line\": {\"width\": 1.3}, \"opacity\": 0.8, \"size\": 12, \"symbol\": \"circle\"}, \"mode\": \"markers+text\", \"name\": \"Malta\", \"text\": \"\", \"textfont\": {\"color\": \"#4D5663\"}, \"textposition\": \"bottom center\", \"type\": \"scatter\", \"uid\": \"69c100eb-ba1d-4927-8583-56b62e21dcd3\", \"x\": [30074.741185095925], \"y\": [82.10000000000001]}, {\"marker\": {\"color\": \"rgba(128, 0, 128, 0.7)\", \"line\": {\"width\": 1.3}, \"opacity\": 0.8, \"size\": 12, \"symbol\": \"circle\"}, \"mode\": \"markers+text\", \"name\": \"Mauritius\", \"text\": \"\", \"textfont\": {\"color\": \"#4D5663\"}, \"textposition\": \"bottom center\", \"type\": \"scatter\", \"uid\": \"e84228d9-9a47-44f1-9940-bf709e9b8077\", \"x\": [11238.690394896143], \"y\": [82.2]}, {\"marker\": {\"color\": \"rgba(219, 64, 82, 0.7)\", \"line\": {\"width\": 1.3}, \"opacity\": 0.8, \"size\": 12, \"symbol\": \"circle\"}, \"mode\": \"markers+text\", \"name\": \"Malaysia\", \"text\": [\"Malaysia\"], \"textfont\": {\"color\": \"#4D5663\"}, \"textposition\": \"bottom left\", \"type\": \"scatter\", \"uid\": \"c9c54a9e-693f-4a9b-b2ed-72534689d54f\", \"x\": [11238.957372530129], \"y\": [68.8]}, {\"marker\": {\"color\": \"rgba(0, 128, 128, 0.7)\", \"line\": {\"width\": 1.3}, \"opacity\": 0.8, \"size\": 12, \"symbol\": \"circle\"}, \"mode\": \"markers+text\", \"name\": \"Netherlands\", \"text\": \"\", \"textfont\": {\"color\": \"#4D5663\"}, \"textposition\": \"bottom center\", \"type\": \"scatter\", \"uid\": \"2575fd56-b85c-49f5-8513-3c70a7904cee\", \"x\": [53024.059213053115], \"y\": [88.9]}, {\"marker\": {\"color\": \"rgba(255, 255, 51, 0.7)\", \"line\": {\"width\": 1.3}, \"opacity\": 0.8, \"size\": 12, \"symbol\": \"circle\"}, \"mode\": \"markers+text\", \"name\": \"Norway\", \"text\": \"\", \"textfont\": {\"color\": \"#4D5663\"}, \"textposition\": \"bottom center\", \"type\": \"scatter\", \"uid\": \"c7268c82-efd8-4dc6-8671-d8974ae77625\", \"x\": [81807.19803867598], \"y\": [98.69999999999999]}, {\"marker\": {\"color\": \"rgba(255, 255, 51, 0.5999999999999999)\", \"line\": {\"width\": 1.3}, \"opacity\": 0.8, \"size\": 12, \"symbol\": \"circle\"}, \"mode\": \"markers+text\", \"name\": \"New Zealand\", \"text\": \"\", \"textfont\": {\"color\": \"#4D5663\"}, \"textposition\": \"bottom center\", \"type\": \"scatter\", \"uid\": \"7af56b40-d1d4-4990-8f05-d4ddb36b5b3f\", \"x\": [41966.00918463738], \"y\": [92.6]}, {\"marker\": {\"color\": \"rgba(128, 128, 0, 0.5999999999999999)\", \"line\": {\"width\": 1.3}, \"opacity\": 0.8, \"size\": 12, \"symbol\": \"circle\"}, \"mode\": \"markers+text\", \"name\": \"Oman\", \"text\": \"\", \"textfont\": {\"color\": \"#4D5663\"}, \"textposition\": \"bottom center\", \"type\": \"scatter\", \"uid\": \"8939f50e-2632-47c4-916f-cad40c51c07e\", \"x\": [16418.92692831584], \"y\": [30.4]}, {\"marker\": {\"color\": \"rgba(251, 128, 114, 0.5999999999999999)\", \"line\": {\"width\": 1.3}, \"opacity\": 0.8, \"size\": 12, \"symbol\": \"circle\"}, \"mode\": \"markers+text\", \"name\": \"Panama\", \"text\": \"\", \"textfont\": {\"color\": \"#4D5663\"}, \"textposition\": \"bottom center\", \"type\": \"scatter\", \"uid\": \"95a75a17-b8e9-4472-93bb-7ed3b238c728\", \"x\": [15575.07254829151], \"y\": [70.5]}, {\"marker\": {\"color\": \"rgba(128, 177, 211, 0.5999999999999999)\", \"line\": {\"width\": 1.3}, \"opacity\": 0.8, \"size\": 12, \"symbol\": \"circle\"}, \"mode\": \"markers+text\", \"name\": \"Poland\", \"text\": \"\", \"textfont\": {\"color\": \"#4D5663\"}, \"textposition\": \"bottom center\", \"type\": \"scatter\", \"uid\": \"4f717c9f-12fb-4cdf-986f-963f36245f06\", \"x\": [15424.046025445443], \"y\": [66.7]}, {\"marker\": {\"color\": \"rgba(255, 153, 51, 0.5999999999999999)\", \"line\": {\"width\": 1.3}, \"opacity\": 0.8, \"size\": 12, \"symbol\": \"circle\"}, \"mode\": \"markers+text\", \"name\": \"Portugal\", \"text\": \"\", \"textfont\": {\"color\": \"#4D5663\"}, \"textposition\": \"bottom center\", \"type\": \"scatter\", \"uid\": \"3932e237-a58c-4d42-b9ab-4017e893f533\", \"x\": [23145.73495625951], \"y\": [78.4]}, {\"marker\": {\"color\": \"rgba(55, 128, 191, 0.5999999999999999)\", \"line\": {\"width\": 1.3}, \"opacity\": 0.8, \"size\": 12, \"symbol\": \"circle\"}, \"mode\": \"markers+text\", \"name\": \"Qatar\", \"text\": [\"Qatar\"], \"textfont\": {\"color\": \"#4D5663\"}, \"textposition\": \"bottom center\", \"type\": \"scatter\", \"uid\": \"ef243fa6-7ecd-4890-9030-c9c41a608cec\", \"x\": [69026.4688025751], \"y\": [31.9]}, {\"marker\": {\"color\": \"rgba(50, 171, 96, 0.5999999999999999)\", \"line\": {\"width\": 1.3}, \"opacity\": 0.8, \"size\": 12, \"symbol\": \"circle\"}, \"mode\": \"markers+text\", \"name\": \"Romania\", \"text\": \"\", \"textfont\": {\"color\": \"#4D5663\"}, \"textposition\": \"bottom center\", \"type\": \"scatter\", \"uid\": \"c38ea6de-5c4d-45f9-8072-8b9a82ef291c\", \"x\": [12301.186403430165], \"y\": [63.8]}, {\"marker\": {\"color\": \"rgba(128, 0, 128, 0.5999999999999999)\", \"line\": {\"width\": 1.3}, \"opacity\": 0.8, \"size\": 12, \"symbol\": \"circle\"}, \"mode\": \"markers+text\", \"name\": \"Russia\", \"text\": [\"Russia\"], \"textfont\": {\"color\": \"#4D5663\"}, \"textposition\": \"bottom center\", \"type\": \"scatter\", \"uid\": \"4f4d97f4-857a-4310-a6c3-59ff6feaf0be\", \"x\": [11288.8724435206], \"y\": [29.4]}, {\"marker\": {\"color\": \"rgba(219, 64, 82, 0.5999999999999999)\", \"line\": {\"width\": 1.3}, \"opacity\": 0.8, \"size\": 12, \"symbol\": \"circle\"}, \"mode\": \"markers+text\", \"name\": \"Saudi Arabia\", \"text\": \"\", \"textfont\": {\"color\": \"#4D5663\"}, \"textposition\": \"bottom center\", \"type\": \"scatter\", \"uid\": \"b097029c-ca88-412f-982e-6249e74dc1be\", \"x\": [23219.13048310333], \"y\": [19.3]}, {\"marker\": {\"color\": \"rgba(0, 128, 128, 0.5999999999999999)\", \"line\": {\"width\": 1.3}, \"opacity\": 0.8, \"size\": 12, \"symbol\": \"circle\"}, \"mode\": \"markers+text\", \"name\": \"Singapore\", \"text\": [\"Singapore\"], \"textfont\": {\"color\": \"#4D5663\"}, \"textposition\": \"bottom center\", \"type\": \"scatter\", \"uid\": \"aa3deed0-552a-47cd-9a7d-48cce87bb5cd\", \"x\": [64581.94401839536], \"y\": [63.8]}, {\"marker\": {\"color\": \"rgba(0, 128, 128, 0.49999999999999983)\", \"line\": {\"width\": 1.3}, \"opacity\": 0.8, \"size\": 12, \"symbol\": \"circle\"}, \"mode\": \"markers+text\", \"name\": \"Slovakia\", \"text\": \"\", \"textfont\": {\"color\": \"#4D5663\"}, \"textposition\": \"bottom center\", \"type\": \"scatter\", \"uid\": \"df0dfff8-6e31-4a40-b35e-f12de9efb6f0\", \"x\": [19546.901902851343], \"y\": [71.0]}, {\"marker\": {\"color\": \"rgba(255, 255, 51, 0.49999999999999983)\", \"line\": {\"width\": 1.3}, \"opacity\": 0.8, \"size\": 12, \"symbol\": \"circle\"}, \"mode\": \"markers+text\", \"name\": \"Slovenia\", \"text\": \"\", \"textfont\": {\"color\": \"#4D5663\"}, \"textposition\": \"bottom center\", \"type\": \"scatter\", \"uid\": \"9009bebc-1d5d-418a-b9ce-db76926105ff\", \"x\": [26234.022896250564], \"y\": [75.0]}, {\"marker\": {\"color\": \"rgba(128, 128, 0, 0.49999999999999983)\", \"line\": {\"width\": 1.3}, \"opacity\": 0.8, \"size\": 12, \"symbol\": \"circle\"}, \"mode\": \"markers+text\", \"name\": \"Sweden\", \"text\": \"\", \"textfont\": {\"color\": \"#4D5663\"}, \"textposition\": \"bottom center\", \"type\": \"scatter\", \"uid\": \"c2de62d1-2b1a-4e9d-aa91-cef9cdecc412\", \"x\": [54111.97217236705], \"y\": [93.9]}, {\"marker\": {\"color\": \"rgba(251, 128, 114, 0.49999999999999983)\", \"line\": {\"width\": 1.3}, \"opacity\": 0.8, \"size\": 12, \"symbol\": \"circle\"}, \"mode\": \"markers+text\", \"name\": \"Trinidad and Tobago\", \"text\": \"\", \"textfont\": {\"color\": \"#4D5663\"}, \"textposition\": \"bottom center\", \"type\": \"scatter\", \"uid\": \"09921941-3afb-4fad-9781-a47f8283e965\", \"x\": [16843.701611713033], \"y\": [71.6]}, {\"marker\": {\"color\": \"rgba(128, 177, 211, 0.49999999999999983)\", \"line\": {\"width\": 1.3}, \"opacity\": 0.8, \"size\": 12, \"symbol\": \"circle\"}, \"mode\": \"markers+text\", \"name\": \"Uruguay\", \"text\": \"\", \"textfont\": {\"color\": \"#4D5663\"}, \"textposition\": \"bottom center\", \"type\": \"scatter\", \"uid\": \"91b1e0eb-68b5-4fd4-ae63-70126d0544d7\", \"x\": [17277.97011054961], \"y\": [83.80000000000001]}, {\"marker\": {\"color\": \"rgba(255, 153, 51, 0.49999999999999983)\", \"line\": {\"width\": 1.3}, \"opacity\": 0.8, \"size\": 12, \"symbol\": \"circle\"}, \"mode\": \"markers+text\", \"name\": \"United States\", \"text\": [\"United States\"], \"textfont\": {\"color\": \"#4D5663\"}, \"textposition\": \"bottom center\", \"type\": \"scatter\", \"uid\": \"5cd0bc36-4c7e-49b9-999e-f599cee26bea\", \"x\": [62641.01456992813], \"y\": [79.6]}],\n",
       "                        {\"legend\": {\"bgcolor\": \"#FFFFFF\", \"font\": {\"color\": \"#4D5663\"}}, \"paper_bgcolor\": \"#FFFFFF\", \"plot_bgcolor\": \"#FFFFFF\", \"showlegend\": false, \"title\": {\"font\": {\"color\": \"#4D5663\"}, \"text\": \"Political and Economic power, per person, 2018.\"}, \"xaxis\": {\"gridcolor\": \"#E1E5ED\", \"showgrid\": true, \"tickfont\": {\"color\": \"#4D5663\"}, \"title\": {\"font\": {\"color\": \"#4D5663\"}, \"text\": \"GDP Per Capita, USD in Log Scale (World Bank)<br> Optimistically assuming China grows at 8% per year, China is about 21 years behind HK today.\"}, \"type\": \"log\", \"zerolinecolor\": \"#E1E5ED\"}, \"yaxis\": {\"gridcolor\": \"#E1E5ED\", \"showgrid\": true, \"tickfont\": {\"color\": \"#4D5663\"}, \"title\": {\"font\": {\"color\": \"#4D5663\"}, \"text\": \"Democracy Index (The Economist, Intelligence Unit)\"}, \"zerolinecolor\": \"#E1E5ED\"}},\n",
       "                        {\"showLink\": true, \"linkText\": \"Export to plot.ly\", \"plotlyServerURL\": \"https://plot.ly\", \"responsive\": true}\n",
       "                    ).then(function(){\n",
       "                            \n",
       "var gd = document.getElementById('76059106-400a-4272-910e-835800aae90b');\n",
       "var x = new MutationObserver(function (mutations, observer) {{\n",
       "        var display = window.getComputedStyle(gd).display;\n",
       "        if (!display || display === 'none') {{\n",
       "            console.log([gd, 'removed!']);\n",
       "            Plotly.purge(gd);\n",
       "            observer.disconnect();\n",
       "        }}\n",
       "}});\n",
       "\n",
       "// Listen for the removal of the full notebook cells\n",
       "var notebookContainer = gd.closest('#notebook-container');\n",
       "if (notebookContainer) {{\n",
       "    x.observe(notebookContainer, {childList: true});\n",
       "}}\n",
       "\n",
       "// Listen for the clearing of the current output cell\n",
       "var outputEl = gd.closest('.output');\n",
       "if (outputEl) {{\n",
       "    x.observe(outputEl, {childList: true});\n",
       "}}\n",
       "\n",
       "                        }).then(function(){\n",
       "                            function downloadimage(format, height, width, filename) {var p = document.getElementById('76059106-400a-4272-910e-835800aae90b');Plotly.downloadImage(p, {format: format, height: height, width: width, filename: filename});};if(document.readyState == 'complete') {downloadimage('png', 500, 800, 'pol_econ_power');}\n",
       "                        })\n",
       "                };\n",
       "                });\n",
       "            </script>\n",
       "        </div>"
      ]
     },
     "metadata": {},
     "output_type": "display_data"
    }
   ],
   "source": [
    "figure.iplot(filename='pol_econ_power', asImage=True)"
   ]
  },
  {
   "cell_type": "code",
   "execution_count": 23,
   "metadata": {
    "scrolled": true
   },
   "outputs": [
    {
     "name": "stdout",
     "output_type": "stream",
     "text": [
      "Assume China grows at 8%, Hong Kong 0%, it would take China 20.65 years to catch up.\n",
      "Assume China grows at 8%, Hong Kong 2%, it would take China 27.80 years to catch up.\n"
     ]
    }
   ],
   "source": [
    "import math\n",
    "\n",
    "def get_catch_up_msg(a, b, growth_a, growth_b, base_a, base_b):\n",
    "    num_years = math.log(base_b / base_a, ((100 + growth_a) / (100 + growth_b)))\n",
    "    msg = (\n",
    "        'Assume {a} grows at {growth_a}%, {b} {growth_b}%, '\n",
    "        'it would take {a} {0:.2f} years to catch up.'\n",
    "    )\n",
    "    return msg.format(num_years, **locals())\n",
    "    \n",
    "print(get_catch_up_msg('China', 'Hong Kong', 8, 0, 10000, 49000))\n",
    "print(get_catch_up_msg('China', 'Hong Kong', 8, 2, 10000, 49000))"
   ]
  },
  {
   "cell_type": "markdown",
   "metadata": {},
   "source": [
    "> Taiwan, China, is not listed as a separate country for World Development Indicators. \n",
    "> For most indicators, Taiwan, China, data is not added to the data for China, \n",
    "> but Taiwan, China, is added to the world aggregate and the high-income countries aggregate.\n",
    ">\n",
    "> -- <cite>[World Bank](https://datahelpdesk.worldbank.org/knowledgebase/articles/114933-where-are-your-data-on-taiwan) </cite>"
   ]
  },
  {
   "cell_type": "code",
   "execution_count": 24,
   "metadata": {},
   "outputs": [],
   "source": [
    "def get_num_years_to_current_level(current_level, starting_level, starting_rate, rate_decrease_per_ten_years):\n",
    "    level = starting_level\n",
    "    rate = starting_rate\n",
    "    for idx, _ in enumerate(range(100)):\n",
    "        level *= (1 + rate / 100)\n",
    "        if idx % 10 == 0 and idx > 0:\n",
    "            rate -= rate_decrease_per_ten_years\n",
    "            if rate < 0:\n",
    "                break\n",
    "        if level > current_level:\n",
    "            return(idx)\n"
   ]
  },
  {
   "cell_type": "code",
   "execution_count": 25,
   "metadata": {},
   "outputs": [
    {
     "name": "stdout",
     "output_type": "stream",
     "text": [
      "25\n"
     ]
    }
   ],
   "source": [
    "print(get_num_years_to_current_level(49000, 10000, 8, 2))"
   ]
  },
  {
   "cell_type": "code",
   "execution_count": 26,
   "metadata": {},
   "outputs": [],
   "source": [
    "def get_level_after_thirty_years(starting_level, starting_rate, rate_decrease_per_ten_years):\n",
    "    level = starting_level\n",
    "    rate = starting_rate\n",
    "    for idx in range(30):\n",
    "        level *= (1 + rate / 100)\n",
    "        if idx % 10 == 0 and idx > 0:\n",
    "            rate -= rate_decrease_per_ten_years\n",
    "    return level"
   ]
  },
  {
   "cell_type": "code",
   "execution_count": 27,
   "metadata": {},
   "outputs": [
    {
     "name": "stdout",
     "output_type": "stream",
     "text": [
      "59431.95502551923\n"
     ]
    }
   ],
   "source": [
    "print(get_level_after_thirty_years(10000, 8, 2))"
   ]
  },
  {
   "cell_type": "code",
   "execution_count": 28,
   "metadata": {},
   "outputs": [
    {
     "data": {
      "text/plain": [
       "88756.71762106438"
      ]
     },
     "execution_count": 28,
     "metadata": {},
     "output_type": "execute_result"
    }
   ],
   "source": [
    "49000 * 1.02 ** 30"
   ]
  }
 ],
 "metadata": {
  "kernelspec": {
   "display_name": "Python 3",
   "language": "python",
   "name": "python3"
  },
  "language_info": {
   "codemirror_mode": {
    "name": "ipython",
    "version": 3
   },
   "file_extension": ".py",
   "mimetype": "text/x-python",
   "name": "python",
   "nbconvert_exporter": "python",
   "pygments_lexer": "ipython3",
   "version": "3.6.0"
  }
 },
 "nbformat": 4,
 "nbformat_minor": 2
}
